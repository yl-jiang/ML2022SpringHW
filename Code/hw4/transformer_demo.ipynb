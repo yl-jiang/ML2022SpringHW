{
 "cells": [
  {
   "cell_type": "code",
   "execution_count": 1,
   "id": "53a3da5a-53e0-48d9-b9bf-38a0f72c65b5",
   "metadata": {},
   "outputs": [],
   "source": [
    "import math\n",
    "import torch\n",
    "import numpy as np\n",
    "import torch.nn as nn\n",
    "import torch.optim as optim\n",
    "import torch.utils.data as Data"
   ]
  },
  {
   "cell_type": "code",
   "execution_count": 2,
   "id": "cd89966e-ceb7-4a24-a34e-7ae49e4ed5b1",
   "metadata": {},
   "outputs": [
    {
     "data": {
      "text/plain": [
       "tensor([], size=(1, 0))"
      ]
     },
     "execution_count": 2,
     "metadata": {},
     "output_type": "execute_result"
    }
   ],
   "source": [
    "torch.zeros(1, 0)"
   ]
  },
  {
   "cell_type": "code",
   "execution_count": 3,
   "id": "95f7d985-068a-41d9-badb-ef27bec34558",
   "metadata": {},
   "outputs": [],
   "source": [
    "# S: Symbol that shows starting of decoding input\n",
    "# E: Symbol that shows starting of decoding output\n",
    "# P: Symbol that will fill in blank sequence if current batch data size is short than time steps\n",
    "sentences = [\n",
    "        # enc_input                dec_input            dec_output\n",
    "        ['ich mochte ein bier P', 'S i want a beer .', 'i want a beer . E'],\n",
    "        ['ich mochte ein cola P', 'S i want a coke .', 'i want a coke . E']\n",
    "]\n",
    "\n",
    "# Padding Should be Zero\n",
    "src_vocab = {'P' : 0, 'ich' : 1, 'mochte' : 2, 'ein' : 3, 'bier' : 4, 'cola' : 5}\n",
    "src_vocab_size = len(src_vocab)\n",
    "\n",
    "tgt_vocab = {'P' : 0, 'i' : 1, 'want' : 2, 'a' : 3, 'beer' : 4, 'coke' : 5, 'S' : 6, 'E' : 7, '.' : 8}\n",
    "idx2word = {i: w for i, w in enumerate(tgt_vocab)}\n",
    "tgt_vocab_size = len(tgt_vocab)\n",
    "\n",
    "src_len = 5 # enc_input max sequence length\n",
    "tgt_len = 6 # dec_input(=dec_output) max sequence length"
   ]
  },
  {
   "cell_type": "code",
   "execution_count": 4,
   "id": "816a3ebc-d4ed-4e1b-a54d-caf91cec7478",
   "metadata": {},
   "outputs": [],
   "source": [
    "def make_data(sentences):\n",
    "    enc_inputs, dec_inputs, dec_outputs = [], [], []\n",
    "    for i in range(len(sentences)):\n",
    "        enc_input = [[src_vocab[n] for n in sentences[i][0].split()]] # [[1, 2, 3, 4, 0], [1, 2, 3, 5, 0]]\n",
    "        dec_input = [[tgt_vocab[n] for n in sentences[i][1].split()]] # [[6, 1, 2, 3, 4, 8], [6, 1, 2, 3, 5, 8]]\n",
    "        dec_output = [[tgt_vocab[n] for n in sentences[i][2].split()]] # [[1, 2, 3, 4, 8, 7], [1, 2, 3, 5, 8, 7]]\n",
    "\n",
    "        enc_inputs.extend(enc_input)\n",
    "        dec_inputs.extend(dec_input)\n",
    "        dec_outputs.extend(dec_output)\n",
    "\n",
    "    return torch.LongTensor(enc_inputs), torch.LongTensor(dec_inputs), torch.LongTensor(dec_outputs)\n",
    "\n",
    "enc_inputs, dec_inputs, dec_outputs = make_data(sentences)"
   ]
  },
  {
   "cell_type": "markdown",
   "id": "f603b9c5-4b22-4665-9eef-bed0c1865383",
   "metadata": {},
   "source": [
    "## Dataset"
   ]
  },
  {
   "cell_type": "code",
   "execution_count": 5,
   "id": "4668e73e-2eed-44dd-b7d2-c7a273a601d0",
   "metadata": {},
   "outputs": [],
   "source": [
    "class MyDataSet(Data.Dataset):\n",
    "    def __init__(self, enc_inputs, dec_inputs, dec_outputs):\n",
    "        super(MyDataSet, self).__init__()\n",
    "        self.enc_inputs = enc_inputs\n",
    "        self.dec_inputs = dec_inputs\n",
    "        self.dec_outputs = dec_outputs\n",
    "\n",
    "    def __len__(self):\n",
    "        return self.enc_inputs.shape[0]\n",
    "\n",
    "    def __getitem__(self, idx):\n",
    "        return self.enc_inputs[idx], self.dec_inputs[idx], self.dec_outputs[idx]\n",
    "\n",
    "loader = Data.DataLoader(MyDataSet(enc_inputs, dec_inputs, dec_outputs), 2, True)"
   ]
  },
  {
   "cell_type": "markdown",
   "id": "1f3928dd-c023-433a-b383-3060ec4a33c6",
   "metadata": {},
   "source": [
    "## Hyper-Parameters"
   ]
  },
  {
   "cell_type": "code",
   "execution_count": 6,
   "id": "e2241daf-a745-4d7f-9aa3-f2ea6b2b21c2",
   "metadata": {},
   "outputs": [],
   "source": [
    "# Transformer Parameters\n",
    "d_model = 512  # Embedding Size\n",
    "d_ff = 2048 # FeedForward dimension\n",
    "d_k = d_v = 64  # dimension of K(=Q), V\n",
    "n_layers = 6  # number of Encoder and Decoder Layer\n",
    "n_heads = 8  # number of heads in Multi-Head Attention\n",
    "device = 'cuda' if torch.cuda.is_available() else 'cpu'"
   ]
  },
  {
   "cell_type": "markdown",
   "id": "f8b0aa5e-0668-48af-8388-fba901be3fab",
   "metadata": {},
   "source": [
    "## Positional Embedding"
   ]
  },
  {
   "cell_type": "code",
   "execution_count": 7,
   "id": "0be32b33-24fd-4df2-9beb-9fd65dce8a0f",
   "metadata": {},
   "outputs": [],
   "source": [
    "class PositionalEncoding(nn.Module):\n",
    "    def __init__(self, d_model, dropout=0.1, max_len=5000):\n",
    "        super(PositionalEncoding, self).__init__()\n",
    "        self.dropout = nn.Dropout(p=dropout)\n",
    "\n",
    "        pe = torch.zeros(max_len, d_model)\n",
    "        position = torch.arange(0, max_len, dtype=torch.float).unsqueeze(1)\n",
    "        div_term = torch.exp(torch.arange(0, d_model, 2).float() * (-math.log(10000.0) / d_model))\n",
    "        pe[:, 0::2] = torch.sin(position * div_term)\n",
    "        pe[:, 1::2] = torch.cos(position * div_term)\n",
    "        pe = pe.unsqueeze(0).transpose(0, 1)\n",
    "        self.register_buffer('pe', pe)\n",
    "\n",
    "    def forward(self, x):\n",
    "        '''\n",
    "        x: [seq_len, batch_size, d_model]\n",
    "        '''\n",
    "        x = x + self.pe[:x.size(0), :]\n",
    "        return self.dropout(x)"
   ]
  },
  {
   "cell_type": "markdown",
   "id": "1a9a692e-2bcd-4d2c-86a0-0facad339ee5",
   "metadata": {},
   "source": []
  },
  {
   "cell_type": "code",
   "execution_count": 8,
   "id": "ab95a991-669c-46f0-9b0c-bc4d2afea3ce",
   "metadata": {},
   "outputs": [],
   "source": [
    "class ScaledDotProductAttention(nn.Module):\n",
    "    def __init__(self):\n",
    "        super(ScaledDotProductAttention, self).__init__()\n",
    "\n",
    "    def forward(self, Q, K, V, attn_mask):\n",
    "        '''\n",
    "        Q: [batch_size, n_heads, len_q, d_k]\n",
    "        K: [batch_size, n_heads, len_k, d_k]\n",
    "        V: [batch_size, n_heads, len_v(=len_k), d_v]\n",
    "        attn_mask: [batch_size, n_heads, seq_len, seq_len]\n",
    "        '''\n",
    "        scores = torch.matmul(Q, K.transpose(-1, -2)) / np.sqrt(d_k) # scores : [batch_size, n_heads, len_q, len_k]\n",
    "        scores.masked_fill_(attn_mask, -1e9) # Fills elements of self tensor with value where mask is True.\n",
    "        \n",
    "        attn = nn.Softmax(dim=-1)(scores)\n",
    "        context = torch.matmul(attn, V) # [batch_size, n_heads, len_q, d_v]\n",
    "        return context, attn\n",
    "    \n",
    "    \n",
    "def get_attn_pad_mask(seq_q, seq_k):\n",
    "    '''\n",
    "    seq_q: [batch_size, seq_len]\n",
    "    seq_k: [batch_size, seq_len]\n",
    "    seq_len could be src_len or it could be tgt_len\n",
    "    seq_len in seq_q and seq_len in seq_k maybe not equal\n",
    "    '''\n",
    "    batch_size, len_q = seq_q.size()\n",
    "    batch_size, len_k = seq_k.size()\n",
    "    # eq(zero) is PAD token\n",
    "    pad_attn_mask = seq_k.data.eq(0).unsqueeze(1)  # [batch_size, 1, len_k], True is masked\n",
    "    return pad_attn_mask.expand(batch_size, len_q, len_k)  # [batch_size, len_q, len_k]\n"
   ]
  },
  {
   "cell_type": "markdown",
   "id": "08486225-8aeb-4e7c-8ae1-36770a93ab89",
   "metadata": {},
   "source": [
    "## MultiHead Self-Attention"
   ]
  },
  {
   "cell_type": "code",
   "execution_count": 9,
   "id": "674e18c2-757b-4480-afe7-527ff6dda92f",
   "metadata": {},
   "outputs": [],
   "source": [
    "class MultiHeadAttention(nn.Module):\n",
    "    \n",
    "    def __init__(self):\n",
    "        super(MultiHeadAttention, self).__init__()\n",
    "        self.W_Q = nn.Linear(d_model, d_k * n_heads, bias=False)\n",
    "        self.W_K = nn.Linear(d_model, d_k * n_heads, bias=False)\n",
    "        self.W_V = nn.Linear(d_model, d_v * n_heads, bias=False)\n",
    "        self.fc = nn.Linear(n_heads * d_v, d_model, bias=False)\n",
    "        \n",
    "    def forward(self, input_Q, input_K, input_V, attn_mask):\n",
    "        '''\n",
    "        input_Q: [batch_size, len_q, d_model]\n",
    "        input_K: [batch_size, len_k, d_model]\n",
    "        input_V: [batch_size, len_v(=len_k), d_model]\n",
    "        attn_mask: [batch_size, seq_len, seq_len]\n",
    "        '''\n",
    "        residual, batch_size = input_Q, input_Q.size(0)\n",
    "        # (B, S, D) -proj-> (B, S, D_new) -split-> (B, S, H, W) -trans-> (B, H, S, W)\n",
    "        Q = self.W_Q(input_Q).view(batch_size, -1, n_heads, d_k).transpose(1,2)  # Q: [batch_size, n_heads, len_q, d_k]\n",
    "        K = self.W_K(input_K).view(batch_size, -1, n_heads, d_k).transpose(1,2)  # K: [batch_size, n_heads, len_k, d_k]\n",
    "        V = self.W_V(input_V).view(batch_size, -1, n_heads, d_v).transpose(1,2)  # V: [batch_size, n_heads, len_v(=len_k), d_v]\n",
    "\n",
    "        attn_mask = attn_mask.unsqueeze(1).repeat(1, n_heads, 1, 1) # attn_mask : [batch_size, n_heads, seq_len, seq_len]\n",
    "\n",
    "        # context: [batch_size, n_heads, len_q, d_v], attn: [batch_size, n_heads, len_q, len_k]\n",
    "        context, attn = ScaledDotProductAttention()(Q, K, V, attn_mask)\n",
    "        context = context.transpose(1, 2).reshape(batch_size, -1, n_heads * d_v) # context: [batch_size, len_q, n_heads * d_v]\n",
    "        output = self.fc(context) # [batch_size, len_q, d_model]\n",
    "        return nn.LayerNorm(d_model).to(device)(output + residual), attn"
   ]
  },
  {
   "cell_type": "markdown",
   "id": "264abf2d-61b6-467b-9123-86c81898f72e",
   "metadata": {},
   "source": [
    "## FeedForward"
   ]
  },
  {
   "cell_type": "code",
   "execution_count": 10,
   "id": "def0c44a-6018-493b-a8c5-908e9b378a8b",
   "metadata": {},
   "outputs": [],
   "source": [
    "class PoswiseFeedForwardNet(nn.Module):\n",
    "    def __init__(self):\n",
    "        super(PoswiseFeedForwardNet, self).__init__()\n",
    "        self.fc = nn.Sequential(\n",
    "            nn.Linear(d_model, d_ff, bias=False),\n",
    "            nn.ReLU(),\n",
    "            nn.Linear(d_ff, d_model, bias=False)\n",
    "        )\n",
    "    def forward(self, inputs):\n",
    "        '''\n",
    "        inputs: [batch_size, seq_len, d_model]\n",
    "        '''\n",
    "        residual = inputs\n",
    "        output = self.fc(inputs)\n",
    "        return nn.LayerNorm(d_model).to(device)(output + residual) # [batch_size, seq_len, d_model]\n"
   ]
  },
  {
   "cell_type": "markdown",
   "id": "4a6353ec-fa0d-420d-8956-08456ec7c93e",
   "metadata": {},
   "source": [
    "## Encoder"
   ]
  },
  {
   "cell_type": "code",
   "execution_count": 11,
   "id": "0d6fca74-6f30-4549-b46e-784569f4bb15",
   "metadata": {},
   "outputs": [],
   "source": [
    "class EncoderLayer(nn.Module):\n",
    "    \n",
    "    def __init__(self):\n",
    "        super(EncoderLayer, self).__init__()\n",
    "        self.enc_self_attn = MultiHeadAttention()\n",
    "        self.pos_ffn = PoswiseFeedForwardNet()\n",
    "\n",
    "    def forward(self, enc_inputs, enc_self_attn_mask):\n",
    "        '''\n",
    "        enc_inputs: [batch_size, src_len, d_model]\n",
    "        enc_self_attn_mask: [batch_size, src_len, src_len]\n",
    "        '''\n",
    "        # enc_outputs: [batch_size, src_len, d_model], attn: [batch_size, n_heads, src_len, src_len]\n",
    "        enc_outputs, attn = self.enc_self_attn(enc_inputs, enc_inputs, enc_inputs, enc_self_attn_mask) # enc_inputs to same Q,K,V\n",
    "        enc_outputs = self.pos_ffn(enc_outputs) # enc_outputs: [batch_size, src_len, d_model]\n",
    "        return enc_outputs, attn\n",
    "    \n",
    "\n",
    "class Encoder(nn.Module):\n",
    "    def __init__(self):\n",
    "        super(Encoder, self).__init__()\n",
    "        self.src_emb = nn.Embedding(src_vocab_size, d_model)\n",
    "        self.pos_emb = PositionalEncoding(d_model)\n",
    "        self.layers = nn.ModuleList([EncoderLayer() for _ in range(n_layers)])\n",
    "\n",
    "    def forward(self, enc_inputs):\n",
    "        '''\n",
    "        enc_inputs: [batch_size, src_len]\n",
    "        '''\n",
    "        enc_outputs = self.src_emb(enc_inputs) # [batch_size, src_len, d_model]\n",
    "        enc_outputs = self.pos_emb(enc_outputs.transpose(0, 1)).transpose(0, 1) # [batch_size, src_len, d_model]\n",
    "        enc_self_attn_mask = get_attn_pad_mask(enc_inputs, enc_inputs) # [batch_size, src_len, src_len]\n",
    "        enc_self_attns = []\n",
    "        for layer in self.layers:\n",
    "            # enc_outputs: [batch_size, src_len, d_model], enc_self_attn: [batch_size, n_heads, src_len, src_len]\n",
    "            enc_outputs, enc_self_attn = layer(enc_outputs, enc_self_attn_mask)\n",
    "            enc_self_attns.append(enc_self_attn)\n",
    "        return enc_outputs, enc_self_attns"
   ]
  },
  {
   "cell_type": "markdown",
   "id": "209e2791-f742-4306-9667-d69a5bd3aea5",
   "metadata": {},
   "source": [
    "## Decoder"
   ]
  },
  {
   "cell_type": "code",
   "execution_count": 12,
   "id": "7de810f8-1a5e-4000-bf96-8e4b5884cf26",
   "metadata": {},
   "outputs": [],
   "source": [
    "def get_attn_subsequence_mask(seq):\n",
    "    '''\n",
    "    seq: [batch_size, tgt_len]\n",
    "    '''\n",
    "    attn_shape = [seq.size(0), seq.size(1), seq.size(1)]\n",
    "    subsequence_mask = np.triu(np.ones(attn_shape), k=1) # Upper triangular matrix\n",
    "    subsequence_mask = torch.from_numpy(subsequence_mask).byte()\n",
    "    return subsequence_mask # [batch_size, tgt_len, tgt_len]\n",
    "\n",
    "\n",
    "class DecoderLayer(nn.Module):\n",
    "    def __init__(self):\n",
    "        super(DecoderLayer, self).__init__()\n",
    "        self.dec_self_attn = MultiHeadAttention()\n",
    "        self.dec_enc_attn = MultiHeadAttention()\n",
    "        self.pos_ffn = PoswiseFeedForwardNet()\n",
    "\n",
    "    def forward(self, dec_inputs, enc_outputs, dec_self_attn_mask, dec_enc_attn_mask):\n",
    "        '''\n",
    "        dec_inputs: [batch_size, tgt_len, d_model]\n",
    "        enc_outputs: [batch_size, src_len, d_model]\n",
    "        dec_self_attn_mask: [batch_size, tgt_len, tgt_len]\n",
    "        dec_enc_attn_mask: [batch_size, tgt_len, src_len]\n",
    "        '''\n",
    "        # dec_outputs: [batch_size, tgt_len, d_model], dec_self_attn: [batch_size, n_heads, tgt_len, tgt_len]\n",
    "        dec_outputs, dec_self_attn = self.dec_self_attn(dec_inputs, dec_inputs, dec_inputs, dec_self_attn_mask)\n",
    "        # dec_outputs: [batch_size, tgt_len, d_model], dec_enc_attn: [batch_size, h_heads, tgt_len, src_len]\n",
    "        dec_outputs, dec_enc_attn = self.dec_enc_attn(dec_outputs, enc_outputs, enc_outputs, dec_enc_attn_mask)\n",
    "        dec_outputs = self.pos_ffn(dec_outputs) # [batch_size, tgt_len, d_model]\n",
    "        return dec_outputs, dec_self_attn, dec_enc_attn\n",
    "    \n",
    "    \n",
    "class Decoder(nn.Module):\n",
    "    def __init__(self):\n",
    "        super(Decoder, self).__init__()\n",
    "        self.tgt_emb = nn.Embedding(tgt_vocab_size, d_model)\n",
    "        self.pos_emb = PositionalEncoding(d_model)\n",
    "        self.layers = nn.ModuleList([DecoderLayer() for _ in range(n_layers)])\n",
    "\n",
    "    def forward(self, dec_inputs, enc_inputs, enc_outputs):\n",
    "        '''\n",
    "        dec_inputs: [batch_size, tgt_len]\n",
    "        enc_intpus: [batch_size, src_len]\n",
    "        enc_outputs: [batch_size, src_len, d_model]\n",
    "        '''\n",
    "        dec_outputs = self.tgt_emb(dec_inputs) # [batch_size, tgt_len, d_model]\n",
    "        dec_outputs = self.pos_emb(dec_outputs.transpose(0, 1)).transpose(0, 1).to(device) # [batch_size, tgt_len, d_model]\n",
    "        dec_self_attn_pad_mask = get_attn_pad_mask(dec_inputs, dec_inputs).to(device) # [batch_size, tgt_len, tgt_len]\n",
    "        dec_self_attn_subsequence_mask = get_attn_subsequence_mask(dec_inputs).to(device) # [batch_size, tgt_len, tgt_len]\n",
    "        dec_self_attn_mask = torch.gt((dec_self_attn_pad_mask + dec_self_attn_subsequence_mask), 0).to(device) # [batch_size, tgt_len, tgt_len]\n",
    "\n",
    "        dec_enc_attn_mask = get_attn_pad_mask(dec_inputs, enc_inputs) # [batc_size, tgt_len, src_len]\n",
    "\n",
    "        dec_self_attns, dec_enc_attns = [], []\n",
    "        for layer in self.layers:\n",
    "            # dec_outputs: [batch_size, tgt_len, d_model], dec_self_attn: [batch_size, n_heads, tgt_len, tgt_len], dec_enc_attn: [batch_size, h_heads, tgt_len, src_len]\n",
    "            dec_outputs, dec_self_attn, dec_enc_attn = layer(dec_outputs, enc_outputs, dec_self_attn_mask, dec_enc_attn_mask)\n",
    "            dec_self_attns.append(dec_self_attn)\n",
    "            dec_enc_attns.append(dec_enc_attn)\n",
    "        return dec_outputs, dec_self_attns, dec_enc_attns"
   ]
  },
  {
   "cell_type": "markdown",
   "id": "b1f7c245-8f2c-41ec-ba28-10c5a1e7933d",
   "metadata": {},
   "source": [
    "## Transformer"
   ]
  },
  {
   "cell_type": "code",
   "execution_count": 13,
   "id": "05dcdf2a-36f8-4824-9c90-1a1cb763a01d",
   "metadata": {},
   "outputs": [],
   "source": [
    "class Transformer(nn.Module):\n",
    "    def __init__(self):\n",
    "        super(Transformer, self).__init__()\n",
    "        self.encoder = Encoder().to(device)\n",
    "        self.decoder = Decoder().to(device)\n",
    "        self.projection = nn.Linear(d_model, tgt_vocab_size, bias=False).to(device)\n",
    "    def forward(self, enc_inputs, dec_inputs):\n",
    "        '''\n",
    "        enc_inputs: [batch_size, src_len]\n",
    "        dec_inputs: [batch_size, tgt_len]\n",
    "        '''\n",
    "        # tensor to store decoder outputs\n",
    "        # outputs = torch.zeros(batch_size, tgt_len, tgt_vocab_size).to(self.device)\n",
    "        \n",
    "        # enc_outputs: [batch_size, src_len, d_model], enc_self_attns: [n_layers, batch_size, n_heads, src_len, src_len]\n",
    "        enc_outputs, enc_self_attns = self.encoder(enc_inputs)\n",
    "        # dec_outpus: [batch_size, tgt_len, d_model], dec_self_attns: [n_layers, batch_size, n_heads, tgt_len, tgt_len], dec_enc_attn: [n_layers, batch_size, tgt_len, src_len]\n",
    "        dec_outputs, dec_self_attns, dec_enc_attns = self.decoder(dec_inputs, enc_inputs, enc_outputs)\n",
    "        dec_logits = self.projection(dec_outputs) # dec_logits: [batch_size, tgt_len, tgt_vocab_size]\n",
    "        return dec_logits.view(-1, dec_logits.size(-1)), enc_self_attns, dec_self_attns, dec_enc_attns"
   ]
  },
  {
   "cell_type": "markdown",
   "id": "d45d9aa9-59a7-4370-9892-4c108ee7d707",
   "metadata": {},
   "source": [
    "## Loss Function, Optimizer, Build Model"
   ]
  },
  {
   "cell_type": "code",
   "execution_count": 14,
   "id": "d02e8057-ba49-421a-9543-9b6bcd189303",
   "metadata": {},
   "outputs": [],
   "source": [
    "model = Transformer().to(device)\n",
    "criterion = nn.CrossEntropyLoss(ignore_index=0)\n",
    "optimizer = optim.SGD(model.parameters(), lr=1e-3, momentum=0.99)"
   ]
  },
  {
   "cell_type": "markdown",
   "id": "bb983ab1-796d-4283-9d36-409367ccff81",
   "metadata": {},
   "source": [
    "## Training"
   ]
  },
  {
   "cell_type": "code",
   "execution_count": 15,
   "id": "a97c6d57-4678-47f1-bda4-7398ca69c218",
   "metadata": {
    "collapsed": true,
    "jupyter": {
     "outputs_hidden": true
    },
    "tags": []
   },
   "outputs": [
    {
     "name": "stdout",
     "output_type": "stream",
     "text": [
      "Epoch: 0001 loss = 2.442555\n",
      "Epoch: 0002 loss = 2.302979\n",
      "Epoch: 0003 loss = 2.004403\n",
      "Epoch: 0004 loss = 1.729069\n",
      "Epoch: 0005 loss = 1.545672\n",
      "Epoch: 0006 loss = 1.305618\n",
      "Epoch: 0007 loss = 1.170568\n",
      "Epoch: 0008 loss = 0.970382\n",
      "Epoch: 0009 loss = 0.773528\n",
      "Epoch: 0010 loss = 0.626426\n",
      "Epoch: 0011 loss = 0.494509\n",
      "Epoch: 0012 loss = 0.371787\n",
      "Epoch: 0013 loss = 0.300054\n",
      "Epoch: 0014 loss = 0.225563\n",
      "Epoch: 0015 loss = 0.202197\n",
      "Epoch: 0016 loss = 0.175099\n",
      "Epoch: 0017 loss = 0.144860\n",
      "Epoch: 0018 loss = 0.119164\n",
      "Epoch: 0019 loss = 0.108222\n",
      "Epoch: 0020 loss = 0.083551\n",
      "Epoch: 0021 loss = 0.075947\n",
      "Epoch: 0022 loss = 0.070668\n",
      "Epoch: 0023 loss = 0.050202\n",
      "Epoch: 0024 loss = 0.051368\n",
      "Epoch: 0025 loss = 0.034443\n",
      "Epoch: 0026 loss = 0.035041\n",
      "Epoch: 0027 loss = 0.019944\n",
      "Epoch: 0028 loss = 0.015764\n",
      "Epoch: 0029 loss = 0.017365\n",
      "Epoch: 0030 loss = 0.020829\n"
     ]
    }
   ],
   "source": [
    "for epoch in range(30):\n",
    "    for enc_inputs, dec_inputs, dec_outputs in loader:\n",
    "        '''\n",
    "        enc_inputs: [batch_size, src_len]\n",
    "        dec_inputs: [batch_size, tgt_len]\n",
    "        dec_outputs: [batch_size, tgt_len]\n",
    "        '''\n",
    "        enc_inputs, dec_inputs, dec_outputs = enc_inputs.to(device), dec_inputs.to(device), dec_outputs.to(device)\n",
    "        # outputs: [batch_size * tgt_len, tgt_vocab_size]\n",
    "        outputs, enc_self_attns, dec_self_attns, dec_enc_attns = model(enc_inputs, dec_inputs)\n",
    "        loss = criterion(outputs, dec_outputs.view(-1))\n",
    "        print('Epoch:', '%04d' % (epoch + 1), 'loss =', '{:.6f}'.format(loss))\n",
    "\n",
    "        optimizer.zero_grad()\n",
    "        loss.backward()\n",
    "        optimizer.step()"
   ]
  },
  {
   "cell_type": "markdown",
   "id": "d5313c5e-2dd4-4bca-8b20-f0db1a8f585b",
   "metadata": {},
   "source": [
    "## Testing"
   ]
  },
  {
   "cell_type": "code",
   "execution_count": 16,
   "id": "c310598d-ed52-4e2a-9e41-b677d4bd0442",
   "metadata": {},
   "outputs": [
    {
     "name": "stdout",
     "output_type": "stream",
     "text": [
      "tensor([1, 2, 3, 5, 0]) -> ['i', 'want', 'a', 'coke', '.']\n",
      "tensor([1, 2, 3, 4, 0]) -> ['i', 'want', 'a', 'beer', '.']\n"
     ]
    }
   ],
   "source": [
    "def greedy_decoder(model, enc_input, start_symbol):\n",
    "    \"\"\"\n",
    "    For simplicity, a Greedy Decoder is Beam search when K=1. This is necessary for inference as we don't know the\n",
    "    target sequence input. Therefore we try to generate the target input word by word, then feed it into the transformer.\n",
    "    Starting Reference: http://nlp.seas.harvard.edu/2018/04/03/attention.html#greedy-decoding\n",
    "    :param model: Transformer Model\n",
    "    :param enc_input: The encoder input\n",
    "    :param start_symbol: The start symbol. In this example it is 'S' which corresponds to index 4\n",
    "    :return: The target input\n",
    "    \"\"\"\n",
    "    enc_outputs, enc_self_attns = model.encoder(enc_input)\n",
    "    dec_input = torch.zeros(1, 0).type_as(enc_input.data)\n",
    "    terminal = False\n",
    "    next_symbol = start_symbol\n",
    "    while not terminal:         \n",
    "        dec_input = torch.cat([dec_input.detach(),torch.tensor([[next_symbol]],dtype=enc_input.dtype).to(device)],-1)\n",
    "        dec_outputs, _, _ = model.decoder(dec_input, enc_input, enc_outputs)\n",
    "        projected = model.projection(dec_outputs)\n",
    "        prob = projected.squeeze(0).max(dim=-1, keepdim=False)[1]\n",
    "        next_word = prob.data[-1]\n",
    "        next_symbol = next_word\n",
    "        if next_symbol == tgt_vocab[\".\"]:\n",
    "            terminal = True\n",
    "        # print(next_word)            \n",
    "    return dec_input\n",
    "\n",
    "# Test\n",
    "enc_inputs, _, _ = next(iter(loader))\n",
    "enc_inputs = enc_inputs.to(device)\n",
    "for i in range(len(enc_inputs)):\n",
    "    greedy_dec_input = greedy_decoder(model, enc_inputs[i].view(1, -1), start_symbol=tgt_vocab[\"S\"])\n",
    "    predict, _, _, _ = model(enc_inputs[i].view(1, -1), greedy_dec_input)\n",
    "    predict = predict.data.max(1, keepdim=True)[1]\n",
    "    print(enc_inputs[i], '->', [idx2word[n.item()] for n in predict.squeeze()])"
   ]
  },
  {
   "cell_type": "markdown",
   "id": "3687f62a-d6a9-4d22-8233-d4f6097fce47",
   "metadata": {},
   "source": [
    "## torch.nn.Transformer"
   ]
  },
  {
   "cell_type": "code",
   "execution_count": 17,
   "id": "6240802f-bbdc-46bb-b381-539e6d6eec2a",
   "metadata": {},
   "outputs": [],
   "source": [
    "transformer = nn.Transformer(d_model = d_model, nhead= n_heads, num_encoder_layers=n_layers, num_decoder_layers=n_layers, dim_feedforward=d_ff)\n",
    "src_mask = transformer.generate_square_subsequent_mask(src_len)\n",
    "tgt_mask = transformer.generate_square_subsequent_mask(tgt_len)\n",
    "src_key_padding_mask = enc_inputs.data.eq(0)                    # [N,S]\n",
    "tgt_key_padding_mask = dec_inputs.data.eq(0)                   # [N,T]"
   ]
  },
  {
   "cell_type": "code",
   "execution_count": 18,
   "id": "82bf7aea-21b1-4645-a71c-612fba449855",
   "metadata": {},
   "outputs": [
    {
     "data": {
      "text/plain": [
       "tensor([[0., -inf, -inf, -inf, -inf, -inf],\n",
       "        [0., 0., -inf, -inf, -inf, -inf],\n",
       "        [0., 0., 0., -inf, -inf, -inf],\n",
       "        [0., 0., 0., 0., -inf, -inf],\n",
       "        [0., 0., 0., 0., 0., -inf],\n",
       "        [0., 0., 0., 0., 0., 0.]])"
      ]
     },
     "execution_count": 18,
     "metadata": {},
     "output_type": "execute_result"
    }
   ],
   "source": [
    "tgt_mask"
   ]
  },
  {
   "cell_type": "code",
   "execution_count": 19,
   "id": "fadcda86-80be-4d8a-8702-14a54f29ae18",
   "metadata": {},
   "outputs": [],
   "source": [
    "# Transformer Parameters\n",
    "d_model = 512  # Embedding Size\n",
    "d_ff = 2048  # FeedForward dimension\n",
    "n_layers = 6  # number of Encoder of Decoder Layer\n",
    "n_heads = 8  # number of heads in Multi-Head Attention\n",
    "\n",
    "class myTransformer(nn.Module):\n",
    "    \n",
    "    def __init__(self):\n",
    "        super(myTransformer, self).__init__()\n",
    "        self.transformer = nn.Transformer(d_model = d_model, nhead= n_heads, num_encoder_layers=n_layers, num_decoder_layers=n_layers, dim_feedforward=d_ff)\n",
    "        self.src_emb = nn.Embedding(src_vocab_size, d_model)\n",
    "        self.pos_emb = PositionalEncoding(d_model)\n",
    "        self.tgt_emb = nn.Embedding(tgt_vocab_size, d_model)\n",
    "        self.projection = nn.Linear(d_model, tgt_vocab_size, bias=False).to(device)\n",
    "        \n",
    "    def forward(self, enc_inputs, dec_inputs):\n",
    "        '''\n",
    "        enc_inputs: [batch_size, src_len], [1,2,3,4,0]\n",
    "        dec_inputs: [batch_size, tgt_len], [6,1,2,3,5,8]\n",
    "        '''\n",
    "        b, src_len = enc_inputs.shape[0], enc_inputs.shape[1]\n",
    "        b, tgt_len = dec_inputs.shape[0], dec_inputs.shape[1]\n",
    "\n",
    "        tgt_mask = self.transformer.generate_square_subsequent_mask(tgt_len).to(device)\n",
    "        src_key_padding_mask = enc_inputs.data.eq(0).to(device)                     # [N,S]\n",
    "        tgt_key_padding_mask = dec_inputs.data.eq(0).to(device)                   # [N,T]\n",
    "        memory_key_padding_mask = src_key_padding_mask                 # [N,S]\n",
    "        # 嵌入向量\n",
    "        enc_outputs = self.src_emb(enc_inputs)  # [batch_size, src_len, d_model]\n",
    "        enc_outputs = self.pos_emb(enc_outputs.transpose(0, 1)).to(device)  # [ src_len, batch_size, d_model]\n",
    "        dec_outputs = self.tgt_emb(dec_inputs)  # [batch_size, tgt_len, d_model]\n",
    "        dec_outputs = self.pos_emb(dec_outputs.transpose(0, 1)).to(device)  # [ tgt_len,batch_size, d_model]\n",
    "        #送入Transformer\n",
    "        dec_outputs  = self.transformer(src= enc_outputs, tgt = dec_outputs, src_mask = None, tgt_mask = tgt_mask,\n",
    "                                        memory_mask = None, src_key_padding_mask = src_key_padding_mask,\n",
    "                                        tgt_key_padding_mask = tgt_key_padding_mask, memory_key_padding_mask = memory_key_padding_mask)\n",
    "\n",
    "        # 维度变换\n",
    "        dec_logits = self.projection(dec_outputs.transpose(0,1))  # dec_logits: [batch_size, tgt_len, tgt_vocab_size]\n",
    "        return dec_logits.view(-1, dec_logits.size(-1)), None, None, None"
   ]
  },
  {
   "cell_type": "code",
   "execution_count": 20,
   "id": "964aa923-9a21-4c93-b0e7-e433658f7744",
   "metadata": {},
   "outputs": [],
   "source": [
    "model = myTransformer().to(device)\n",
    "criterion = nn.CrossEntropyLoss(ignore_index=0)\n",
    "optimizer = optim.SGD(model.parameters(), lr=1e-3, momentum=0.99)"
   ]
  },
  {
   "cell_type": "markdown",
   "id": "b6b6a18b-66bd-4a14-9de4-72a4d068a77c",
   "metadata": {},
   "source": [
    "**针对这个小例子来说，使用torch.nn.Transformer相比于手动实现的Transformer需要更多训练时长！**"
   ]
  },
  {
   "cell_type": "code",
   "execution_count": 21,
   "id": "d3ce9554-9e41-4a45-99b7-9c42f65891d3",
   "metadata": {
    "collapsed": true,
    "jupyter": {
     "outputs_hidden": true
    },
    "scrolled": true,
    "tags": []
   },
   "outputs": [
    {
     "name": "stdout",
     "output_type": "stream",
     "text": [
      "Epoch: 0001 loss = 2.201510\n",
      "Epoch: 0002 loss = 2.113342\n",
      "Epoch: 0003 loss = 2.097215\n",
      "Epoch: 0004 loss = 1.990091\n",
      "Epoch: 0005 loss = 1.881428\n",
      "Epoch: 0006 loss = 2.007476\n",
      "Epoch: 0007 loss = 1.937080\n",
      "Epoch: 0008 loss = 1.797754\n",
      "Epoch: 0009 loss = 1.919278\n",
      "Epoch: 0010 loss = 1.883025\n",
      "Epoch: 0011 loss = 1.846775\n",
      "Epoch: 0012 loss = 1.750051\n",
      "Epoch: 0013 loss = 1.816348\n",
      "Epoch: 0014 loss = 1.878251\n",
      "Epoch: 0015 loss = 1.866123\n",
      "Epoch: 0016 loss = 1.871668\n",
      "Epoch: 0017 loss = 1.851526\n",
      "Epoch: 0018 loss = 1.804221\n",
      "Epoch: 0019 loss = 1.880223\n",
      "Epoch: 0020 loss = 1.792453\n",
      "Epoch: 0021 loss = 1.809443\n",
      "Epoch: 0022 loss = 1.754809\n",
      "Epoch: 0023 loss = 1.866413\n",
      "Epoch: 0024 loss = 1.556293\n",
      "Epoch: 0025 loss = 1.772262\n",
      "Epoch: 0026 loss = 1.728924\n",
      "Epoch: 0027 loss = 1.641099\n",
      "Epoch: 0028 loss = 1.560665\n",
      "Epoch: 0029 loss = 1.550694\n",
      "Epoch: 0030 loss = 1.677315\n",
      "Epoch: 0031 loss = 1.609611\n",
      "Epoch: 0032 loss = 1.617911\n",
      "Epoch: 0033 loss = 1.570035\n",
      "Epoch: 0034 loss = 1.347871\n",
      "Epoch: 0035 loss = 1.302498\n",
      "Epoch: 0036 loss = 1.289523\n",
      "Epoch: 0037 loss = 1.381609\n",
      "Epoch: 0038 loss = 1.125260\n",
      "Epoch: 0039 loss = 1.112775\n",
      "Epoch: 0040 loss = 0.949511\n",
      "Epoch: 0041 loss = 0.840631\n",
      "Epoch: 0042 loss = 0.925090\n",
      "Epoch: 0043 loss = 0.800111\n",
      "Epoch: 0044 loss = 0.886072\n",
      "Epoch: 0045 loss = 0.536708\n",
      "Epoch: 0046 loss = 0.457209\n",
      "Epoch: 0047 loss = 0.478828\n",
      "Epoch: 0048 loss = 0.422790\n",
      "Epoch: 0049 loss = 0.527934\n",
      "Epoch: 0050 loss = 0.311884\n",
      "Epoch: 0051 loss = 0.382888\n",
      "Epoch: 0052 loss = 0.352337\n",
      "Epoch: 0053 loss = 0.332004\n",
      "Epoch: 0054 loss = 0.252717\n",
      "Epoch: 0055 loss = 0.194371\n",
      "Epoch: 0056 loss = 0.311250\n",
      "Epoch: 0057 loss = 0.219491\n",
      "Epoch: 0058 loss = 0.168031\n",
      "Epoch: 0059 loss = 0.182721\n",
      "Epoch: 0060 loss = 0.123511\n",
      "Epoch: 0061 loss = 0.174076\n",
      "Epoch: 0062 loss = 0.126586\n",
      "Epoch: 0063 loss = 0.220358\n",
      "Epoch: 0064 loss = 0.206462\n",
      "Epoch: 0065 loss = 0.062032\n",
      "Epoch: 0066 loss = 0.064080\n",
      "Epoch: 0067 loss = 0.065473\n",
      "Epoch: 0068 loss = 0.065295\n",
      "Epoch: 0069 loss = 0.072386\n",
      "Epoch: 0070 loss = 0.079673\n",
      "Epoch: 0071 loss = 0.121762\n",
      "Epoch: 0072 loss = 0.101991\n",
      "Epoch: 0073 loss = 0.063345\n",
      "Epoch: 0074 loss = 0.046826\n",
      "Epoch: 0075 loss = 0.033357\n",
      "Epoch: 0076 loss = 0.035716\n",
      "Epoch: 0077 loss = 0.029570\n",
      "Epoch: 0078 loss = 0.029508\n",
      "Epoch: 0079 loss = 0.019042\n",
      "Epoch: 0080 loss = 0.018923\n",
      "Epoch: 0081 loss = 0.026418\n",
      "Epoch: 0082 loss = 0.061218\n",
      "Epoch: 0083 loss = 0.029763\n",
      "Epoch: 0084 loss = 0.057028\n",
      "Epoch: 0085 loss = 0.057756\n",
      "Epoch: 0086 loss = 0.107278\n",
      "Epoch: 0087 loss = 0.011828\n",
      "Epoch: 0088 loss = 0.009016\n",
      "Epoch: 0089 loss = 0.003870\n",
      "Epoch: 0090 loss = 0.022171\n",
      "Epoch: 0091 loss = 0.007172\n",
      "Epoch: 0092 loss = 0.024441\n",
      "Epoch: 0093 loss = 0.036691\n",
      "Epoch: 0094 loss = 0.034229\n",
      "Epoch: 0095 loss = 0.017891\n",
      "Epoch: 0096 loss = 0.049593\n",
      "Epoch: 0097 loss = 0.012802\n",
      "Epoch: 0098 loss = 0.033697\n",
      "Epoch: 0099 loss = 0.076312\n",
      "Epoch: 0100 loss = 0.096453\n"
     ]
    }
   ],
   "source": [
    "for epoch in range(100):\n",
    "    for enc_inputs, dec_inputs, dec_outputs in loader:\n",
    "        '''\n",
    "        enc_inputs: [batch_size, src_len]\n",
    "        dec_inputs: [batch_size, tgt_len]\n",
    "        dec_outputs: [batch_size, tgt_len]\n",
    "        '''\n",
    "        enc_inputs, dec_inputs, dec_outputs = enc_inputs.to(device), dec_inputs.to(device), dec_outputs.to(device)\n",
    "        # outputs: [batch_size * tgt_len, tgt_vocab_size]\n",
    "        outputs, enc_self_attns, dec_self_attns, dec_enc_attns = model(enc_inputs, dec_inputs)\n",
    "        loss = criterion(outputs, dec_outputs.view(-1))\n",
    "        print('Epoch:', '%04d' % (epoch + 1), 'loss =', '{:.6f}'.format(loss))\n",
    "\n",
    "        optimizer.zero_grad()\n",
    "        loss.backward()\n",
    "        optimizer.step()"
   ]
  },
  {
   "cell_type": "code",
   "execution_count": 22,
   "id": "67b53c5f-3ee3-4bab-9a70-6e874eb04d21",
   "metadata": {},
   "outputs": [
    {
     "name": "stdout",
     "output_type": "stream",
     "text": [
      "tensor(1)\n",
      "tensor(2)\n",
      "tensor(3)\n",
      "tensor(5)\n",
      "tensor(8)\n",
      "tensor([1, 2, 3, 5, 0]) -> ['i', 'want', 'a', 'coke', '.']\n",
      "tensor(1)\n",
      "tensor(2)\n",
      "tensor(3)\n",
      "tensor(4)\n",
      "tensor(8)\n",
      "tensor([1, 2, 3, 4, 0]) -> ['i', 'want', 'a', 'beer', '.']\n"
     ]
    }
   ],
   "source": [
    "def greedy_decoder(model, enc_input, start_symbol):\n",
    "    \"\"\"\n",
    "    For simplicity, a Greedy Decoder is Beam search when K=1. This is necessary for inference as we don't know the\n",
    "    target sequence input. Therefore we try to generate the target input word by word, then feed it into the transformer.\n",
    "    Starting Reference: http://nlp.seas.harvard.edu/2018/04/03/attention.html#greedy-decoding\n",
    "    :param model: Transformer Model\n",
    "    :param enc_input: The encoder input\n",
    "    :param start_symbol: The start symbol. In this example it is 'S' which corresponds to index 4\n",
    "    :return: The target input\n",
    "    \"\"\"\n",
    "    #enc_outputs, enc_self_attns = model.encoder(enc_input)\n",
    "    dec_input = torch.zeros(1, 0).type_as(enc_input.data)\n",
    "    terminal = False\n",
    "    next_symbol = start_symbol\n",
    "    while not terminal:\n",
    "        dec_input = torch.cat([dec_input.detach(),torch.tensor([[next_symbol]],dtype=enc_input.dtype).to(device)],-1)\n",
    "        dec_outputs, _, _,_ = model(enc_input, dec_input)\n",
    "        #projected = model.projection(dec_outputs)\n",
    "        prob = dec_outputs.max(dim=-1, keepdim=False)[1]\n",
    "        #print('prob:',prob)      #prob: tensor([1], device='cuda:0')\n",
    "        next_word = prob.data[-1]\n",
    "        next_symbol = next_word\n",
    "        if next_symbol == tgt_vocab[\".\"]:\n",
    "            terminal = True\n",
    "        print(next_word)\n",
    "    return dec_input\n",
    "\n",
    "# Test\n",
    "enc_inputs, _, _ = next(iter(loader))\n",
    "enc_inputs = enc_inputs.to(device)\n",
    "for i in range(len(enc_inputs)):\n",
    "    greedy_dec_input = greedy_decoder(model, enc_inputs[i].view(1, -1), start_symbol=tgt_vocab[\"S\"])\n",
    "    predict, _, _, _ = model(enc_inputs[i].view(1, -1), greedy_dec_input)\n",
    "    predict = predict.data.max(1, keepdim=True)[1]\n",
    "    print(enc_inputs[i], '->', [idx2word[n.item()] for n in predict.squeeze()])"
   ]
  },
  {
   "cell_type": "code",
   "execution_count": null,
   "id": "9bf56cd2-c265-48b7-bbfe-503b87e23bca",
   "metadata": {},
   "outputs": [],
   "source": []
  }
 ],
 "metadata": {
  "kernelspec": {
   "display_name": "Python 3 (ipykernel)",
   "language": "python",
   "name": "python3"
  },
  "language_info": {
   "codemirror_mode": {
    "name": "ipython",
    "version": 3
   },
   "file_extension": ".py",
   "mimetype": "text/x-python",
   "name": "python",
   "nbconvert_exporter": "python",
   "pygments_lexer": "ipython3",
   "version": "3.8.11"
  }
 },
 "nbformat": 4,
 "nbformat_minor": 5
}
