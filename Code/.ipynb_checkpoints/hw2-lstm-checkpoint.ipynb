{
 "cells": [
  {
   "cell_type": "code",
   "execution_count": 1,
   "metadata": {
    "tags": []
   },
   "outputs": [],
   "source": [
    "import os\n",
    "import random\n",
    "import pandas as pd\n",
    "import torch\n",
    "from tqdm import tqdm\n",
    "from torch.nn.utils.rnn import pad_sequence"
   ]
  },
  {
   "cell_type": "code",
   "execution_count": 2,
   "metadata": {
    "tags": []
   },
   "outputs": [],
   "source": [
    "def load_feat(path):\n",
    "    feat = torch.load(path)\n",
    "#     print(feat.shape)\n",
    "    return feat\n",
    "\n",
    "def shift(x, n):\n",
    "    if n < 0:\n",
    "        left = x[0].repeat(-n, 1)\n",
    "        right = x[:n]\n",
    "\n",
    "    elif n > 0:\n",
    "        right = x[-1].repeat(n, 1)\n",
    "        left = x[n:]\n",
    "    else:\n",
    "        return x\n",
    "\n",
    "    return torch.cat((left, right), dim=0)\n",
    "\n",
    "\n",
    "def concat_feat(x, concat_n):\n",
    "    assert concat_n % 2 == 1 # n must be odd\n",
    "    if concat_n < 2:\n",
    "        return x\n",
    "    seq_len, feature_dim = x.size(0), x.size(1)\n",
    "    x = x.repeat(1, concat_n) \n",
    "    x = x.view(seq_len, concat_n, feature_dim).permute(1, 0, 2) # concat_n, seq_len, feature_dim\n",
    "    mid = (concat_n // 2)\n",
    "    for r_idx in range(1, mid+1):\n",
    "        x[mid + r_idx, :] = shift(x[mid + r_idx], r_idx)\n",
    "        x[mid - r_idx, :] = shift(x[mid - r_idx], -r_idx)\n",
    "\n",
    "    return x.permute(1, 0, 2).view(seq_len, concat_n * feature_dim)\n",
    "\n",
    "\n",
    "def preprocess_data(split, feat_dir, phone_path, concat_nframes, train_ratio=0.8, train_val_seed=1337):\n",
    "    class_num = 41 # NOTE: pre-computed, should not need change\n",
    "    mode = 'train' if (split == 'train' or split == 'val') else 'test'\n",
    "\n",
    "    label_dict = {}\n",
    "    if mode != 'test':\n",
    "        phone_file = open(os.path.join(phone_path, f'{mode}_labels.txt')).readlines()\n",
    "        for line in phone_file:\n",
    "            line = line.strip('\\n').split(' ')\n",
    "            label_dict[line[0]] = [int(p) for p in line[1:]]\n",
    "\n",
    "    if split == 'train' or split == 'val':\n",
    "        # split training and validation data\n",
    "        usage_list = open(os.path.join(phone_path, 'train_split.txt')).readlines()\n",
    "        random.seed(train_val_seed)\n",
    "        random.shuffle(usage_list)\n",
    "        percent = int(len(usage_list) * train_ratio)\n",
    "        usage_list = usage_list[:percent] if split == 'train' else usage_list[percent:]\n",
    "    elif split == 'test':\n",
    "        usage_list = open(os.path.join(phone_path, 'test_split.txt')).readlines()\n",
    "    else:\n",
    "        raise ValueError('Invalid \\'split\\' argument for dataset: PhoneDataset!')\n",
    "\n",
    "    usage_list = [line.strip('\\n') for line in usage_list]\n",
    "    print('[Dataset] - # phone classes: ' + str(class_num) + ', number of utterances for ' + split + ': ' + str(len(usage_list)))\n",
    "\n",
    "    X = []\n",
    "    if mode != 'test':\n",
    "        y = []\n",
    "    \n",
    "    for i, fname in tqdm(enumerate(usage_list)):\n",
    "        feat = load_feat(os.path.join(feat_dir, mode, f'{fname}.pt'))\n",
    "        feat = concat_feat(feat, concat_nframes)\n",
    "        X.append(feat)\n",
    "        \n",
    "        if mode != 'test':\n",
    "            label = torch.LongTensor(label_dict[fname])\n",
    "\n",
    "        if mode != 'test':\n",
    "            y.append(label)\n",
    "\n",
    "    print(f'[INFO] {split} set')\n",
    "    print(len(X))\n",
    "    if mode != 'test':\n",
    "        print(len(y))\n",
    "        return X, y\n",
    "    else:\n",
    "        return X"
   ]
  },
  {
   "cell_type": "code",
   "execution_count": 3,
   "metadata": {
    "tags": []
   },
   "outputs": [
    {
     "name": "stdout",
     "output_type": "stream",
     "text": [
      "2007-149877-0023\n"
     ]
    },
    {
     "data": {
      "text/plain": [
       "(torch.Size([500, 39]), 500)"
      ]
     },
     "execution_count": 3,
     "metadata": {},
     "output_type": "execute_result"
    }
   ],
   "source": [
    "x_ = torch.load('../Dataset/hw2/libriphone/libriphone/feat/train/2007-149877-0023.pt')\n",
    "f_ = open('../Dataset/hw2/libriphone/libriphone/train_labels.txt').readlines()\n",
    "filename = f_[0].strip('\\n').split(' ')[0]\n",
    "print(filename)\n",
    "y_ = line = f_[0].strip('\\n').split(' ')[1:]\n",
    "x_.shape, len(y_)"
   ]
  },
  {
   "cell_type": "markdown",
   "metadata": {},
   "source": [
    "## Dataloader"
   ]
  },
  {
   "cell_type": "code",
   "execution_count": 4,
   "metadata": {
    "tags": []
   },
   "outputs": [
    {
     "name": "stdout",
     "output_type": "stream",
     "text": [
      "[Dataset] - # phone classes: 41, number of utterances for train: 3428\n"
     ]
    },
    {
     "name": "stderr",
     "output_type": "stream",
     "text": [
      "3428it [00:04, 759.51it/s]\n"
     ]
    },
    {
     "name": "stdout",
     "output_type": "stream",
     "text": [
      "[INFO] train set\n",
      "3428\n",
      "3428\n"
     ]
    },
    {
     "data": {
      "text/plain": [
       "(torch.Size([998, 3428, 39]), torch.Size([998, 3428]))"
      ]
     },
     "execution_count": 4,
     "metadata": {},
     "output_type": "execute_result"
    }
   ],
   "source": [
    "X, y = preprocess_data('train', feat_dir='../Dataset/hw2/libriphone/libriphone/feat', phone_path='../Dataset/hw2/libriphone/libriphone', concat_nframes=1, train_ratio=0.8, train_val_seed=1337)\n",
    "\n",
    "from torch.nn.utils.rnn import pad_sequence\n",
    "train_x = pad_sequence(X)  # (seq_len, data_len, feat_dim)\n",
    "train_y = pad_sequence(y)  # (seq_len, data_len)\n",
    "\n",
    "train_x.shape, train_y.shape"
   ]
  },
  {
   "cell_type": "code",
   "execution_count": 5,
   "metadata": {
    "tags": []
   },
   "outputs": [],
   "source": [
    "import torch\n",
    "from torch.utils.data import Dataset\n",
    "from torch.utils.data import DataLoader\n",
    "\n",
    "class LibriDataset(Dataset):\n",
    "    def __init__(self, X, y=None):\n",
    "        self.data = pad_sequence(X)  # (seq_len, batch_size, feat_dim)\n",
    "        \n",
    "        if y is not None:\n",
    "            y = pad_sequence(y)\n",
    "            self.label = y.long()\n",
    "        else:\n",
    "            self.label = None\n",
    "\n",
    "    def __getitem__(self, idx):\n",
    "        if self.label is not None:\n",
    "            return self.data[:, idx, :], self.label[:, idx]\n",
    "        else:\n",
    "            return self.data[:, idx, :]\n",
    "\n",
    "    def __len__(self):\n",
    "        return self.data.size(1)"
   ]
  },
  {
   "cell_type": "markdown",
   "metadata": {},
   "source": [
    "## model"
   ]
  },
  {
   "cell_type": "code",
   "execution_count": 6,
   "metadata": {
    "tags": []
   },
   "outputs": [],
   "source": [
    "import torch\n",
    "import torch.nn as nn\n",
    "import torch.nn.functional as F\n",
    "\n",
    "\n",
    "class LSTMClassifier(nn.Module):\n",
    "    def __init__(self, input_dim=39, mid_dim=256, mid_layers=2, out_dim=41, bidirectional=True):\n",
    "        super(LSTMClassifier, self).__init__()\n",
    "        \n",
    "        self.rnn1 = nn.LSTM(input_dim, mid_dim, mid_layers, bidirectional=bidirectional)  # rnn\n",
    "        if not bidirectional:\n",
    "            self.reg = nn.Sequential(\n",
    "                nn.Linear(mid_dim, mid_dim // 2),\n",
    "                nn.LayerNorm(mid_dim // 2),\n",
    "                nn.Dropout(p=0.3),\n",
    "                nn.LeakyReLU(inplace=True, negative_slope=0.01),\n",
    "                nn.Linear(mid_dim // 2, out_dim),\n",
    "            )  # regression\n",
    "        else:\n",
    "            print(\"use bidirectional lstm\")\n",
    "            self.reg = nn.Sequential(\n",
    "                nn.Linear(mid_dim * 2, mid_dim),\n",
    "                nn.LayerNorm(mid_dim),\n",
    "                nn.Dropout(p=0.3),\n",
    "                nn.LeakyReLU(inplace=True, negative_slope=0.01),\n",
    "                nn.Linear(mid_dim, out_dim),\n",
    "            )  # regression\n",
    "\n",
    "    def forward(self, x):\n",
    "        out, (h, c) = self.rnn1(x)  # (seq_len, batch_size, mid_dim), [(num_layers, batch_size, mid_dim), (num_layers, batch_size, mid_dim)]\n",
    "#         out, (h, c) = self.rnn2(out, )\n",
    "        x = self.reg(out)  # (seq_len, batch_size, out_dim)\n",
    "        return x"
   ]
  },
  {
   "cell_type": "markdown",
   "metadata": {},
   "source": [
    "## hyper-parameters"
   ]
  },
  {
   "cell_type": "code",
   "execution_count": 7,
   "metadata": {
    "tags": []
   },
   "outputs": [],
   "source": [
    "# data prarameters\n",
    "concat_nframes = 1              # the number of frames to concat with, n must be odd (total 2k+1 = n frames)\n",
    "train_ratio = 0.8               # the ratio of data used for training, the rest will be used for validation\n",
    "\n",
    "# training parameters\n",
    "seed = 0                        # random seed\n",
    "batch_size =64                  # batch size\n",
    "num_epoch = 500                 # the number of training epoch\n",
    "learning_rate = 1e-5            # learning rate\n",
    "weight_decay = 1e-4\n",
    "model_path = './model.ckpt'     # the path where the checkpoint will be saved\n",
    "\n",
    "# model parameters\n",
    "input_dim = 39 * concat_nframes # the input dim of the model, you should not change the value\n",
    "hidden_layers = 1               # the number of hidden layers\n",
    "mid_dim = 128                   # the hidden dim\n",
    "mid_layers = 3\n",
    "patient = 30                    #  if val_acc exceed 30 epoches are not promoted then stop training\n",
    "bidirectional = True\n",
    "\n",
    "seq_len = train_x.size(0)"
   ]
  },
  {
   "cell_type": "code",
   "execution_count": 8,
   "metadata": {
    "tags": []
   },
   "outputs": [
    {
     "name": "stdout",
     "output_type": "stream",
     "text": [
      "[Dataset] - # phone classes: 41, number of utterances for train: 3428\n"
     ]
    },
    {
     "name": "stderr",
     "output_type": "stream",
     "text": [
      "3428it [00:01, 2488.55it/s]\n"
     ]
    },
    {
     "name": "stdout",
     "output_type": "stream",
     "text": [
      "[INFO] train set\n",
      "3428\n",
      "3428\n",
      "[Dataset] - # phone classes: 41, number of utterances for val: 858\n"
     ]
    },
    {
     "name": "stderr",
     "output_type": "stream",
     "text": [
      "858it [00:01, 771.18it/s]\n"
     ]
    },
    {
     "name": "stdout",
     "output_type": "stream",
     "text": [
      "[INFO] val set\n",
      "858\n",
      "858\n"
     ]
    }
   ],
   "source": [
    "import gc\n",
    "\n",
    "feat_dir='../Dataset/hw2/libriphone/libriphone/feat/'\n",
    "phone_path='../Dataset/hw2/libriphone/libriphone/'\n",
    "\n",
    "# preprocess data\n",
    "train_X, train_y = preprocess_data(split='train', feat_dir=feat_dir, phone_path=phone_path, concat_nframes=concat_nframes, train_ratio=train_ratio)\n",
    "val_X, val_y = preprocess_data(split='val', feat_dir=feat_dir, phone_path=phone_path, concat_nframes=concat_nframes, train_ratio=train_ratio)\n",
    "\n",
    "# get dataset\n",
    "train_set = LibriDataset(train_X, train_y)\n",
    "val_set = LibriDataset(val_X, val_y)"
   ]
  },
  {
   "cell_type": "code",
   "execution_count": 9,
   "metadata": {
    "tags": []
   },
   "outputs": [],
   "source": [
    "# remove raw feature to save memory\n",
    "del train_X, train_y, val_X, val_y\n",
    "gc.collect()\n",
    "\n",
    "# get dataloader\n",
    "train_loader = DataLoader(train_set, batch_size=batch_size, shuffle=True)\n",
    "val_loader = DataLoader(val_set, batch_size=batch_size, shuffle=False)"
   ]
  },
  {
   "cell_type": "code",
   "execution_count": 10,
   "metadata": {
    "tags": []
   },
   "outputs": [
    {
     "name": "stdout",
     "output_type": "stream",
     "text": [
      "DEVICE: cpu\n"
     ]
    }
   ],
   "source": [
    "device = 'cuda:0' if torch.cuda.is_available() else 'cpu'\n",
    "print(f'DEVICE: {device}')"
   ]
  },
  {
   "cell_type": "markdown",
   "metadata": {},
   "source": [
    "## random seed"
   ]
  },
  {
   "cell_type": "code",
   "execution_count": 11,
   "metadata": {
    "tags": []
   },
   "outputs": [],
   "source": [
    "import numpy as np\n",
    "\n",
    "#fix seed\n",
    "def same_seeds(seed):\n",
    "    torch.manual_seed(seed)\n",
    "    if torch.cuda.is_available():\n",
    "        torch.cuda.manual_seed(seed)\n",
    "        torch.cuda.manual_seed_all(seed)  \n",
    "    np.random.seed(seed)  \n",
    "    torch.backends.cudnn.benchmark = False\n",
    "    torch.backends.cudnn.deterministic = True"
   ]
  },
  {
   "cell_type": "code",
   "execution_count": 12,
   "metadata": {
    "tags": []
   },
   "outputs": [
    {
     "name": "stdout",
     "output_type": "stream",
     "text": [
      "use bidirectional lstm\n"
     ]
    }
   ],
   "source": [
    "### fix random seed\n",
    "same_seeds(seed)\n",
    "\n",
    "# create model, define a loss function, and optimizer\n",
    "model = LSTMClassifier(input_dim=input_dim, mid_dim=mid_dim, mid_layers=mid_layers, out_dim=41, bidirectional=bidirectional).to(device)\n",
    "criterion = nn.CrossEntropyLoss() \n",
    "optimizer = torch.optim.AdamW(model.parameters(), lr=learning_rate, weight_decay=weight_decay)"
   ]
  },
  {
   "cell_type": "markdown",
   "metadata": {},
   "source": [
    "## training"
   ]
  },
  {
   "cell_type": "code",
   "execution_count": null,
   "metadata": {
    "execution": {
     "iopub.execute_input": "2022-03-15T07:45:56.193041Z",
     "iopub.status.busy": "2022-03-15T07:45:56.192773Z"
    },
    "scrolled": true
   },
   "outputs": [],
   "source": [
    "best_acc = 0.0\n",
    "early_stop = 0\n",
    "for epoch in range(num_epoch):\n",
    "    train_acc = 0.0\n",
    "    train_loss = 0.0\n",
    "    val_acc = 0.0\n",
    "    val_loss = 0.0\n",
    "    \n",
    "    # training\n",
    "    model.train() # set the model to training mode\n",
    "    for i, batch in enumerate(tqdm(train_loader)):\n",
    "        features, labels = batch\n",
    "        features = features.permute(1, 0, 2).to(device)  # (seq_len, batch_size, feat_dim)\n",
    "        labels = labels.permute(1, 0).to(device)  # (seq_len, batch_size)\n",
    "        \n",
    "        optimizer.zero_grad() \n",
    "        outputs = model(features)  # (seq_len, batch_size, cls_num)\n",
    "        # print(features.shape, labels.shape, outputs.shape)\n",
    "        loss = criterion(outputs.permute(0, 2, 1), labels)  # (seq_len, cls_num, batch_size) & (seq_len, batch_size)\n",
    "        loss.backward() \n",
    "        optimizer.step() \n",
    "        \n",
    "        _, train_pred = torch.max(outputs.permute(1, 0, 2), -1) # get the index of the class with the highest probability / (batch_size, seq_len)\n",
    "        train_acc += (train_pred.detach() == labels.permute(1, 0).detach()).sum().item()\n",
    "        train_loss += loss.item()\n",
    "    \n",
    "    # validation\n",
    "    if len(val_set) > 0:\n",
    "        model.eval() # set the model to evaluation mode\n",
    "        with torch.no_grad():\n",
    "            for i, batch in enumerate(tqdm(val_loader)):\n",
    "                features, labels = batch\n",
    "                features = features.permute(1, 0, 2).to(device)\n",
    "                labels = labels.permute(1, 0).to(device)\n",
    "                outputs = model(features)\n",
    "                \n",
    "                loss = criterion(outputs.permute(0, 2, 1), labels) \n",
    "                \n",
    "                _, val_pred = torch.max(outputs.permute(1, 0, 2), -1) \n",
    "                val_acc += (val_pred.cpu() == labels.permute(1, 0).cpu()).sum().item() # get the index of the class with the highest probability\n",
    "                val_loss += loss.item()\n",
    "\n",
    "            print('[{:03d}/{:03d}] Train Acc: {:3.6f} Loss: {:3.6f} | Val Acc: {:3.6f} loss: {:3.6f}'.format(\n",
    "                epoch + 1, num_epoch, train_acc/(len(train_set)* seq_len), train_loss/(len(train_loader)), val_acc/(len(val_set)* seq_len), val_loss/len(val_loader)\n",
    "            ))\n",
    "\n",
    "            # if the model improves, save a checkpoint at this epoch\n",
    "            if early_stop <= patient:\n",
    "                if val_acc > best_acc:\n",
    "                    early_stop = 0\n",
    "                    best_acc = val_acc\n",
    "                    torch.save(model.state_dict(), model_path)\n",
    "                    print('saving model with acc {:.3f}'.format(best_acc/(len(val_set) * seq_len)))\n",
    "                else:\n",
    "                    early_stop += 1\n",
    "    else:\n",
    "        print('[{:03d}/{:03d}] Train Acc: {:3.6f} Loss: {:3.6f}'.format(epoch + 1, num_epoch, train_acc/(len(train_set) * seq_len), train_loss/(len(train_loader))))\n",
    "    \n",
    "    if early_stop > patient:\n",
    "        a = input()\n",
    "\n",
    "# if not validating, save the last epoch\n",
    "if len(val_set) == 0:\n",
    "    torch.save(model.state_dict(), model_path)\n",
    "    print('saving model at last epoch')"
   ]
  },
  {
   "cell_type": "code",
   "execution_count": 14,
   "metadata": {
    "execution": {
     "iopub.execute_input": "2022-03-15T07:17:34.169678Z",
     "iopub.status.busy": "2022-03-15T07:17:34.169203Z",
     "iopub.status.idle": "2022-03-15T07:17:34.270775Z",
     "shell.execute_reply": "2022-03-15T07:17:34.269932Z",
     "shell.execute_reply.started": "2022-03-15T07:17:34.169640Z"
    }
   },
   "outputs": [],
   "source": [
    "del train_loader, val_loader\n",
    "gc.collect()"
   ]
  },
  {
   "cell_type": "markdown",
   "metadata": {},
   "source": [
    "## testing"
   ]
  },
  {
   "cell_type": "code",
   "execution_count": 13,
   "metadata": {},
   "outputs": [],
   "source": [
    "import torch\n",
    "from torch.utils.data import Dataset\n",
    "from torch.utils.data import DataLoader\n",
    "\n",
    "class LibriTestDataset(Dataset):\n",
    "    def __init__(self, X):\n",
    "        \n",
    "        self.data = X\n",
    "\n",
    "    def __getitem__(self, idx):\n",
    "        return self.data[idx]\n",
    "\n",
    "    def __len__(self):\n",
    "        return len(self.data)"
   ]
  },
  {
   "cell_type": "code",
   "execution_count": 14,
   "metadata": {
    "tags": []
   },
   "outputs": [
    {
     "name": "stdout",
     "output_type": "stream",
     "text": [
      "[Dataset] - # phone classes: 41, number of utterances for test: 1078\n"
     ]
    },
    {
     "name": "stderr",
     "output_type": "stream",
     "text": [
      "1078it [00:01, 827.68it/s]"
     ]
    },
    {
     "name": "stdout",
     "output_type": "stream",
     "text": [
      "[INFO] test set\n",
      "1078\n"
     ]
    },
    {
     "name": "stderr",
     "output_type": "stream",
     "text": [
      "\n"
     ]
    }
   ],
   "source": [
    "# load data\n",
    "test_X = preprocess_data(split='test', feat_dir=feat_dir, phone_path=phone_path, concat_nframes=concat_nframes)\n",
    "test_set = LibriTestDataset(test_X)\n",
    "test_loader = DataLoader(test_set, batch_size=1, shuffle=False)"
   ]
  },
  {
   "cell_type": "code",
   "execution_count": 16,
   "metadata": {
    "tags": []
   },
   "outputs": [
    {
     "data": {
      "text/plain": [
       "(1078, torch.Size([818, 39]))"
      ]
     },
     "execution_count": 16,
     "metadata": {},
     "output_type": "execute_result"
    }
   ],
   "source": [
    "len(test_X), test_X[0].shape"
   ]
  },
  {
   "cell_type": "code",
   "execution_count": 19,
   "metadata": {
    "tags": []
   },
   "outputs": [
    {
     "name": "stdout",
     "output_type": "stream",
     "text": [
      "use bidirectional lstm\n"
     ]
    },
    {
     "data": {
      "text/plain": [
       "<All keys matched successfully>"
      ]
     },
     "execution_count": 19,
     "metadata": {},
     "output_type": "execute_result"
    }
   ],
   "source": [
    "# load model\n",
    "model = LSTMClassifier(input_dim=input_dim, mid_dim=mid_dim, mid_layers=mid_layers, out_dim=41).to(device)\n",
    "model.load_state_dict(torch.load(model_path, map_location='cpu'))"
   ]
  },
  {
   "cell_type": "code",
   "execution_count": 20,
   "metadata": {
    "tags": []
   },
   "outputs": [
    {
     "name": "stderr",
     "output_type": "stream",
     "text": [
      "100%|███████████████████████████████████████| 1078/1078 [02:29<00:00,  7.19it/s]\n"
     ]
    }
   ],
   "source": [
    "test_acc = 0.0\n",
    "test_lengths = 0\n",
    "pred = np.array([], dtype=np.int32)\n",
    "\n",
    "model.eval()\n",
    "with torch.no_grad():\n",
    "    for i, batch in enumerate(tqdm(test_loader)):\n",
    "        features = batch\n",
    "        features = features.permute(1, 0, 2).to(device)  # (seq_len, batch_size, feat_dim)\n",
    "#         print(features.shape)\n",
    "        outputs = model(features)  # (seq_len, batch_size, cls_num)\n",
    "\n",
    "        _, test_pred = torch.max(outputs.permute(1, 0, 2), -1) # get the index of the class with the highest probability / (batch_size, seq_len)\n",
    "#         print(test_pred.squeeze().shape)\n",
    "        pred = np.concatenate((pred, test_pred.squeeze().cpu().numpy()), axis=0)"
   ]
  },
  {
   "cell_type": "code",
   "execution_count": 21,
   "metadata": {
    "tags": []
   },
   "outputs": [],
   "source": [
    "with open('prediction.csv', 'w') as f:\n",
    "    f.write('Id,Class\\n')\n",
    "    for i, y in enumerate(pred):\n",
    "        f.write('{},{}\\n'.format(i, y))"
   ]
  },
  {
   "cell_type": "code",
   "execution_count": null,
   "metadata": {},
   "outputs": [],
   "source": []
  }
 ],
 "metadata": {
  "kernelspec": {
   "display_name": "Python 3 (ipykernel)",
   "language": "python",
   "name": "python3"
  },
  "language_info": {
   "codemirror_mode": {
    "name": "ipython",
    "version": 3
   },
   "file_extension": ".py",
   "mimetype": "text/x-python",
   "name": "python",
   "nbconvert_exporter": "python",
   "pygments_lexer": "ipython3",
   "version": "3.8.11"
  }
 },
 "nbformat": 4,
 "nbformat_minor": 4
}
