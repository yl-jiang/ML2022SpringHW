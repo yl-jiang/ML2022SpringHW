{
 "cells": [
  {
   "cell_type": "code",
   "execution_count": 1,
   "metadata": {},
   "outputs": [],
   "source": [
    "import numpy as np\n",
    "import pandas as pd\n",
    "import torch\n",
    "from tqdm import tqdm\n",
    "import zipfile"
   ]
  },
  {
   "cell_type": "code",
   "execution_count": 2,
   "metadata": {},
   "outputs": [
    {
     "name": "stdout",
     "output_type": "stream",
     "text": [
      "['covid.test.csv', 'covid.train.csv']\n"
     ]
    }
   ],
   "source": [
    "zipf = zipfile.ZipFile(\"../Dataset/ml2022spring-hw1.zip\")\n",
    "namelist = zipf.namelist()\n",
    "print(namelist)"
   ]
  },
  {
   "cell_type": "code",
   "execution_count": 3,
   "metadata": {},
   "outputs": [],
   "source": [
    "zipf.extractall('../Dataset/hw1')"
   ]
  },
  {
   "cell_type": "code",
   "execution_count": 4,
   "metadata": {},
   "outputs": [],
   "source": [
    "train_data_path = \"../Dataset/hw1/covid.train.csv\"\n",
    "test_data_path = \"../Dataset/hw1/covid.test.csv\""
   ]
  },
  {
   "cell_type": "code",
   "execution_count": 5,
   "metadata": {},
   "outputs": [],
   "source": [
    "train_csv = pd.read_csv(train_data_path)\n",
    "test_csv = pd.read_csv(test_data_path)"
   ]
  },
  {
   "cell_type": "code",
   "execution_count": 6,
   "metadata": {},
   "outputs": [
    {
     "data": {
      "text/html": [
       "<div>\n",
       "<style scoped>\n",
       "    .dataframe tbody tr th:only-of-type {\n",
       "        vertical-align: middle;\n",
       "    }\n",
       "\n",
       "    .dataframe tbody tr th {\n",
       "        vertical-align: top;\n",
       "    }\n",
       "\n",
       "    .dataframe thead th {\n",
       "        text-align: right;\n",
       "    }\n",
       "</style>\n",
       "<table border=\"1\" class=\"dataframe\">\n",
       "  <thead>\n",
       "    <tr style=\"text-align: right;\">\n",
       "      <th></th>\n",
       "      <th>id</th>\n",
       "      <th>AL</th>\n",
       "      <th>AK</th>\n",
       "      <th>AZ</th>\n",
       "      <th>AR</th>\n",
       "      <th>CA</th>\n",
       "      <th>CO</th>\n",
       "      <th>CT</th>\n",
       "      <th>FL</th>\n",
       "      <th>GA</th>\n",
       "      <th>...</th>\n",
       "      <th>work_outside_home.4</th>\n",
       "      <th>shop.4</th>\n",
       "      <th>restaurant.4</th>\n",
       "      <th>spent_time.4</th>\n",
       "      <th>large_event.4</th>\n",
       "      <th>public_transit.4</th>\n",
       "      <th>anxious.4</th>\n",
       "      <th>depressed.4</th>\n",
       "      <th>worried_finances.4</th>\n",
       "      <th>tested_positive.4</th>\n",
       "    </tr>\n",
       "  </thead>\n",
       "  <tbody>\n",
       "    <tr>\n",
       "      <th>0</th>\n",
       "      <td>0</td>\n",
       "      <td>0</td>\n",
       "      <td>0</td>\n",
       "      <td>0</td>\n",
       "      <td>0</td>\n",
       "      <td>0</td>\n",
       "      <td>0</td>\n",
       "      <td>0</td>\n",
       "      <td>1</td>\n",
       "      <td>0</td>\n",
       "      <td>...</td>\n",
       "      <td>31.113209</td>\n",
       "      <td>67.394551</td>\n",
       "      <td>36.674291</td>\n",
       "      <td>40.743132</td>\n",
       "      <td>17.842221</td>\n",
       "      <td>4.093712</td>\n",
       "      <td>10.440071</td>\n",
       "      <td>8.627117</td>\n",
       "      <td>37.329512</td>\n",
       "      <td>7.456154</td>\n",
       "    </tr>\n",
       "    <tr>\n",
       "      <th>1</th>\n",
       "      <td>1</td>\n",
       "      <td>0</td>\n",
       "      <td>0</td>\n",
       "      <td>0</td>\n",
       "      <td>0</td>\n",
       "      <td>0</td>\n",
       "      <td>1</td>\n",
       "      <td>0</td>\n",
       "      <td>0</td>\n",
       "      <td>0</td>\n",
       "      <td>...</td>\n",
       "      <td>33.920257</td>\n",
       "      <td>64.398380</td>\n",
       "      <td>34.612238</td>\n",
       "      <td>44.035688</td>\n",
       "      <td>17.808103</td>\n",
       "      <td>4.924935</td>\n",
       "      <td>10.172662</td>\n",
       "      <td>9.954333</td>\n",
       "      <td>32.508881</td>\n",
       "      <td>8.010957</td>\n",
       "    </tr>\n",
       "    <tr>\n",
       "      <th>2</th>\n",
       "      <td>2</td>\n",
       "      <td>0</td>\n",
       "      <td>0</td>\n",
       "      <td>0</td>\n",
       "      <td>0</td>\n",
       "      <td>0</td>\n",
       "      <td>0</td>\n",
       "      <td>0</td>\n",
       "      <td>0</td>\n",
       "      <td>0</td>\n",
       "      <td>...</td>\n",
       "      <td>31.604604</td>\n",
       "      <td>62.101064</td>\n",
       "      <td>26.521875</td>\n",
       "      <td>36.746453</td>\n",
       "      <td>13.903667</td>\n",
       "      <td>7.313833</td>\n",
       "      <td>10.388712</td>\n",
       "      <td>7.956139</td>\n",
       "      <td>36.745588</td>\n",
       "      <td>2.906977</td>\n",
       "    </tr>\n",
       "    <tr>\n",
       "      <th>3</th>\n",
       "      <td>3</td>\n",
       "      <td>0</td>\n",
       "      <td>0</td>\n",
       "      <td>0</td>\n",
       "      <td>0</td>\n",
       "      <td>0</td>\n",
       "      <td>0</td>\n",
       "      <td>0</td>\n",
       "      <td>0</td>\n",
       "      <td>0</td>\n",
       "      <td>...</td>\n",
       "      <td>35.115738</td>\n",
       "      <td>67.935520</td>\n",
       "      <td>38.022492</td>\n",
       "      <td>48.434809</td>\n",
       "      <td>27.134876</td>\n",
       "      <td>3.101904</td>\n",
       "      <td>10.498683</td>\n",
       "      <td>8.231522</td>\n",
       "      <td>38.680162</td>\n",
       "      <td>12.575816</td>\n",
       "    </tr>\n",
       "    <tr>\n",
       "      <th>4</th>\n",
       "      <td>4</td>\n",
       "      <td>0</td>\n",
       "      <td>0</td>\n",
       "      <td>0</td>\n",
       "      <td>0</td>\n",
       "      <td>0</td>\n",
       "      <td>0</td>\n",
       "      <td>0</td>\n",
       "      <td>0</td>\n",
       "      <td>0</td>\n",
       "      <td>...</td>\n",
       "      <td>35.129714</td>\n",
       "      <td>69.934592</td>\n",
       "      <td>38.242368</td>\n",
       "      <td>49.095933</td>\n",
       "      <td>22.683709</td>\n",
       "      <td>4.594620</td>\n",
       "      <td>9.878927</td>\n",
       "      <td>9.469290</td>\n",
       "      <td>28.344123</td>\n",
       "      <td>21.428589</td>\n",
       "    </tr>\n",
       "  </tbody>\n",
       "</table>\n",
       "<p>5 rows × 118 columns</p>\n",
       "</div>"
      ],
      "text/plain": [
       "   id  AL  AK  AZ  AR  CA  CO  CT  FL  GA  ...  work_outside_home.4  \\\n",
       "0   0   0   0   0   0   0   0   0   1   0  ...            31.113209   \n",
       "1   1   0   0   0   0   0   1   0   0   0  ...            33.920257   \n",
       "2   2   0   0   0   0   0   0   0   0   0  ...            31.604604   \n",
       "3   3   0   0   0   0   0   0   0   0   0  ...            35.115738   \n",
       "4   4   0   0   0   0   0   0   0   0   0  ...            35.129714   \n",
       "\n",
       "      shop.4  restaurant.4  spent_time.4  large_event.4  public_transit.4  \\\n",
       "0  67.394551     36.674291     40.743132      17.842221          4.093712   \n",
       "1  64.398380     34.612238     44.035688      17.808103          4.924935   \n",
       "2  62.101064     26.521875     36.746453      13.903667          7.313833   \n",
       "3  67.935520     38.022492     48.434809      27.134876          3.101904   \n",
       "4  69.934592     38.242368     49.095933      22.683709          4.594620   \n",
       "\n",
       "   anxious.4  depressed.4  worried_finances.4  tested_positive.4  \n",
       "0  10.440071     8.627117           37.329512           7.456154  \n",
       "1  10.172662     9.954333           32.508881           8.010957  \n",
       "2  10.388712     7.956139           36.745588           2.906977  \n",
       "3  10.498683     8.231522           38.680162          12.575816  \n",
       "4   9.878927     9.469290           28.344123          21.428589  \n",
       "\n",
       "[5 rows x 118 columns]"
      ]
     },
     "execution_count": 6,
     "metadata": {},
     "output_type": "execute_result"
    }
   ],
   "source": [
    "train_csv.head()"
   ]
  },
  {
   "cell_type": "markdown",
   "metadata": {},
   "source": [
    "共118列：\n",
    "+ 0：id\n",
    "+ 1~37: State\n",
    "+ 38~41: COVID-like illness  (5天)\n",
    "+ 42~49: Behavior Indicators  (5天)\n",
    "+ 50~52: Medical Health Indicators  (5天)\n",
    "+ 53: Tested Positive Cases  (5天)\n",
    "\n",
    "$$1 + 37 + 3\\times 5 + 8\\times 5 + 3\\times 5 + 1\\times 5 = 118$$"
   ]
  },
  {
   "cell_type": "markdown",
   "metadata": {},
   "source": [
    "## Dataset\n",
    "+ 统计信息\n",
    "+ 缺失值\n",
    "+ 特征相关性\n",
    "+ 特征规约"
   ]
  },
  {
   "cell_type": "code",
   "execution_count": 7,
   "metadata": {},
   "outputs": [],
   "source": [
    "# 去掉'id'列\n",
    "coulmns = train_csv.columns\n",
    "train_dataset = train_csv[coulmns[1:]]\n",
    "\n",
    "coulmns = test_csv.columns\n",
    "test_dataset = test_csv[coulmns[1:]]"
   ]
  },
  {
   "cell_type": "code",
   "execution_count": 8,
   "metadata": {},
   "outputs": [
    {
     "name": "stdout",
     "output_type": "stream",
     "text": [
      "Nan元素总数：0\n",
      "AL                    0\n",
      "AK                    0\n",
      "AZ                    0\n",
      "AR                    0\n",
      "CA                    0\n",
      "                     ..\n",
      "public_transit.4      0\n",
      "anxious.4             0\n",
      "depressed.4           0\n",
      "worried_finances.4    0\n",
      "tested_positive.4     0\n",
      "Length: 117, dtype: int64\n"
     ]
    }
   ],
   "source": [
    "# 查看每一列Nan值的个数\n",
    "nacount = train_dataset.isna().sum()\n",
    "print(f\"Nan元素总数：{nacount.sum()}\")\n",
    "\n",
    "print(nacount)"
   ]
  },
  {
   "cell_type": "code",
   "execution_count": 9,
   "metadata": {},
   "outputs": [],
   "source": [
    "import csv\n",
    "\n",
    "def save_pred(preds, save_path):\n",
    "    with open(save_path, 'w') as f:\n",
    "        writer = csv.writer(f)\n",
    "        writer.writerow(['id', 'tested_positive'])\n",
    "        for i, p in enumerate(preds):\n",
    "            writer.writerow([i, p])"
   ]
  },
  {
   "cell_type": "markdown",
   "metadata": {},
   "source": [
    "### Baseline\n",
    "\n",
    "**All original features, linear regression**"
   ]
  },
  {
   "cell_type": "code",
   "execution_count": 10,
   "metadata": {},
   "outputs": [],
   "source": [
    "from sklearn.linear_model import LinearRegression\n",
    "from sklearn.model_selection import cross_val_score\n",
    "\n",
    "def cross_val(model, x, y):\n",
    "    scores = cross_val_score(model, x, y, scoring='neg_mean_squared_error', cv=10)\n",
    "    print(np.mean(np.sqrt(-scores)))"
   ]
  },
  {
   "cell_type": "code",
   "execution_count": 11,
   "metadata": {},
   "outputs": [
    {
     "name": "stdout",
     "output_type": "stream",
     "text": [
      "1.0519071309202654\n"
     ]
    }
   ],
   "source": [
    "lin_reg = LinearRegression()\n",
    "# 使用全部原始特征\n",
    "cross_val(lin_reg, train_dataset.iloc[:, :-1], train_dataset.iloc[:, -1])"
   ]
  },
  {
   "cell_type": "code",
   "execution_count": 12,
   "metadata": {},
   "outputs": [],
   "source": [
    "# save test result\n",
    "\n",
    "lin_reg = LinearRegression()\n",
    "lin_reg.fit(train_dataset.iloc[:, :-1], train_dataset.iloc[:, -1])\n",
    "preds = lin_reg.predict(test_dataset)\n",
    "\n",
    "save_pred(preds, './plain_line_reg.txt')"
   ]
  },
  {
   "cell_type": "markdown",
   "metadata": {},
   "source": [
    "**All original features, decision tree**"
   ]
  },
  {
   "cell_type": "code",
   "execution_count": 13,
   "metadata": {},
   "outputs": [
    {
     "name": "stdout",
     "output_type": "stream",
     "text": [
      "1.630425929431865\n"
     ]
    }
   ],
   "source": [
    "from sklearn.tree import DecisionTreeRegressor\n",
    "\n",
    "tree_reg = DecisionTreeRegressor()\n",
    "\n",
    "# 使用全部原始特征\n",
    "cross_val(tree_reg, train_dataset.iloc[:, :-1], train_dataset.iloc[:, -1])"
   ]
  },
  {
   "cell_type": "code",
   "execution_count": 14,
   "metadata": {},
   "outputs": [],
   "source": [
    "# save test results\n",
    "\n",
    "tree_reg = DecisionTreeRegressor()\n",
    "tree_reg.fit(train_dataset.iloc[:, :-1], train_dataset.iloc[:, -1])\n",
    "preds = tree_reg.predict(test_dataset)\n",
    "\n",
    "save_pred(preds, './plain_tree_reg.txt')"
   ]
  },
  {
   "cell_type": "markdown",
   "metadata": {},
   "source": [
    "#### Feature Selection"
   ]
  },
  {
   "cell_type": "code",
   "execution_count": 15,
   "metadata": {},
   "outputs": [
    {
     "name": "stdout",
     "output_type": "stream",
     "text": [
      "相关性大于0.5的特征数：35\n"
     ]
    }
   ],
   "source": [
    "# 特征与特征之间的相关性矩阵\n",
    "corr_matrix = train_dataset.corr()\n",
    "\n",
    "# 查看与test_positive.4与其他特征之间的相关性\n",
    "positive4_coor = corr_matrix['tested_positive.4'].sort_values(ascending=False)\n",
    "mask = positive4_coor > 0.5\n",
    "print(f'相关性大于0.5的特征数：{sum(mask)}')\n",
    "# print(positive4_coor[mask])"
   ]
  },
  {
   "cell_type": "markdown",
   "metadata": {},
   "source": [
    "**Selected Original features, linear regression**"
   ]
  },
  {
   "cell_type": "code",
   "execution_count": 16,
   "metadata": {},
   "outputs": [
    {
     "name": "stdout",
     "output_type": "stream",
     "text": [
      "1.049216997777881\n"
     ]
    }
   ],
   "source": [
    "lin_reg = LinearRegression()\n",
    "# 使用相关性较大的若干原始特征\n",
    "selcted_columns = list(positive4_coor.index[mask])\n",
    "cross_val(lin_reg, train_dataset[selcted_columns[1:]], train_dataset[selcted_columns[0]])"
   ]
  },
  {
   "cell_type": "code",
   "execution_count": 17,
   "metadata": {},
   "outputs": [],
   "source": [
    "# save test result\n",
    "\n",
    "lin_reg = LinearRegression()\n",
    "lin_reg.fit(train_dataset[selcted_columns[1:]], train_dataset[selcted_columns[0]])\n",
    "preds = lin_reg.predict(test_dataset[selcted_columns[1:]])\n",
    "\n",
    "save_pred(preds, './plain_line_reg_with_feature_selction.txt')"
   ]
  },
  {
   "cell_type": "markdown",
   "metadata": {},
   "source": [
    "**Selected Original features, Decision Tree**"
   ]
  },
  {
   "cell_type": "code",
   "execution_count": 18,
   "metadata": {},
   "outputs": [
    {
     "name": "stdout",
     "output_type": "stream",
     "text": [
      "1.5786687146977054\n"
     ]
    }
   ],
   "source": [
    "from sklearn.tree import DecisionTreeRegressor\n",
    "\n",
    "tree_reg = DecisionTreeRegressor()\n",
    "# 使用相关性较大的若干原始特征\n",
    "selcted_columns = list(positive4_coor.index[mask])\n",
    "cross_val(tree_reg, train_dataset[selcted_columns[1:]], train_dataset[selcted_columns[0]])"
   ]
  },
  {
   "cell_type": "code",
   "execution_count": 19,
   "metadata": {},
   "outputs": [],
   "source": [
    "# save test result\n",
    "\n",
    "tree_reg = LinearRegression()\n",
    "tree_reg.fit(train_dataset[selcted_columns[1:]], train_dataset[selcted_columns[0]])\n",
    "preds = tree_reg.predict(test_dataset[selcted_columns[1:]])\n",
    "\n",
    "save_pred(preds, './plain_tree_reg_with_feature_selction.txt')"
   ]
  },
  {
   "cell_type": "markdown",
   "metadata": {},
   "source": [
    "**Feature Scaling**"
   ]
  },
  {
   "cell_type": "code",
   "execution_count": 20,
   "metadata": {},
   "outputs": [],
   "source": [
    "from sklearn.base import BaseEstimator, TransformerMixin"
   ]
  },
  {
   "cell_type": "code",
   "execution_count": 21,
   "metadata": {},
   "outputs": [],
   "source": [
    "class NormalScaler(BaseEstimator, TransformerMixin):\n",
    "    def __init__(self, skip=None):\n",
    "        self.skip = skip\n",
    "\n",
    "    def fit(self, x, y=None):\n",
    "        return self\n",
    "    \n",
    "    def transform(self, x):\n",
    "        for col in x.columns:\n",
    "            if self.skip not in col and x[col].max() > 1:\n",
    "                mean = x[col].mean()\n",
    "                std = x[col].std()\n",
    "                x[col] = x[col].map(lambda i: (i - mean) / std)\n",
    "                \n",
    "        return x\n",
    "\n",
    "\n",
    "class MaxminScaler(BaseEstimator, TransformerMixin):\n",
    "    def __init__(self, skip=None):\n",
    "        self.skip = skip\n",
    "\n",
    "    def fit(self, x, y=None):\n",
    "        return self\n",
    "    \n",
    "    def transform(self, x):\n",
    "        for col in x.columns:\n",
    "            if self.skip not in col and x[col].max() > 1:\n",
    "                max_v = x[col].max()\n",
    "                min_v = x[col].min()\n",
    "                x[col] = x[col].map(lambda i: (i - min_v) / (max_v - min_v))\n",
    "                \n",
    "        return x"
   ]
  },
  {
   "cell_type": "code",
   "execution_count": 22,
   "metadata": {},
   "outputs": [],
   "source": [
    "from sklearn.pipeline import Pipeline\n",
    "\n",
    "normal_scaled_pipeline = Pipeline([('std_scaler', NormalScaler('tested_positive'))])\n",
    "train_dataset_normal_scaled = normal_scaled_pipeline.transform(train_dataset.copy())\n",
    "test_dataset_normal_scaled = normal_scaled_pipeline.transform(test_dataset.copy())\n",
    "\n",
    "maxmin_scaled_pipeline = Pipeline([('maxmin_scaler', MaxminScaler('tested_positive'))])\n",
    "train_dataset_maxmin_scaled = maxmin_scaled_pipeline.transform(train_dataset.copy())\n",
    "test_dataset_maxmin_scaled = maxmin_scaled_pipeline.transform(test_dataset.copy())"
   ]
  },
  {
   "cell_type": "code",
   "execution_count": 23,
   "metadata": {},
   "outputs": [
    {
     "data": {
      "text/html": [
       "<div>\n",
       "<style scoped>\n",
       "    .dataframe tbody tr th:only-of-type {\n",
       "        vertical-align: middle;\n",
       "    }\n",
       "\n",
       "    .dataframe tbody tr th {\n",
       "        vertical-align: top;\n",
       "    }\n",
       "\n",
       "    .dataframe thead th {\n",
       "        text-align: right;\n",
       "    }\n",
       "</style>\n",
       "<table border=\"1\" class=\"dataframe\">\n",
       "  <thead>\n",
       "    <tr style=\"text-align: right;\">\n",
       "      <th></th>\n",
       "      <th>AL</th>\n",
       "      <th>AK</th>\n",
       "      <th>AZ</th>\n",
       "      <th>AR</th>\n",
       "      <th>CA</th>\n",
       "      <th>CO</th>\n",
       "      <th>CT</th>\n",
       "      <th>FL</th>\n",
       "      <th>GA</th>\n",
       "      <th>ID</th>\n",
       "      <th>...</th>\n",
       "      <th>work_outside_home.4</th>\n",
       "      <th>shop.4</th>\n",
       "      <th>restaurant.4</th>\n",
       "      <th>spent_time.4</th>\n",
       "      <th>large_event.4</th>\n",
       "      <th>public_transit.4</th>\n",
       "      <th>anxious.4</th>\n",
       "      <th>depressed.4</th>\n",
       "      <th>worried_finances.4</th>\n",
       "      <th>tested_positive.4</th>\n",
       "    </tr>\n",
       "  </thead>\n",
       "  <tbody>\n",
       "    <tr>\n",
       "      <th>0</th>\n",
       "      <td>0</td>\n",
       "      <td>0</td>\n",
       "      <td>0</td>\n",
       "      <td>0</td>\n",
       "      <td>0</td>\n",
       "      <td>0</td>\n",
       "      <td>0</td>\n",
       "      <td>1</td>\n",
       "      <td>0</td>\n",
       "      <td>0</td>\n",
       "      <td>...</td>\n",
       "      <td>-0.497704</td>\n",
       "      <td>0.375942</td>\n",
       "      <td>0.454340</td>\n",
       "      <td>-1.121859</td>\n",
       "      <td>-0.626113</td>\n",
       "      <td>-0.281985</td>\n",
       "      <td>-0.671085</td>\n",
       "      <td>-0.854542</td>\n",
       "      <td>0.691637</td>\n",
       "      <td>7.456154</td>\n",
       "    </tr>\n",
       "    <tr>\n",
       "      <th>1</th>\n",
       "      <td>0</td>\n",
       "      <td>0</td>\n",
       "      <td>0</td>\n",
       "      <td>0</td>\n",
       "      <td>0</td>\n",
       "      <td>1</td>\n",
       "      <td>0</td>\n",
       "      <td>0</td>\n",
       "      <td>0</td>\n",
       "      <td>0</td>\n",
       "      <td>...</td>\n",
       "      <td>0.235301</td>\n",
       "      <td>-0.845236</td>\n",
       "      <td>-0.052472</td>\n",
       "      <td>-0.221926</td>\n",
       "      <td>-0.635917</td>\n",
       "      <td>0.108189</td>\n",
       "      <td>-0.788870</td>\n",
       "      <td>-0.024633</td>\n",
       "      <td>-0.642577</td>\n",
       "      <td>8.010957</td>\n",
       "    </tr>\n",
       "    <tr>\n",
       "      <th>2</th>\n",
       "      <td>0</td>\n",
       "      <td>0</td>\n",
       "      <td>0</td>\n",
       "      <td>0</td>\n",
       "      <td>0</td>\n",
       "      <td>0</td>\n",
       "      <td>0</td>\n",
       "      <td>0</td>\n",
       "      <td>0</td>\n",
       "      <td>0</td>\n",
       "      <td>...</td>\n",
       "      <td>-0.369386</td>\n",
       "      <td>-1.781575</td>\n",
       "      <td>-2.040928</td>\n",
       "      <td>-2.214246</td>\n",
       "      <td>-1.757860</td>\n",
       "      <td>1.229533</td>\n",
       "      <td>-0.693707</td>\n",
       "      <td>-1.274106</td>\n",
       "      <td>0.530023</td>\n",
       "      <td>2.906977</td>\n",
       "    </tr>\n",
       "    <tr>\n",
       "      <th>3</th>\n",
       "      <td>0</td>\n",
       "      <td>0</td>\n",
       "      <td>0</td>\n",
       "      <td>0</td>\n",
       "      <td>0</td>\n",
       "      <td>0</td>\n",
       "      <td>0</td>\n",
       "      <td>0</td>\n",
       "      <td>0</td>\n",
       "      <td>0</td>\n",
       "      <td>...</td>\n",
       "      <td>0.547478</td>\n",
       "      <td>0.596431</td>\n",
       "      <td>0.785702</td>\n",
       "      <td>0.980457</td>\n",
       "      <td>2.044140</td>\n",
       "      <td>-0.747538</td>\n",
       "      <td>-0.645268</td>\n",
       "      <td>-1.101909</td>\n",
       "      <td>1.065458</td>\n",
       "      <td>12.575816</td>\n",
       "    </tr>\n",
       "    <tr>\n",
       "      <th>4</th>\n",
       "      <td>0</td>\n",
       "      <td>0</td>\n",
       "      <td>0</td>\n",
       "      <td>0</td>\n",
       "      <td>0</td>\n",
       "      <td>0</td>\n",
       "      <td>0</td>\n",
       "      <td>0</td>\n",
       "      <td>0</td>\n",
       "      <td>1</td>\n",
       "      <td>...</td>\n",
       "      <td>0.551127</td>\n",
       "      <td>1.411212</td>\n",
       "      <td>0.839743</td>\n",
       "      <td>1.161158</td>\n",
       "      <td>0.765093</td>\n",
       "      <td>-0.046860</td>\n",
       "      <td>-0.918250</td>\n",
       "      <td>-0.327931</td>\n",
       "      <td>-1.795264</td>\n",
       "      <td>21.428589</td>\n",
       "    </tr>\n",
       "  </tbody>\n",
       "</table>\n",
       "<p>5 rows × 117 columns</p>\n",
       "</div>"
      ],
      "text/plain": [
       "   AL  AK  AZ  AR  CA  CO  CT  FL  GA  ID  ...  work_outside_home.4    shop.4  \\\n",
       "0   0   0   0   0   0   0   0   1   0   0  ...            -0.497704  0.375942   \n",
       "1   0   0   0   0   0   1   0   0   0   0  ...             0.235301 -0.845236   \n",
       "2   0   0   0   0   0   0   0   0   0   0  ...            -0.369386 -1.781575   \n",
       "3   0   0   0   0   0   0   0   0   0   0  ...             0.547478  0.596431   \n",
       "4   0   0   0   0   0   0   0   0   0   1  ...             0.551127  1.411212   \n",
       "\n",
       "   restaurant.4  spent_time.4  large_event.4  public_transit.4  anxious.4  \\\n",
       "0      0.454340     -1.121859      -0.626113         -0.281985  -0.671085   \n",
       "1     -0.052472     -0.221926      -0.635917          0.108189  -0.788870   \n",
       "2     -2.040928     -2.214246      -1.757860          1.229533  -0.693707   \n",
       "3      0.785702      0.980457       2.044140         -0.747538  -0.645268   \n",
       "4      0.839743      1.161158       0.765093         -0.046860  -0.918250   \n",
       "\n",
       "   depressed.4  worried_finances.4  tested_positive.4  \n",
       "0    -0.854542            0.691637           7.456154  \n",
       "1    -0.024633           -0.642577           8.010957  \n",
       "2    -1.274106            0.530023           2.906977  \n",
       "3    -1.101909            1.065458          12.575816  \n",
       "4    -0.327931           -1.795264          21.428589  \n",
       "\n",
       "[5 rows x 117 columns]"
      ]
     },
     "execution_count": 23,
     "metadata": {},
     "output_type": "execute_result"
    }
   ],
   "source": [
    "train_dataset_normal_scaled.head()"
   ]
  },
  {
   "cell_type": "code",
   "execution_count": 24,
   "metadata": {},
   "outputs": [
    {
     "data": {
      "text/html": [
       "<div>\n",
       "<style scoped>\n",
       "    .dataframe tbody tr th:only-of-type {\n",
       "        vertical-align: middle;\n",
       "    }\n",
       "\n",
       "    .dataframe tbody tr th {\n",
       "        vertical-align: top;\n",
       "    }\n",
       "\n",
       "    .dataframe thead th {\n",
       "        text-align: right;\n",
       "    }\n",
       "</style>\n",
       "<table border=\"1\" class=\"dataframe\">\n",
       "  <thead>\n",
       "    <tr style=\"text-align: right;\">\n",
       "      <th></th>\n",
       "      <th>AL</th>\n",
       "      <th>AK</th>\n",
       "      <th>AZ</th>\n",
       "      <th>AR</th>\n",
       "      <th>CA</th>\n",
       "      <th>CO</th>\n",
       "      <th>CT</th>\n",
       "      <th>FL</th>\n",
       "      <th>GA</th>\n",
       "      <th>ID</th>\n",
       "      <th>...</th>\n",
       "      <th>work_outside_home.4</th>\n",
       "      <th>shop.4</th>\n",
       "      <th>restaurant.4</th>\n",
       "      <th>spent_time.4</th>\n",
       "      <th>large_event.4</th>\n",
       "      <th>public_transit.4</th>\n",
       "      <th>anxious.4</th>\n",
       "      <th>depressed.4</th>\n",
       "      <th>worried_finances.4</th>\n",
       "      <th>tested_positive.4</th>\n",
       "    </tr>\n",
       "  </thead>\n",
       "  <tbody>\n",
       "    <tr>\n",
       "      <th>0</th>\n",
       "      <td>0</td>\n",
       "      <td>0</td>\n",
       "      <td>0</td>\n",
       "      <td>0</td>\n",
       "      <td>0</td>\n",
       "      <td>0</td>\n",
       "      <td>0</td>\n",
       "      <td>1</td>\n",
       "      <td>0</td>\n",
       "      <td>0</td>\n",
       "      <td>...</td>\n",
       "      <td>0.327454</td>\n",
       "      <td>0.622730</td>\n",
       "      <td>0.654060</td>\n",
       "      <td>0.297424</td>\n",
       "      <td>0.373811</td>\n",
       "      <td>0.184499</td>\n",
       "      <td>0.252049</td>\n",
       "      <td>0.257307</td>\n",
       "      <td>0.608567</td>\n",
       "      <td>7.456154</td>\n",
       "    </tr>\n",
       "    <tr>\n",
       "      <th>1</th>\n",
       "      <td>0</td>\n",
       "      <td>0</td>\n",
       "      <td>0</td>\n",
       "      <td>0</td>\n",
       "      <td>0</td>\n",
       "      <td>1</td>\n",
       "      <td>0</td>\n",
       "      <td>0</td>\n",
       "      <td>0</td>\n",
       "      <td>0</td>\n",
       "      <td>...</td>\n",
       "      <td>0.467725</td>\n",
       "      <td>0.405868</td>\n",
       "      <td>0.560692</td>\n",
       "      <td>0.475805</td>\n",
       "      <td>0.372223</td>\n",
       "      <td>0.242983</td>\n",
       "      <td>0.230257</td>\n",
       "      <td>0.397139</td>\n",
       "      <td>0.378250</td>\n",
       "      <td>8.010957</td>\n",
       "    </tr>\n",
       "    <tr>\n",
       "      <th>2</th>\n",
       "      <td>0</td>\n",
       "      <td>0</td>\n",
       "      <td>0</td>\n",
       "      <td>0</td>\n",
       "      <td>0</td>\n",
       "      <td>0</td>\n",
       "      <td>0</td>\n",
       "      <td>0</td>\n",
       "      <td>0</td>\n",
       "      <td>0</td>\n",
       "      <td>...</td>\n",
       "      <td>0.352010</td>\n",
       "      <td>0.239588</td>\n",
       "      <td>0.194364</td>\n",
       "      <td>0.080897</td>\n",
       "      <td>0.190477</td>\n",
       "      <td>0.411063</td>\n",
       "      <td>0.247863</td>\n",
       "      <td>0.186614</td>\n",
       "      <td>0.580669</td>\n",
       "      <td>2.906977</td>\n",
       "    </tr>\n",
       "    <tr>\n",
       "      <th>3</th>\n",
       "      <td>0</td>\n",
       "      <td>0</td>\n",
       "      <td>0</td>\n",
       "      <td>0</td>\n",
       "      <td>0</td>\n",
       "      <td>0</td>\n",
       "      <td>0</td>\n",
       "      <td>0</td>\n",
       "      <td>0</td>\n",
       "      <td>0</td>\n",
       "      <td>...</td>\n",
       "      <td>0.527464</td>\n",
       "      <td>0.661885</td>\n",
       "      <td>0.715106</td>\n",
       "      <td>0.714135</td>\n",
       "      <td>0.806369</td>\n",
       "      <td>0.114716</td>\n",
       "      <td>0.256825</td>\n",
       "      <td>0.215628</td>\n",
       "      <td>0.673097</td>\n",
       "      <td>12.575816</td>\n",
       "    </tr>\n",
       "    <tr>\n",
       "      <th>4</th>\n",
       "      <td>0</td>\n",
       "      <td>0</td>\n",
       "      <td>0</td>\n",
       "      <td>0</td>\n",
       "      <td>0</td>\n",
       "      <td>0</td>\n",
       "      <td>0</td>\n",
       "      <td>0</td>\n",
       "      <td>0</td>\n",
       "      <td>1</td>\n",
       "      <td>...</td>\n",
       "      <td>0.528163</td>\n",
       "      <td>0.806577</td>\n",
       "      <td>0.725062</td>\n",
       "      <td>0.749953</td>\n",
       "      <td>0.599174</td>\n",
       "      <td>0.219742</td>\n",
       "      <td>0.206319</td>\n",
       "      <td>0.346036</td>\n",
       "      <td>0.179269</td>\n",
       "      <td>21.428589</td>\n",
       "    </tr>\n",
       "  </tbody>\n",
       "</table>\n",
       "<p>5 rows × 117 columns</p>\n",
       "</div>"
      ],
      "text/plain": [
       "   AL  AK  AZ  AR  CA  CO  CT  FL  GA  ID  ...  work_outside_home.4    shop.4  \\\n",
       "0   0   0   0   0   0   0   0   1   0   0  ...             0.327454  0.622730   \n",
       "1   0   0   0   0   0   1   0   0   0   0  ...             0.467725  0.405868   \n",
       "2   0   0   0   0   0   0   0   0   0   0  ...             0.352010  0.239588   \n",
       "3   0   0   0   0   0   0   0   0   0   0  ...             0.527464  0.661885   \n",
       "4   0   0   0   0   0   0   0   0   0   1  ...             0.528163  0.806577   \n",
       "\n",
       "   restaurant.4  spent_time.4  large_event.4  public_transit.4  anxious.4  \\\n",
       "0      0.654060      0.297424       0.373811          0.184499   0.252049   \n",
       "1      0.560692      0.475805       0.372223          0.242983   0.230257   \n",
       "2      0.194364      0.080897       0.190477          0.411063   0.247863   \n",
       "3      0.715106      0.714135       0.806369          0.114716   0.256825   \n",
       "4      0.725062      0.749953       0.599174          0.219742   0.206319   \n",
       "\n",
       "   depressed.4  worried_finances.4  tested_positive.4  \n",
       "0     0.257307            0.608567           7.456154  \n",
       "1     0.397139            0.378250           8.010957  \n",
       "2     0.186614            0.580669           2.906977  \n",
       "3     0.215628            0.673097          12.575816  \n",
       "4     0.346036            0.179269          21.428589  \n",
       "\n",
       "[5 rows x 117 columns]"
      ]
     },
     "execution_count": 24,
     "metadata": {},
     "output_type": "execute_result"
    }
   ],
   "source": [
    "train_dataset_maxmin_scaled.head()"
   ]
  },
  {
   "cell_type": "code",
   "execution_count": 25,
   "metadata": {},
   "outputs": [
    {
     "name": "stdout",
     "output_type": "stream",
     "text": [
      "1.0519556275693465\n",
      "1.051955627569344\n"
     ]
    }
   ],
   "source": [
    "lin_reg = LinearRegression()\n",
    "cross_val(lin_reg, train_dataset_normal_scaled.iloc[:, :-1], train_dataset_normal_scaled.iloc[:, -1])\n",
    "\n",
    "lin_reg = LinearRegression()\n",
    "cross_val(lin_reg, train_dataset_maxmin_scaled.iloc[:, :-1], train_dataset_maxmin_scaled.iloc[:, -1])"
   ]
  },
  {
   "cell_type": "code",
   "execution_count": 26,
   "metadata": {},
   "outputs": [],
   "source": [
    "# save test result\n",
    "\n",
    "lin_reg = LinearRegression()\n",
    "lin_reg.fit(train_dataset_normal_scaled.iloc[:, :-1], train_dataset_normal_scaled.iloc[:, -1])\n",
    "preds = lin_reg.predict(test_dataset_normal_scaled)\n",
    "\n",
    "save_pred(preds, './line_reg_with_normal_scaled_features.txt')"
   ]
  },
  {
   "cell_type": "code",
   "execution_count": 27,
   "metadata": {},
   "outputs": [],
   "source": [
    "# save test result\n",
    "\n",
    "lin_reg = LinearRegression()\n",
    "lin_reg.fit(train_dataset_maxmin_scaled.iloc[:, :-1], train_dataset_maxmin_scaled.iloc[:, -1])\n",
    "preds = lin_reg.predict(test_dataset_maxmin_scaled)\n",
    "\n",
    "save_pred(preds, './tree_reg_with_normal_scaled_features.txt')"
   ]
  },
  {
   "cell_type": "code",
   "execution_count": 28,
   "metadata": {},
   "outputs": [
    {
     "name": "stdout",
     "output_type": "stream",
     "text": [
      "minimal score: 1.0468164063875016, index 65, thr: 0.6252525252525253\n"
     ]
    }
   ],
   "source": [
    "# 特征与特征之间的相关性矩阵\n",
    "corr_matrix = train_dataset_normal_scaled.corr()\n",
    "\n",
    "# 查看与test_positive.4与其他特征之间的相关性\n",
    "positive4_coor = corr_matrix['tested_positive.4'].sort_values(ascending=False)\n",
    "\n",
    "scores = []\n",
    "thrs = []\n",
    "for thr in np.linspace(0.1, 0.9, num=100):\n",
    "    mask = positive4_coor > thr\n",
    "    # print(f'相关性大于{thr}的特征数：{sum(mask)}')\n",
    "    thrs.append(thr)\n",
    "    lin_reg = LinearRegression()\n",
    "    # 使用相关性较大的若干原始特征\n",
    "    selcted_columns = list(positive4_coor.index[mask])\n",
    "    x, y = train_dataset_normal_scaled[selcted_columns[1:]], train_dataset_normal_scaled[selcted_columns[0]]\n",
    "    score_list = cross_val_score(lin_reg, x, y, scoring='neg_mean_squared_error', cv=10)\n",
    "    scores.append(np.mean(np.sqrt(-score_list)))\n",
    "\n",
    "print(f\"minimal score: {min(scores)}, index {np.argmin(scores)}, thr: {thrs[np.argmin(scores)]}\")"
   ]
  },
  {
   "cell_type": "code",
   "execution_count": 29,
   "metadata": {},
   "outputs": [],
   "source": [
    "# save test result\n",
    "\n",
    "# 特征与特征之间的相关性矩阵\n",
    "corr_matrix = train_dataset_normal_scaled.corr()\n",
    "# 查看与test_positive.4与其他特征之间的相关性\n",
    "positive4_coor = corr_matrix['tested_positive.4'].sort_values(ascending=False)\n",
    "\n",
    "mask = positive4_coor > thrs[np.argmin(scores)]\n",
    "# 使用相关性较大的若干原始特征\n",
    "selcted_columns = list(positive4_coor.index[mask])\n",
    "x = train_dataset_normal_scaled[selcted_columns[1:]]\n",
    "y = train_dataset_normal_scaled[selcted_columns[0]]\n",
    "\n",
    "lin_reg = LinearRegression()\n",
    "lin_reg.fit(x, y)\n",
    "preds = lin_reg.predict(test_dataset_normal_scaled[selcted_columns[1:]])\n",
    "\n",
    "save_pred(preds, './line_reg_with_selected_normal_scaled_feature.txt')"
   ]
  },
  {
   "cell_type": "markdown",
   "metadata": {},
   "source": [
    "### Deep Learning"
   ]
  },
  {
   "cell_type": "code",
   "execution_count": 30,
   "metadata": {},
   "outputs": [],
   "source": [
    "from torch.utils.data import Dataset, DataLoader, random_split\n",
    "import numpy as np\n",
    "import pandas as pd\n",
    "import sklearn\n",
    "import torch\n",
    "from tqdm import tqdm\n",
    "from pathlib import Path\n",
    "from sklearn.base import BaseEstimator, TransformerMixin\n",
    "from sklearn.pipeline import Pipeline\n",
    "from sklearn.model_selection import train_test_split"
   ]
  },
  {
   "cell_type": "code",
   "execution_count": 31,
   "metadata": {},
   "outputs": [],
   "source": [
    "def same_seed(seed):\n",
    "    torch.backends.cudnn.deterministic = True\n",
    "    torch.backends.cudnn.benchmark = False\n",
    "    np.random.seed(seed)\n",
    "    torch.manual_seed(seed)\n",
    "    if torch.cuda.is_available():\n",
    "        torch.cuda.manual_seed_all(seed)"
   ]
  },
  {
   "cell_type": "markdown",
   "metadata": {},
   "source": [
    "### Dataloader"
   ]
  },
  {
   "cell_type": "code",
   "execution_count": 32,
   "metadata": {},
   "outputs": [],
   "source": [
    "def train_valid_split(dataset, valid_ratio, seed):\n",
    "    valid_set_size = int(valid_ratio * len(dataset))\n",
    "    train_set_size = len(dataset) - valid_set_size\n",
    "    train_set, valid_set = random_split(dataset, [train_set_size, valid_set_size], generator=torch.Generator().manual_seed(seed))\n",
    "    return np.array(train_set), np.array(valid_set)\n",
    "\n",
    "\n",
    "class COVID19Dataset(Dataset):\n",
    "\n",
    "    def __init__(self, x, y=None):\n",
    "        \n",
    "        \n",
    "        if y is not None:\n",
    "            shuffle_idx = np.random.permutation(len(x))\n",
    "            self.y = torch.from_numpy(y[shuffle_idx])\n",
    "            self.x = torch.from_numpy(x[shuffle_idx])\n",
    "        else:\n",
    "            self.y = y\n",
    "            self.x = torch.from_numpy(x)\n",
    "    \n",
    "    def __len__(self):\n",
    "        return len(self.x)\n",
    "\n",
    "    def __getitem__(self, item):\n",
    "        if self.y is None:\n",
    "            return self.x[item]\n",
    "        else:\n",
    "            return self.x[item], self.y[item]"
   ]
  },
  {
   "cell_type": "markdown",
   "metadata": {},
   "source": [
    "## Model"
   ]
  },
  {
   "cell_type": "code",
   "execution_count": 33,
   "metadata": {},
   "outputs": [],
   "source": [
    "class Model(torch.nn.Module):\n",
    "\n",
    "    def __init__(self, input_channel):\n",
    "        super(Model, self).__init__()\n",
    "        self.linear1 = torch.nn.Linear(input_channel, 32)\n",
    "        self.bn = torch.nn.BatchNorm1d(32)\n",
    "        self.dropout = torch.nn.Dropout(p=0.2)\n",
    "        self.act = torch.nn.LeakyReLU()\n",
    "        self.linear2 = torch.nn.Linear(32, 1)\n",
    "        \n",
    "\n",
    "    def forward(self, x):\n",
    "        x = self.linear1(x)\n",
    "        x = self.bn(x)\n",
    "        x = self.dropout(x)\n",
    "        x = self.act(x)\n",
    "        x = self.linear2(x)\n",
    "        return x"
   ]
  },
  {
   "cell_type": "markdown",
   "metadata": {},
   "source": [
    "#### Training"
   ]
  },
  {
   "cell_type": "markdown",
   "metadata": {},
   "source": [
    "**select features with correlation matrix**"
   ]
  },
  {
   "cell_type": "code",
   "execution_count": 34,
   "metadata": {},
   "outputs": [
    {
     "name": "stdout",
     "output_type": "stream",
     "text": [
      "selected features num: 35\n",
      "(2159, 34) (540, 34) (2159,) (540,)\n"
     ]
    }
   ],
   "source": [
    "from sklearn.model_selection import train_test_split\n",
    "\n",
    "same_seed(77)\n",
    "dataset = pd.read_csv(train_data_path)\n",
    "dataset = dataset[dataset.columns[1:]]  # remove 'id' column\n",
    "corr_matrix = dataset.corr()\n",
    "target_coor = corr_matrix['tested_positive.4'].sort_values(ascending=False)\n",
    "mask = target_coor > 0.5\n",
    "print(f\"selected features num: {np.sum(mask)}\")\n",
    "selected_feature_idx = list(target_coor.index[mask])\n",
    "\n",
    "x_dataset = dataset[selected_feature_idx[1:]]\n",
    "y_dataset = dataset.iloc[:, -1]\n",
    "x_train, x_val, y_train, y_val = train_test_split(x_dataset, y_dataset, test_size=0.2, random_state=77)\n",
    "print(x_train.shape, x_val.shape, y_train.shape, y_val.shape)\n"
   ]
  },
  {
   "cell_type": "markdown",
   "metadata": {},
   "source": [
    "**select features with sklearn**"
   ]
  },
  {
   "cell_type": "code",
   "execution_count": 35,
   "metadata": {},
   "outputs": [
    {
     "name": "stdout",
     "output_type": "stream",
     "text": [
      "                 Specs         Score\n",
      "100  tested_positive.3  90072.434014\n",
      "84   tested_positive.2  42336.373701\n",
      "68   tested_positive.1  26889.703770\n",
      "52     tested_positive  18870.558114\n",
      "103     hh_cmnty_cli.4  11290.799197\n",
      "87      hh_cmnty_cli.3  10849.626387\n",
      "104   nohh_cmnty_cli.4  10420.334481\n",
      "71      hh_cmnty_cli.2  10365.261059\n",
      "88    nohh_cmnty_cli.3  10055.850241\n",
      "55      hh_cmnty_cli.1   9859.626910\n",
      "72    nohh_cmnty_cli.2   9636.425489\n",
      "39        hh_cmnty_cli   9330.742363\n",
      "56    nohh_cmnty_cli.1   9180.163057\n",
      "40      nohh_cmnty_cli   8703.901285\n",
      "102              ili.4   7857.108153\n"
     ]
    }
   ],
   "source": [
    "from sklearn.feature_selection import SelectKBest\n",
    "from sklearn.feature_selection import f_regression\n",
    "\n",
    "dataset = pd.read_csv(train_data_path)\n",
    "dataset = dataset[dataset.columns[1:]]  # remove 'id' column\n",
    "x = (dataset - dataset.min()) / (dataset.max() - dataset.min())  # normalization for feature selection\n",
    "bestfeatures = SelectKBest(score_func=f_regression, k=5)\n",
    "fit = bestfeatures.fit(x,y)\n",
    "dfscores = pd.DataFrame(fit.scores_)\n",
    "dfcolumns = pd.DataFrame(x.columns)\n",
    "#concat two dataframes for better visualization \n",
    "featureScores = pd.concat([dfcolumns,dfscores],axis=1)\n",
    "featureScores.columns = ['Specs','Score']  #naming the dataframe columns\n",
    "print(featureScores.nlargest(15,'Score'))  #print 15 best features\n",
    "bestSelectedFeature = featureScores.nlargest(15,'Score')"
   ]
  },
  {
   "cell_type": "code",
   "execution_count": 36,
   "metadata": {},
   "outputs": [
    {
     "name": "stdout",
     "output_type": "stream",
     "text": [
      "(2159, 15) (540, 15) (2159,) (540,)\n"
     ]
    }
   ],
   "source": [
    "x_dataset = dataset[bestSelectedFeature['Specs']]\n",
    "y_dataset = dataset.iloc[:, -1]\n",
    "\n",
    "x_train, x_val, y_train, y_val = train_test_split(x_dataset, y_dataset, test_size=0.2, random_state=77)\n",
    "print(x_train.shape, x_val.shape, y_train.shape, y_val.shape)"
   ]
  },
  {
   "cell_type": "markdown",
   "metadata": {},
   "source": [
    "## hyper-parameters"
   ]
  },
  {
   "cell_type": "code",
   "execution_count": 37,
   "metadata": {},
   "outputs": [],
   "source": [
    "batch_size = 32\n",
    "tot_epoch = 500\n",
    "patient = 50\n",
    "lr = 1e-5\n",
    "weight_decay = 1e-4\n"
   ]
  },
  {
   "cell_type": "code",
   "execution_count": 38,
   "metadata": {},
   "outputs": [],
   "source": [
    "# dataloader, model, loss function, optimizer\n",
    "\n",
    "train_loader = DataLoader(COVID19Dataset(x_train.values, y_train.values), \n",
    "                          batch_size=batch_size, \n",
    "                          shuffle=True, \n",
    "                          num_workers=0, \n",
    "                          drop_last=False)\n",
    "\n",
    "val_loader = DataLoader(COVID19Dataset(x_val.values, y_val.values), \n",
    "                        batch_size=8, \n",
    "                        shuffle=False)\n",
    "\n",
    "device = 'cuda' if torch.cuda.is_available() else 'cpu'\n",
    "model = Model(input_channel=x_dataset.shape[1]).to(device=device)\n",
    "loss_fcn = torch.nn.MSELoss(reduction='mean')\n",
    "optimizer = torch.optim.SGD(model.parameters(), lr=lr, momentum=0.9, weight_decay=weight_decay, nesterov=True)\n",
    "# optimizer = torch.optim.AdamW(model.parameters(), lr=1e-4, weight_decay=1e-4)"
   ]
  },
  {
   "cell_type": "code",
   "execution_count": 39,
   "metadata": {
    "scrolled": true,
    "tags": []
   },
   "outputs": [
    {
     "name": "stderr",
     "output_type": "stream",
     "text": [
      "1/500: 100%|████| 68/68 [00:00<00:00, 347.09it/s, train loss 108.993 ; val loss 92.497; lr 1.00e-05]\n"
     ]
    },
    {
     "name": "stdout",
     "output_type": "stream",
     "text": [
      "saved model ValAcc: 92.497\n"
     ]
    },
    {
     "name": "stderr",
     "output_type": "stream",
     "text": [
      "2/500: 100%|█████| 68/68 [00:00<00:00, 448.43it/s, train loss 57.204 ; val loss 70.328; lr 1.00e-05]\n"
     ]
    },
    {
     "name": "stdout",
     "output_type": "stream",
     "text": [
      "saved model ValAcc: 70.328\n"
     ]
    },
    {
     "name": "stderr",
     "output_type": "stream",
     "text": [
      "3/500: 100%|█████| 68/68 [00:00<00:00, 424.51it/s, train loss 91.030 ; val loss 56.526; lr 1.00e-05]\n"
     ]
    },
    {
     "name": "stdout",
     "output_type": "stream",
     "text": [
      "saved model ValAcc: 56.526\n"
     ]
    },
    {
     "name": "stderr",
     "output_type": "stream",
     "text": [
      "4/500: 100%|█████| 68/68 [00:00<00:00, 333.42it/s, train loss 50.281 ; val loss 46.446; lr 1.00e-05]\n"
     ]
    },
    {
     "name": "stdout",
     "output_type": "stream",
     "text": [
      "saved model ValAcc: 46.446\n"
     ]
    },
    {
     "name": "stderr",
     "output_type": "stream",
     "text": [
      "5/500: 100%|█████| 68/68 [00:00<00:00, 480.70it/s, train loss 34.584 ; val loss 37.753; lr 1.00e-05]\n"
     ]
    },
    {
     "name": "stdout",
     "output_type": "stream",
     "text": [
      "saved model ValAcc: 37.753\n"
     ]
    },
    {
     "name": "stderr",
     "output_type": "stream",
     "text": [
      "6/500: 100%|█████| 68/68 [00:00<00:00, 464.70it/s, train loss 14.027 ; val loss 33.536; lr 1.00e-05]\n"
     ]
    },
    {
     "name": "stdout",
     "output_type": "stream",
     "text": [
      "saved model ValAcc: 33.536\n"
     ]
    },
    {
     "name": "stderr",
     "output_type": "stream",
     "text": [
      "7/500: 100%|█████| 68/68 [00:00<00:00, 482.53it/s, train loss 25.223 ; val loss 25.828; lr 1.00e-05]\n"
     ]
    },
    {
     "name": "stdout",
     "output_type": "stream",
     "text": [
      "saved model ValAcc: 25.828\n"
     ]
    },
    {
     "name": "stderr",
     "output_type": "stream",
     "text": [
      "8/500: 100%|█████| 68/68 [00:00<00:00, 461.53it/s, train loss 28.729 ; val loss 20.225; lr 1.00e-05]\n"
     ]
    },
    {
     "name": "stdout",
     "output_type": "stream",
     "text": [
      "saved model ValAcc: 20.225\n"
     ]
    },
    {
     "name": "stderr",
     "output_type": "stream",
     "text": [
      "9/500: 100%|█████| 68/68 [00:00<00:00, 485.01it/s, train loss 10.840 ; val loss 14.235; lr 1.00e-05]\n"
     ]
    },
    {
     "name": "stdout",
     "output_type": "stream",
     "text": [
      "saved model ValAcc: 14.235\n"
     ]
    },
    {
     "name": "stderr",
     "output_type": "stream",
     "text": [
      "10/500: 100%|████| 68/68 [00:00<00:00, 493.32it/s, train loss 27.393 ; val loss 14.858; lr 1.00e-05]\n",
      "11/500: 100%|████| 68/68 [00:00<00:00, 466.97it/s, train loss 63.225 ; val loss 11.342; lr 1.00e-05]\n"
     ]
    },
    {
     "name": "stdout",
     "output_type": "stream",
     "text": [
      "saved model ValAcc: 11.342\n"
     ]
    },
    {
     "name": "stderr",
     "output_type": "stream",
     "text": [
      "12/500: 100%|█████| 68/68 [00:00<00:00, 471.50it/s, train loss 31.134 ; val loss 9.209; lr 1.00e-05]\n"
     ]
    },
    {
     "name": "stdout",
     "output_type": "stream",
     "text": [
      "saved model ValAcc: 9.209\n"
     ]
    },
    {
     "name": "stderr",
     "output_type": "stream",
     "text": [
      "13/500: 100%|█████| 68/68 [00:00<00:00, 478.14it/s, train loss 6.052 ; val loss 12.102; lr 1.00e-05]\n",
      "14/500: 100%|█████| 68/68 [00:00<00:00, 507.96it/s, train loss 7.559 ; val loss 11.478; lr 1.00e-05]\n",
      "15/500: 100%|██████| 68/68 [00:00<00:00, 499.45it/s, train loss 6.407 ; val loss 7.172; lr 1.00e-05]\n"
     ]
    },
    {
     "name": "stdout",
     "output_type": "stream",
     "text": [
      "saved model ValAcc: 7.172\n"
     ]
    },
    {
     "name": "stderr",
     "output_type": "stream",
     "text": [
      "16/500: 100%|█████| 68/68 [00:00<00:00, 500.27it/s, train loss 10.473 ; val loss 7.504; lr 1.00e-05]\n",
      "17/500: 100%|█████| 68/68 [00:00<00:00, 535.44it/s, train loss 6.436 ; val loss 10.386; lr 1.00e-05]\n",
      "18/500: 100%|█████| 68/68 [00:00<00:00, 516.52it/s, train loss 11.583 ; val loss 6.907; lr 1.00e-05]\n"
     ]
    },
    {
     "name": "stdout",
     "output_type": "stream",
     "text": [
      "saved model ValAcc: 6.907\n"
     ]
    },
    {
     "name": "stderr",
     "output_type": "stream",
     "text": [
      "19/500: 100%|█████| 68/68 [00:00<00:00, 498.93it/s, train loss 16.100 ; val loss 5.897; lr 1.00e-05]\n"
     ]
    },
    {
     "name": "stdout",
     "output_type": "stream",
     "text": [
      "saved model ValAcc: 5.897\n"
     ]
    },
    {
     "name": "stderr",
     "output_type": "stream",
     "text": [
      "20/500: 100%|██████| 68/68 [00:00<00:00, 520.81it/s, train loss 6.437 ; val loss 7.019; lr 1.00e-05]\n",
      "21/500: 100%|█████| 68/68 [00:00<00:00, 521.09it/s, train loss 13.062 ; val loss 5.837; lr 1.00e-05]\n"
     ]
    },
    {
     "name": "stdout",
     "output_type": "stream",
     "text": [
      "saved model ValAcc: 5.837\n"
     ]
    },
    {
     "name": "stderr",
     "output_type": "stream",
     "text": [
      "22/500: 100%|█████| 68/68 [00:00<00:00, 476.72it/s, train loss 31.860 ; val loss 9.726; lr 1.00e-05]\n",
      "23/500: 100%|██████| 68/68 [00:00<00:00, 465.20it/s, train loss 5.611 ; val loss 7.999; lr 1.00e-05]\n",
      "24/500: 100%|█████| 68/68 [00:00<00:00, 512.04it/s, train loss 12.498 ; val loss 6.893; lr 1.00e-05]\n",
      "25/500: 100%|██████| 68/68 [00:00<00:00, 528.65it/s, train loss 7.562 ; val loss 5.839; lr 1.00e-05]\n",
      "26/500: 100%|██████| 68/68 [00:00<00:00, 497.33it/s, train loss 9.370 ; val loss 4.884; lr 1.00e-05]\n"
     ]
    },
    {
     "name": "stdout",
     "output_type": "stream",
     "text": [
      "saved model ValAcc: 4.884\n"
     ]
    },
    {
     "name": "stderr",
     "output_type": "stream",
     "text": [
      "27/500: 100%|█████| 68/68 [00:00<00:00, 502.80it/s, train loss 11.866 ; val loss 5.747; lr 1.00e-05]\n",
      "28/500: 100%|██████| 68/68 [00:00<00:00, 524.45it/s, train loss 4.361 ; val loss 4.711; lr 1.00e-05]\n"
     ]
    },
    {
     "name": "stdout",
     "output_type": "stream",
     "text": [
      "saved model ValAcc: 4.711\n"
     ]
    },
    {
     "name": "stderr",
     "output_type": "stream",
     "text": [
      "29/500: 100%|█████| 68/68 [00:00<00:00, 508.40it/s, train loss 18.002 ; val loss 4.673; lr 1.00e-05]\n"
     ]
    },
    {
     "name": "stdout",
     "output_type": "stream",
     "text": [
      "saved model ValAcc: 4.673\n"
     ]
    },
    {
     "name": "stderr",
     "output_type": "stream",
     "text": [
      "30/500: 100%|██████| 68/68 [00:00<00:00, 536.78it/s, train loss 7.642 ; val loss 4.950; lr 1.00e-05]\n",
      "31/500: 100%|██████| 68/68 [00:00<00:00, 523.65it/s, train loss 6.650 ; val loss 5.352; lr 1.00e-05]\n",
      "32/500: 100%|██████| 68/68 [00:00<00:00, 541.93it/s, train loss 8.448 ; val loss 4.961; lr 1.00e-05]\n",
      "33/500: 100%|█████| 68/68 [00:00<00:00, 510.20it/s, train loss 10.888 ; val loss 5.309; lr 1.00e-05]\n",
      "34/500: 100%|█████| 68/68 [00:00<00:00, 465.68it/s, train loss 18.610 ; val loss 4.545; lr 1.00e-05]\n"
     ]
    },
    {
     "name": "stdout",
     "output_type": "stream",
     "text": [
      "saved model ValAcc: 4.545\n"
     ]
    },
    {
     "name": "stderr",
     "output_type": "stream",
     "text": [
      "35/500: 100%|█████| 68/68 [00:00<00:00, 503.26it/s, train loss 10.804 ; val loss 5.479; lr 1.00e-05]\n",
      "36/500: 100%|██████| 68/68 [00:00<00:00, 521.33it/s, train loss 8.570 ; val loss 4.037; lr 1.00e-05]\n"
     ]
    },
    {
     "name": "stdout",
     "output_type": "stream",
     "text": [
      "saved model ValAcc: 4.037\n"
     ]
    },
    {
     "name": "stderr",
     "output_type": "stream",
     "text": [
      "37/500: 100%|█████| 68/68 [00:00<00:00, 516.05it/s, train loss 19.448 ; val loss 6.981; lr 1.00e-05]\n",
      "38/500: 100%|██████| 68/68 [00:00<00:00, 503.38it/s, train loss 2.640 ; val loss 4.265; lr 1.00e-05]\n",
      "39/500: 100%|██████| 68/68 [00:00<00:00, 526.94it/s, train loss 9.956 ; val loss 3.969; lr 1.00e-05]\n"
     ]
    },
    {
     "name": "stdout",
     "output_type": "stream",
     "text": [
      "saved model ValAcc: 3.969\n"
     ]
    },
    {
     "name": "stderr",
     "output_type": "stream",
     "text": [
      "40/500: 100%|██████| 68/68 [00:00<00:00, 263.17it/s, train loss 6.242 ; val loss 4.069; lr 1.00e-05]\n",
      "41/500: 100%|█████| 68/68 [00:00<00:00, 507.08it/s, train loss 11.792 ; val loss 6.945; lr 1.00e-05]\n",
      "42/500: 100%|██████| 68/68 [00:00<00:00, 509.20it/s, train loss 7.026 ; val loss 5.241; lr 1.00e-05]\n",
      "43/500: 100%|██████| 68/68 [00:00<00:00, 544.20it/s, train loss 5.052 ; val loss 4.424; lr 1.00e-05]\n",
      "44/500: 100%|█████| 68/68 [00:00<00:00, 430.34it/s, train loss 19.346 ; val loss 4.144; lr 1.00e-05]\n",
      "45/500: 100%|█████| 68/68 [00:00<00:00, 427.41it/s, train loss 11.073 ; val loss 5.442; lr 1.00e-05]\n",
      "46/500: 100%|█████| 68/68 [00:00<00:00, 442.80it/s, train loss 14.454 ; val loss 4.950; lr 1.00e-05]\n",
      "47/500: 100%|█████| 68/68 [00:00<00:00, 505.06it/s, train loss 10.665 ; val loss 4.937; lr 1.00e-05]\n",
      "48/500: 100%|██████| 68/68 [00:00<00:00, 514.33it/s, train loss 5.121 ; val loss 4.455; lr 1.00e-05]\n",
      "49/500: 100%|█████| 68/68 [00:00<00:00, 302.73it/s, train loss 15.115 ; val loss 4.062; lr 1.00e-05]\n",
      "50/500: 100%|██████| 68/68 [00:00<00:00, 508.74it/s, train loss 5.869 ; val loss 3.799; lr 1.00e-05]\n"
     ]
    },
    {
     "name": "stdout",
     "output_type": "stream",
     "text": [
      "saved model ValAcc: 3.799\n"
     ]
    },
    {
     "name": "stderr",
     "output_type": "stream",
     "text": [
      "51/500: 100%|██████| 68/68 [00:00<00:00, 541.05it/s, train loss 3.924 ; val loss 4.025; lr 1.00e-05]\n",
      "52/500: 100%|█████| 68/68 [00:00<00:00, 542.25it/s, train loss 19.581 ; val loss 4.233; lr 1.00e-05]\n",
      "53/500: 100%|██████| 68/68 [00:00<00:00, 551.58it/s, train loss 9.181 ; val loss 4.250; lr 1.00e-05]\n",
      "54/500: 100%|█████| 68/68 [00:00<00:00, 389.76it/s, train loss 16.541 ; val loss 5.437; lr 1.00e-05]\n",
      "55/500: 100%|█████| 68/68 [00:00<00:00, 485.03it/s, train loss 17.507 ; val loss 3.798; lr 1.00e-05]\n"
     ]
    },
    {
     "name": "stdout",
     "output_type": "stream",
     "text": [
      "saved model ValAcc: 3.798\n"
     ]
    },
    {
     "name": "stderr",
     "output_type": "stream",
     "text": [
      "56/500: 100%|██████| 68/68 [00:00<00:00, 415.59it/s, train loss 9.041 ; val loss 4.411; lr 1.00e-05]\n",
      "57/500: 100%|██████| 68/68 [00:00<00:00, 470.22it/s, train loss 4.049 ; val loss 4.097; lr 1.00e-05]\n",
      "58/500: 100%|██████| 68/68 [00:00<00:00, 490.10it/s, train loss 8.278 ; val loss 3.912; lr 1.00e-05]\n",
      "59/500: 100%|██████| 68/68 [00:00<00:00, 477.49it/s, train loss 9.917 ; val loss 3.548; lr 1.00e-05]\n"
     ]
    },
    {
     "name": "stdout",
     "output_type": "stream",
     "text": [
      "saved model ValAcc: 3.548\n"
     ]
    },
    {
     "name": "stderr",
     "output_type": "stream",
     "text": [
      "60/500: 100%|██████| 68/68 [00:00<00:00, 306.05it/s, train loss 8.233 ; val loss 4.403; lr 1.00e-05]\n",
      "61/500: 100%|██████| 68/68 [00:00<00:00, 515.43it/s, train loss 4.108 ; val loss 3.853; lr 1.00e-05]\n",
      "62/500: 100%|██████| 68/68 [00:00<00:00, 509.24it/s, train loss 3.874 ; val loss 4.116; lr 1.00e-05]\n",
      "63/500: 100%|██████| 68/68 [00:00<00:00, 523.06it/s, train loss 5.555 ; val loss 4.831; lr 1.00e-05]\n",
      "64/500: 100%|██████| 68/68 [00:00<00:00, 421.18it/s, train loss 7.792 ; val loss 3.494; lr 1.00e-05]\n"
     ]
    },
    {
     "name": "stdout",
     "output_type": "stream",
     "text": [
      "saved model ValAcc: 3.494\n"
     ]
    },
    {
     "name": "stderr",
     "output_type": "stream",
     "text": [
      "65/500: 100%|██████| 68/68 [00:00<00:00, 502.08it/s, train loss 8.396 ; val loss 6.040; lr 1.00e-05]\n",
      "66/500: 100%|██████| 68/68 [00:00<00:00, 498.52it/s, train loss 4.725 ; val loss 4.696; lr 1.00e-05]\n",
      "67/500: 100%|██████| 68/68 [00:00<00:00, 417.34it/s, train loss 1.799 ; val loss 3.833; lr 1.00e-05]\n",
      "68/500: 100%|██████| 68/68 [00:00<00:00, 417.58it/s, train loss 9.739 ; val loss 3.418; lr 1.00e-05]\n"
     ]
    },
    {
     "name": "stdout",
     "output_type": "stream",
     "text": [
      "saved model ValAcc: 3.418\n"
     ]
    },
    {
     "name": "stderr",
     "output_type": "stream",
     "text": [
      "69/500: 100%|██████| 68/68 [00:00<00:00, 472.32it/s, train loss 4.040 ; val loss 3.220; lr 1.00e-05]\n"
     ]
    },
    {
     "name": "stdout",
     "output_type": "stream",
     "text": [
      "saved model ValAcc: 3.220\n"
     ]
    },
    {
     "name": "stderr",
     "output_type": "stream",
     "text": [
      "70/500: 100%|█████| 68/68 [00:00<00:00, 487.95it/s, train loss 30.347 ; val loss 3.391; lr 1.00e-05]\n",
      "71/500: 100%|██████| 68/68 [00:00<00:00, 555.68it/s, train loss 6.222 ; val loss 3.629; lr 1.00e-05]\n",
      "72/500: 100%|█████| 68/68 [00:00<00:00, 539.45it/s, train loss 22.314 ; val loss 4.150; lr 1.00e-05]\n",
      "73/500: 100%|█████| 68/68 [00:00<00:00, 529.22it/s, train loss 13.199 ; val loss 4.057; lr 1.00e-05]\n",
      "74/500: 100%|█████| 68/68 [00:00<00:00, 498.57it/s, train loss 35.616 ; val loss 3.333; lr 1.00e-05]\n",
      "75/500: 100%|█████| 68/68 [00:00<00:00, 510.86it/s, train loss 10.472 ; val loss 3.166; lr 1.00e-05]\n"
     ]
    },
    {
     "name": "stdout",
     "output_type": "stream",
     "text": [
      "saved model ValAcc: 3.166\n"
     ]
    },
    {
     "name": "stderr",
     "output_type": "stream",
     "text": [
      "76/500: 100%|██████| 68/68 [00:00<00:00, 502.87it/s, train loss 7.538 ; val loss 3.328; lr 1.00e-05]\n",
      "77/500: 100%|█████| 68/68 [00:00<00:00, 507.78it/s, train loss 11.892 ; val loss 3.276; lr 1.00e-05]\n",
      "78/500: 100%|██████| 68/68 [00:00<00:00, 506.09it/s, train loss 9.284 ; val loss 4.038; lr 1.00e-05]\n",
      "79/500: 100%|██████| 68/68 [00:00<00:00, 518.48it/s, train loss 7.200 ; val loss 4.535; lr 1.00e-05]\n",
      "80/500: 100%|██████| 68/68 [00:00<00:00, 513.96it/s, train loss 4.821 ; val loss 3.710; lr 1.00e-05]\n",
      "81/500: 100%|██████| 68/68 [00:00<00:00, 506.33it/s, train loss 2.761 ; val loss 3.393; lr 1.00e-05]\n",
      "82/500: 100%|██████| 68/68 [00:00<00:00, 518.84it/s, train loss 3.711 ; val loss 3.541; lr 1.00e-05]\n",
      "83/500: 100%|██████| 68/68 [00:00<00:00, 551.34it/s, train loss 3.719 ; val loss 4.965; lr 1.00e-05]\n",
      "84/500: 100%|██████| 68/68 [00:00<00:00, 490.40it/s, train loss 8.498 ; val loss 3.657; lr 1.00e-05]\n",
      "85/500: 100%|██████| 68/68 [00:00<00:00, 488.84it/s, train loss 8.218 ; val loss 3.065; lr 1.00e-05]\n"
     ]
    },
    {
     "name": "stdout",
     "output_type": "stream",
     "text": [
      "saved model ValAcc: 3.065\n"
     ]
    },
    {
     "name": "stderr",
     "output_type": "stream",
     "text": [
      "86/500: 100%|█████| 68/68 [00:00<00:00, 493.70it/s, train loss 13.345 ; val loss 3.157; lr 1.00e-05]\n",
      "87/500: 100%|██████| 68/68 [00:00<00:00, 501.49it/s, train loss 4.844 ; val loss 3.062; lr 1.00e-05]\n"
     ]
    },
    {
     "name": "stdout",
     "output_type": "stream",
     "text": [
      "saved model ValAcc: 3.062\n"
     ]
    },
    {
     "name": "stderr",
     "output_type": "stream",
     "text": [
      "88/500: 100%|█████| 68/68 [00:00<00:00, 485.56it/s, train loss 18.881 ; val loss 4.490; lr 1.00e-05]\n",
      "89/500: 100%|██████| 68/68 [00:00<00:00, 492.16it/s, train loss 5.524 ; val loss 3.370; lr 1.00e-05]\n",
      "90/500: 100%|██████| 68/68 [00:00<00:00, 507.64it/s, train loss 5.987 ; val loss 3.428; lr 1.00e-05]\n",
      "91/500: 100%|██████| 68/68 [00:00<00:00, 503.94it/s, train loss 8.044 ; val loss 3.443; lr 1.00e-05]\n",
      "92/500: 100%|█████| 68/68 [00:00<00:00, 516.30it/s, train loss 23.810 ; val loss 3.843; lr 1.00e-05]\n",
      "93/500: 100%|██████| 68/68 [00:00<00:00, 564.01it/s, train loss 2.835 ; val loss 3.331; lr 1.00e-05]\n",
      "94/500: 100%|█████| 68/68 [00:00<00:00, 529.68it/s, train loss 10.511 ; val loss 3.105; lr 1.00e-05]\n",
      "95/500: 100%|██████| 68/68 [00:00<00:00, 500.25it/s, train loss 5.506 ; val loss 4.062; lr 1.00e-05]\n",
      "96/500: 100%|██████| 68/68 [00:00<00:00, 497.36it/s, train loss 2.882 ; val loss 3.688; lr 1.00e-05]\n",
      "97/500: 100%|██████| 68/68 [00:00<00:00, 500.25it/s, train loss 2.676 ; val loss 3.040; lr 1.00e-05]\n"
     ]
    },
    {
     "name": "stdout",
     "output_type": "stream",
     "text": [
      "saved model ValAcc: 3.040\n"
     ]
    },
    {
     "name": "stderr",
     "output_type": "stream",
     "text": [
      "98/500: 100%|██████| 68/68 [00:00<00:00, 501.85it/s, train loss 7.144 ; val loss 3.255; lr 1.00e-05]\n",
      "99/500: 100%|██████| 68/68 [00:00<00:00, 460.94it/s, train loss 4.325 ; val loss 3.147; lr 1.00e-05]\n",
      "100/500: 100%|█████| 68/68 [00:00<00:00, 527.32it/s, train loss 3.884 ; val loss 2.900; lr 1.00e-05]\n"
     ]
    },
    {
     "name": "stdout",
     "output_type": "stream",
     "text": [
      "saved model ValAcc: 2.900\n"
     ]
    },
    {
     "name": "stderr",
     "output_type": "stream",
     "text": [
      "101/500: 100%|████| 68/68 [00:00<00:00, 488.77it/s, train loss 12.455 ; val loss 3.522; lr 1.00e-05]\n",
      "102/500: 100%|████| 68/68 [00:00<00:00, 517.29it/s, train loss 20.567 ; val loss 2.853; lr 1.00e-05]\n"
     ]
    },
    {
     "name": "stdout",
     "output_type": "stream",
     "text": [
      "saved model ValAcc: 2.853\n"
     ]
    },
    {
     "name": "stderr",
     "output_type": "stream",
     "text": [
      "103/500: 100%|████| 68/68 [00:00<00:00, 485.40it/s, train loss 17.939 ; val loss 4.828; lr 1.00e-05]\n",
      "104/500: 100%|█████| 68/68 [00:00<00:00, 520.67it/s, train loss 4.871 ; val loss 6.529; lr 1.00e-05]\n",
      "105/500: 100%|████| 68/68 [00:00<00:00, 528.06it/s, train loss 12.909 ; val loss 3.108; lr 1.00e-05]\n",
      "106/500: 100%|█████| 68/68 [00:00<00:00, 503.24it/s, train loss 8.500 ; val loss 3.019; lr 1.00e-05]\n",
      "107/500: 100%|████| 68/68 [00:00<00:00, 503.81it/s, train loss 11.024 ; val loss 2.746; lr 1.00e-05]\n"
     ]
    },
    {
     "name": "stdout",
     "output_type": "stream",
     "text": [
      "saved model ValAcc: 2.746\n"
     ]
    },
    {
     "name": "stderr",
     "output_type": "stream",
     "text": [
      "108/500: 100%|█████| 68/68 [00:00<00:00, 515.71it/s, train loss 3.502 ; val loss 2.856; lr 1.00e-05]\n",
      "109/500: 100%|█████| 68/68 [00:00<00:00, 506.02it/s, train loss 3.998 ; val loss 6.972; lr 1.00e-05]\n",
      "110/500: 100%|█████| 68/68 [00:00<00:00, 557.10it/s, train loss 7.475 ; val loss 2.700; lr 1.00e-05]\n"
     ]
    },
    {
     "name": "stdout",
     "output_type": "stream",
     "text": [
      "saved model ValAcc: 2.700\n"
     ]
    },
    {
     "name": "stderr",
     "output_type": "stream",
     "text": [
      "111/500: 100%|█████| 68/68 [00:00<00:00, 535.27it/s, train loss 8.228 ; val loss 3.187; lr 1.00e-05]\n",
      "112/500: 100%|█████| 68/68 [00:00<00:00, 555.73it/s, train loss 6.087 ; val loss 2.651; lr 1.00e-05]\n"
     ]
    },
    {
     "name": "stdout",
     "output_type": "stream",
     "text": [
      "saved model ValAcc: 2.651\n"
     ]
    },
    {
     "name": "stderr",
     "output_type": "stream",
     "text": [
      "113/500: 100%|█████| 68/68 [00:00<00:00, 534.87it/s, train loss 3.541 ; val loss 3.465; lr 1.00e-05]\n",
      "114/500: 100%|████| 68/68 [00:00<00:00, 540.89it/s, train loss 12.714 ; val loss 2.724; lr 1.00e-05]\n",
      "115/500: 100%|████| 68/68 [00:00<00:00, 548.21it/s, train loss 15.374 ; val loss 2.570; lr 1.00e-05]\n"
     ]
    },
    {
     "name": "stdout",
     "output_type": "stream",
     "text": [
      "saved model ValAcc: 2.570\n"
     ]
    },
    {
     "name": "stderr",
     "output_type": "stream",
     "text": [
      "116/500: 100%|█████| 68/68 [00:00<00:00, 535.98it/s, train loss 9.808 ; val loss 2.804; lr 1.00e-05]\n",
      "117/500: 100%|█████| 68/68 [00:00<00:00, 519.36it/s, train loss 4.663 ; val loss 3.923; lr 1.00e-05]\n",
      "118/500: 100%|█████| 68/68 [00:00<00:00, 531.97it/s, train loss 7.958 ; val loss 3.109; lr 1.00e-05]\n",
      "119/500: 100%|████| 68/68 [00:00<00:00, 563.15it/s, train loss 11.189 ; val loss 2.846; lr 1.00e-05]\n",
      "120/500: 100%|█████| 68/68 [00:00<00:00, 455.91it/s, train loss 3.459 ; val loss 3.945; lr 1.00e-05]\n",
      "121/500: 100%|████| 68/68 [00:00<00:00, 535.62it/s, train loss 12.645 ; val loss 2.896; lr 1.00e-05]\n",
      "122/500: 100%|█████| 68/68 [00:00<00:00, 550.60it/s, train loss 5.917 ; val loss 2.726; lr 1.00e-05]\n",
      "123/500: 100%|█████| 68/68 [00:00<00:00, 526.66it/s, train loss 7.766 ; val loss 2.766; lr 1.00e-05]\n",
      "124/500: 100%|█████| 68/68 [00:00<00:00, 555.04it/s, train loss 4.543 ; val loss 2.927; lr 1.00e-05]\n",
      "125/500: 100%|█████| 68/68 [00:00<00:00, 540.62it/s, train loss 5.954 ; val loss 2.929; lr 1.00e-05]\n",
      "126/500: 100%|█████| 68/68 [00:00<00:00, 528.26it/s, train loss 2.570 ; val loss 3.133; lr 1.00e-05]\n",
      "127/500: 100%|█████| 68/68 [00:00<00:00, 506.56it/s, train loss 4.382 ; val loss 2.944; lr 1.00e-05]\n",
      "128/500: 100%|█████| 68/68 [00:00<00:00, 498.78it/s, train loss 3.343 ; val loss 3.036; lr 1.00e-05]\n",
      "129/500: 100%|█████| 68/68 [00:00<00:00, 503.96it/s, train loss 5.678 ; val loss 3.518; lr 1.00e-05]\n",
      "130/500: 100%|█████| 68/68 [00:00<00:00, 505.50it/s, train loss 8.819 ; val loss 2.492; lr 1.00e-05]\n"
     ]
    },
    {
     "name": "stdout",
     "output_type": "stream",
     "text": [
      "saved model ValAcc: 2.492\n"
     ]
    },
    {
     "name": "stderr",
     "output_type": "stream",
     "text": [
      "131/500: 100%|█████| 68/68 [00:00<00:00, 492.16it/s, train loss 7.036 ; val loss 2.511; lr 1.00e-05]\n",
      "132/500: 100%|█████| 68/68 [00:00<00:00, 535.80it/s, train loss 4.273 ; val loss 2.817; lr 1.00e-05]\n",
      "133/500: 100%|█████| 68/68 [00:00<00:00, 516.47it/s, train loss 4.422 ; val loss 2.592; lr 1.00e-05]\n",
      "134/500: 100%|█████| 68/68 [00:00<00:00, 466.99it/s, train loss 3.827 ; val loss 2.638; lr 1.00e-05]\n",
      "135/500: 100%|█████| 68/68 [00:00<00:00, 477.74it/s, train loss 3.442 ; val loss 2.788; lr 1.00e-05]\n",
      "136/500: 100%|█████| 68/68 [00:00<00:00, 475.92it/s, train loss 7.813 ; val loss 4.109; lr 1.00e-05]\n",
      "137/500: 100%|█████| 68/68 [00:00<00:00, 477.33it/s, train loss 9.203 ; val loss 3.027; lr 1.00e-05]\n",
      "138/500: 100%|█████| 68/68 [00:00<00:00, 511.33it/s, train loss 6.162 ; val loss 3.229; lr 1.00e-05]\n",
      "139/500: 100%|█████| 68/68 [00:00<00:00, 504.36it/s, train loss 5.664 ; val loss 3.767; lr 1.00e-05]\n",
      "140/500: 100%|█████| 68/68 [00:00<00:00, 484.62it/s, train loss 7.554 ; val loss 3.075; lr 1.00e-05]\n",
      "141/500: 100%|█████| 68/68 [00:00<00:00, 497.10it/s, train loss 8.464 ; val loss 2.477; lr 1.00e-05]\n"
     ]
    },
    {
     "name": "stdout",
     "output_type": "stream",
     "text": [
      "saved model ValAcc: 2.477\n"
     ]
    },
    {
     "name": "stderr",
     "output_type": "stream",
     "text": [
      "142/500: 100%|█████| 68/68 [00:00<00:00, 491.20it/s, train loss 5.879 ; val loss 2.429; lr 1.00e-05]\n"
     ]
    },
    {
     "name": "stdout",
     "output_type": "stream",
     "text": [
      "saved model ValAcc: 2.429\n"
     ]
    },
    {
     "name": "stderr",
     "output_type": "stream",
     "text": [
      "143/500: 100%|█████| 68/68 [00:00<00:00, 452.45it/s, train loss 7.467 ; val loss 4.437; lr 1.00e-05]\n",
      "144/500: 100%|████| 68/68 [00:00<00:00, 489.81it/s, train loss 17.386 ; val loss 2.481; lr 1.00e-05]\n",
      "145/500: 100%|█████| 68/68 [00:00<00:00, 469.72it/s, train loss 7.832 ; val loss 2.985; lr 1.00e-05]\n",
      "146/500: 100%|█████| 68/68 [00:00<00:00, 500.70it/s, train loss 5.190 ; val loss 3.516; lr 1.00e-05]\n",
      "147/500: 100%|█████| 68/68 [00:00<00:00, 466.85it/s, train loss 5.668 ; val loss 3.450; lr 1.00e-05]\n",
      "148/500: 100%|█████| 68/68 [00:00<00:00, 496.53it/s, train loss 4.271 ; val loss 2.341; lr 1.00e-05]\n"
     ]
    },
    {
     "name": "stdout",
     "output_type": "stream",
     "text": [
      "saved model ValAcc: 2.341\n"
     ]
    },
    {
     "name": "stderr",
     "output_type": "stream",
     "text": [
      "149/500: 100%|█████| 68/68 [00:00<00:00, 505.93it/s, train loss 5.881 ; val loss 2.401; lr 1.00e-05]\n",
      "150/500: 100%|█████| 68/68 [00:00<00:00, 517.95it/s, train loss 4.957 ; val loss 3.379; lr 1.00e-05]\n",
      "151/500: 100%|█████| 68/68 [00:00<00:00, 507.25it/s, train loss 1.913 ; val loss 3.404; lr 1.00e-05]\n",
      "152/500: 100%|█████| 68/68 [00:00<00:00, 506.89it/s, train loss 3.503 ; val loss 2.347; lr 1.00e-05]\n",
      "153/500: 100%|█████| 68/68 [00:00<00:00, 496.59it/s, train loss 9.602 ; val loss 2.510; lr 1.00e-05]\n",
      "154/500: 100%|█████| 68/68 [00:00<00:00, 500.31it/s, train loss 5.945 ; val loss 2.231; lr 1.00e-05]\n"
     ]
    },
    {
     "name": "stdout",
     "output_type": "stream",
     "text": [
      "saved model ValAcc: 2.231\n"
     ]
    },
    {
     "name": "stderr",
     "output_type": "stream",
     "text": [
      "155/500: 100%|█████| 68/68 [00:00<00:00, 475.12it/s, train loss 7.436 ; val loss 2.861; lr 1.00e-05]\n",
      "156/500: 100%|████| 68/68 [00:00<00:00, 523.21it/s, train loss 11.289 ; val loss 2.486; lr 1.00e-05]\n",
      "157/500: 100%|█████| 68/68 [00:00<00:00, 548.66it/s, train loss 2.864 ; val loss 2.291; lr 1.00e-05]\n",
      "158/500: 100%|█████| 68/68 [00:00<00:00, 351.84it/s, train loss 5.193 ; val loss 2.694; lr 1.00e-05]\n",
      "159/500: 100%|█████| 68/68 [00:00<00:00, 504.14it/s, train loss 4.781 ; val loss 2.350; lr 1.00e-05]\n",
      "160/500: 100%|█████| 68/68 [00:00<00:00, 457.63it/s, train loss 4.578 ; val loss 2.171; lr 1.00e-05]\n"
     ]
    },
    {
     "name": "stdout",
     "output_type": "stream",
     "text": [
      "saved model ValAcc: 2.171\n"
     ]
    },
    {
     "name": "stderr",
     "output_type": "stream",
     "text": [
      "161/500: 100%|█████| 68/68 [00:00<00:00, 475.22it/s, train loss 6.210 ; val loss 4.602; lr 1.00e-05]\n",
      "162/500: 100%|█████| 68/68 [00:00<00:00, 557.72it/s, train loss 2.148 ; val loss 4.998; lr 1.00e-05]\n",
      "163/500: 100%|█████| 68/68 [00:00<00:00, 553.95it/s, train loss 8.153 ; val loss 3.078; lr 1.00e-05]\n",
      "164/500: 100%|█████| 68/68 [00:00<00:00, 543.42it/s, train loss 2.950 ; val loss 2.525; lr 1.00e-05]\n",
      "165/500: 100%|████| 68/68 [00:00<00:00, 552.28it/s, train loss 19.931 ; val loss 2.614; lr 1.00e-05]\n",
      "166/500: 100%|█████| 68/68 [00:00<00:00, 470.67it/s, train loss 5.352 ; val loss 2.364; lr 1.00e-05]\n",
      "167/500: 100%|████| 68/68 [00:00<00:00, 513.33it/s, train loss 11.035 ; val loss 3.454; lr 1.00e-05]\n",
      "168/500: 100%|█████| 68/68 [00:00<00:00, 502.85it/s, train loss 4.615 ; val loss 2.185; lr 1.00e-05]\n",
      "169/500: 100%|█████| 68/68 [00:00<00:00, 517.43it/s, train loss 8.260 ; val loss 2.079; lr 1.00e-05]\n"
     ]
    },
    {
     "name": "stdout",
     "output_type": "stream",
     "text": [
      "saved model ValAcc: 2.079\n"
     ]
    },
    {
     "name": "stderr",
     "output_type": "stream",
     "text": [
      "170/500: 100%|█████| 68/68 [00:00<00:00, 505.03it/s, train loss 2.842 ; val loss 3.079; lr 1.00e-05]\n",
      "171/500: 100%|████| 68/68 [00:00<00:00, 483.90it/s, train loss 21.228 ; val loss 2.550; lr 1.00e-05]\n",
      "172/500: 100%|█████| 68/68 [00:00<00:00, 475.96it/s, train loss 4.872 ; val loss 2.452; lr 1.00e-05]\n",
      "173/500: 100%|█████| 68/68 [00:00<00:00, 505.43it/s, train loss 9.313 ; val loss 2.535; lr 1.00e-05]\n",
      "174/500: 100%|████| 68/68 [00:00<00:00, 502.23it/s, train loss 11.947 ; val loss 3.049; lr 1.00e-05]\n",
      "175/500: 100%|█████| 68/68 [00:00<00:00, 515.09it/s, train loss 3.596 ; val loss 2.151; lr 1.00e-05]\n",
      "176/500: 100%|█████| 68/68 [00:00<00:00, 494.31it/s, train loss 2.623 ; val loss 2.233; lr 1.00e-05]\n",
      "177/500: 100%|█████| 68/68 [00:00<00:00, 469.60it/s, train loss 7.170 ; val loss 2.183; lr 1.00e-05]\n",
      "178/500: 100%|████| 68/68 [00:00<00:00, 511.95it/s, train loss 15.732 ; val loss 2.163; lr 1.00e-05]\n",
      "179/500: 100%|█████| 68/68 [00:00<00:00, 550.16it/s, train loss 9.659 ; val loss 2.031; lr 1.00e-05]\n"
     ]
    },
    {
     "name": "stdout",
     "output_type": "stream",
     "text": [
      "saved model ValAcc: 2.031\n"
     ]
    },
    {
     "name": "stderr",
     "output_type": "stream",
     "text": [
      "180/500: 100%|████| 68/68 [00:00<00:00, 535.98it/s, train loss 15.217 ; val loss 2.281; lr 1.00e-05]\n",
      "181/500: 100%|█████| 68/68 [00:00<00:00, 532.25it/s, train loss 5.943 ; val loss 2.498; lr 1.00e-05]\n",
      "182/500: 100%|████| 68/68 [00:00<00:00, 550.60it/s, train loss 11.750 ; val loss 2.641; lr 1.00e-05]\n",
      "183/500: 100%|█████| 68/68 [00:00<00:00, 441.32it/s, train loss 4.018 ; val loss 2.229; lr 1.00e-05]\n",
      "184/500: 100%|█████| 68/68 [00:00<00:00, 538.59it/s, train loss 8.028 ; val loss 2.615; lr 1.00e-05]\n",
      "185/500: 100%|█████| 68/68 [00:00<00:00, 515.35it/s, train loss 4.845 ; val loss 2.285; lr 1.00e-05]\n",
      "186/500: 100%|█████| 68/68 [00:00<00:00, 469.73it/s, train loss 7.876 ; val loss 2.067; lr 1.00e-05]\n",
      "187/500: 100%|████| 68/68 [00:00<00:00, 404.59it/s, train loss 13.429 ; val loss 2.388; lr 1.00e-05]\n",
      "188/500: 100%|█████| 68/68 [00:00<00:00, 490.54it/s, train loss 9.330 ; val loss 2.820; lr 1.00e-05]\n",
      "189/500: 100%|█████| 68/68 [00:00<00:00, 494.25it/s, train loss 5.094 ; val loss 2.811; lr 1.00e-05]\n",
      "190/500: 100%|█████| 68/68 [00:00<00:00, 488.16it/s, train loss 6.928 ; val loss 2.326; lr 1.00e-05]\n",
      "191/500: 100%|█████| 68/68 [00:00<00:00, 477.45it/s, train loss 5.631 ; val loss 2.201; lr 1.00e-05]\n",
      "192/500: 100%|█████| 68/68 [00:00<00:00, 534.13it/s, train loss 3.579 ; val loss 2.177; lr 1.00e-05]\n",
      "193/500: 100%|█████| 68/68 [00:00<00:00, 539.56it/s, train loss 7.963 ; val loss 2.728; lr 1.00e-05]\n",
      "194/500: 100%|█████| 68/68 [00:00<00:00, 537.45it/s, train loss 1.636 ; val loss 2.037; lr 1.00e-05]\n",
      "195/500: 100%|█████| 68/68 [00:00<00:00, 543.83it/s, train loss 4.597 ; val loss 2.225; lr 1.00e-05]\n",
      "196/500: 100%|█████| 68/68 [00:00<00:00, 534.52it/s, train loss 3.584 ; val loss 2.403; lr 1.00e-05]\n",
      "197/500: 100%|█████| 68/68 [00:00<00:00, 538.03it/s, train loss 4.161 ; val loss 1.983; lr 1.00e-05]\n"
     ]
    },
    {
     "name": "stdout",
     "output_type": "stream",
     "text": [
      "saved model ValAcc: 1.983\n"
     ]
    },
    {
     "name": "stderr",
     "output_type": "stream",
     "text": [
      "198/500: 100%|█████| 68/68 [00:00<00:00, 515.56it/s, train loss 8.831 ; val loss 2.526; lr 1.00e-05]\n",
      "199/500: 100%|█████| 68/68 [00:00<00:00, 537.06it/s, train loss 3.187 ; val loss 2.220; lr 1.00e-05]\n",
      "200/500: 100%|█████| 68/68 [00:00<00:00, 547.91it/s, train loss 1.471 ; val loss 2.136; lr 1.00e-05]\n",
      "201/500: 100%|█████| 68/68 [00:00<00:00, 537.23it/s, train loss 4.325 ; val loss 1.982; lr 1.00e-05]\n"
     ]
    },
    {
     "name": "stdout",
     "output_type": "stream",
     "text": [
      "saved model ValAcc: 1.982\n"
     ]
    },
    {
     "name": "stderr",
     "output_type": "stream",
     "text": [
      "202/500: 100%|█████| 68/68 [00:00<00:00, 324.72it/s, train loss 4.695 ; val loss 2.015; lr 1.00e-05]\n",
      "203/500: 100%|████| 68/68 [00:00<00:00, 501.84it/s, train loss 11.685 ; val loss 1.996; lr 1.00e-05]\n",
      "204/500: 100%|█████| 68/68 [00:00<00:00, 509.57it/s, train loss 3.497 ; val loss 2.098; lr 1.00e-05]\n",
      "205/500: 100%|█████| 68/68 [00:00<00:00, 517.72it/s, train loss 3.573 ; val loss 2.190; lr 1.00e-05]\n",
      "206/500: 100%|█████| 68/68 [00:00<00:00, 514.97it/s, train loss 7.562 ; val loss 2.328; lr 1.00e-05]\n",
      "207/500: 100%|████| 68/68 [00:00<00:00, 542.14it/s, train loss 12.779 ; val loss 2.838; lr 1.00e-05]\n",
      "208/500: 100%|█████| 68/68 [00:00<00:00, 544.10it/s, train loss 2.707 ; val loss 2.165; lr 1.00e-05]\n",
      "209/500: 100%|█████| 68/68 [00:00<00:00, 532.98it/s, train loss 4.181 ; val loss 1.916; lr 1.00e-05]\n"
     ]
    },
    {
     "name": "stdout",
     "output_type": "stream",
     "text": [
      "saved model ValAcc: 1.916\n"
     ]
    },
    {
     "name": "stderr",
     "output_type": "stream",
     "text": [
      "210/500: 100%|█████| 68/68 [00:00<00:00, 507.13it/s, train loss 7.614 ; val loss 2.497; lr 1.00e-05]\n",
      "211/500: 100%|█████| 68/68 [00:00<00:00, 546.54it/s, train loss 5.816 ; val loss 1.950; lr 1.00e-05]\n",
      "212/500: 100%|█████| 68/68 [00:00<00:00, 534.90it/s, train loss 1.211 ; val loss 1.831; lr 1.00e-05]\n"
     ]
    },
    {
     "name": "stdout",
     "output_type": "stream",
     "text": [
      "saved model ValAcc: 1.831\n"
     ]
    },
    {
     "name": "stderr",
     "output_type": "stream",
     "text": [
      "213/500: 100%|█████| 68/68 [00:00<00:00, 489.90it/s, train loss 4.488 ; val loss 2.003; lr 1.00e-05]\n",
      "214/500: 100%|█████| 68/68 [00:00<00:00, 543.96it/s, train loss 3.778 ; val loss 1.894; lr 1.00e-05]\n",
      "215/500: 100%|█████| 68/68 [00:00<00:00, 503.58it/s, train loss 5.124 ; val loss 2.799; lr 1.00e-05]\n",
      "216/500: 100%|█████| 68/68 [00:00<00:00, 547.17it/s, train loss 2.344 ; val loss 1.874; lr 1.00e-05]\n",
      "217/500: 100%|█████| 68/68 [00:00<00:00, 545.80it/s, train loss 6.284 ; val loss 1.895; lr 1.00e-05]\n",
      "218/500: 100%|████| 68/68 [00:00<00:00, 536.70it/s, train loss 12.421 ; val loss 2.041; lr 1.00e-05]\n",
      "219/500: 100%|█████| 68/68 [00:00<00:00, 541.13it/s, train loss 5.065 ; val loss 1.878; lr 1.00e-05]\n",
      "220/500: 100%|█████| 68/68 [00:00<00:00, 545.00it/s, train loss 4.734 ; val loss 1.999; lr 1.00e-05]\n",
      "221/500: 100%|█████| 68/68 [00:00<00:00, 552.61it/s, train loss 2.879 ; val loss 2.127; lr 1.00e-05]\n",
      "222/500: 100%|█████| 68/68 [00:00<00:00, 546.68it/s, train loss 2.533 ; val loss 1.970; lr 1.00e-05]\n",
      "223/500: 100%|█████| 68/68 [00:00<00:00, 550.69it/s, train loss 3.143 ; val loss 2.205; lr 1.00e-05]\n",
      "224/500: 100%|█████| 68/68 [00:00<00:00, 535.32it/s, train loss 4.289 ; val loss 2.121; lr 1.00e-05]\n",
      "225/500: 100%|█████| 68/68 [00:00<00:00, 533.61it/s, train loss 4.180 ; val loss 2.592; lr 1.00e-05]\n",
      "226/500: 100%|█████| 68/68 [00:00<00:00, 544.00it/s, train loss 9.100 ; val loss 1.888; lr 1.00e-05]\n",
      "227/500: 100%|█████| 68/68 [00:00<00:00, 525.73it/s, train loss 3.176 ; val loss 2.284; lr 1.00e-05]\n",
      "228/500: 100%|█████| 68/68 [00:00<00:00, 544.40it/s, train loss 5.013 ; val loss 1.935; lr 1.00e-05]\n",
      "229/500: 100%|████| 68/68 [00:00<00:00, 544.65it/s, train loss 15.215 ; val loss 2.153; lr 1.00e-05]\n",
      "230/500: 100%|████| 68/68 [00:00<00:00, 541.24it/s, train loss 18.259 ; val loss 2.024; lr 1.00e-05]\n",
      "231/500: 100%|████| 68/68 [00:00<00:00, 541.91it/s, train loss 12.236 ; val loss 1.897; lr 1.00e-05]\n",
      "232/500: 100%|████| 68/68 [00:00<00:00, 528.59it/s, train loss 10.486 ; val loss 1.831; lr 1.00e-05]\n"
     ]
    },
    {
     "name": "stdout",
     "output_type": "stream",
     "text": [
      "saved model ValAcc: 1.831\n"
     ]
    },
    {
     "name": "stderr",
     "output_type": "stream",
     "text": [
      "233/500: 100%|█████| 68/68 [00:00<00:00, 501.33it/s, train loss 4.029 ; val loss 1.996; lr 1.00e-05]\n",
      "234/500: 100%|████| 68/68 [00:00<00:00, 549.52it/s, train loss 13.076 ; val loss 2.550; lr 1.00e-05]\n",
      "235/500: 100%|████| 68/68 [00:00<00:00, 532.93it/s, train loss 11.870 ; val loss 1.841; lr 1.00e-05]\n",
      "236/500: 100%|█████| 68/68 [00:00<00:00, 549.49it/s, train loss 6.727 ; val loss 2.221; lr 1.00e-05]\n",
      "237/500: 100%|█████| 68/68 [00:00<00:00, 549.57it/s, train loss 2.615 ; val loss 1.866; lr 1.00e-05]\n",
      "238/500: 100%|█████| 68/68 [00:00<00:00, 549.66it/s, train loss 2.261 ; val loss 2.047; lr 1.00e-05]\n",
      "239/500: 100%|█████| 68/68 [00:00<00:00, 541.84it/s, train loss 8.715 ; val loss 1.976; lr 1.00e-05]\n",
      "240/500: 100%|████| 68/68 [00:00<00:00, 542.72it/s, train loss 23.942 ; val loss 1.789; lr 1.00e-05]\n"
     ]
    },
    {
     "name": "stdout",
     "output_type": "stream",
     "text": [
      "saved model ValAcc: 1.789\n"
     ]
    },
    {
     "name": "stderr",
     "output_type": "stream",
     "text": [
      "241/500: 100%|████| 68/68 [00:00<00:00, 538.47it/s, train loss 14.980 ; val loss 1.844; lr 1.00e-05]\n",
      "242/500: 100%|█████| 68/68 [00:00<00:00, 512.48it/s, train loss 4.429 ; val loss 2.050; lr 1.00e-05]\n",
      "243/500: 100%|█████| 68/68 [00:00<00:00, 539.39it/s, train loss 5.436 ; val loss 2.762; lr 1.00e-05]\n",
      "244/500: 100%|█████| 68/68 [00:00<00:00, 541.92it/s, train loss 4.376 ; val loss 1.959; lr 1.00e-05]\n",
      "245/500: 100%|████| 68/68 [00:00<00:00, 543.25it/s, train loss 11.361 ; val loss 2.148; lr 1.00e-05]\n",
      "246/500: 100%|█████| 68/68 [00:00<00:00, 537.61it/s, train loss 2.926 ; val loss 1.872; lr 1.00e-05]\n",
      "247/500: 100%|█████| 68/68 [00:00<00:00, 538.40it/s, train loss 6.440 ; val loss 1.693; lr 1.00e-05]\n"
     ]
    },
    {
     "name": "stdout",
     "output_type": "stream",
     "text": [
      "saved model ValAcc: 1.693\n"
     ]
    },
    {
     "name": "stderr",
     "output_type": "stream",
     "text": [
      "248/500: 100%|█████| 68/68 [00:00<00:00, 509.45it/s, train loss 8.785 ; val loss 2.320; lr 1.00e-05]\n",
      "249/500: 100%|█████| 68/68 [00:00<00:00, 522.85it/s, train loss 9.034 ; val loss 1.768; lr 1.00e-05]\n",
      "250/500: 100%|█████| 68/68 [00:00<00:00, 549.12it/s, train loss 1.535 ; val loss 1.895; lr 1.00e-05]\n",
      "251/500: 100%|█████| 68/68 [00:00<00:00, 511.81it/s, train loss 3.297 ; val loss 2.018; lr 1.00e-05]\n",
      "252/500: 100%|█████| 68/68 [00:00<00:00, 557.25it/s, train loss 5.185 ; val loss 2.315; lr 1.00e-05]\n",
      "253/500: 100%|█████| 68/68 [00:00<00:00, 553.93it/s, train loss 5.686 ; val loss 1.809; lr 1.00e-05]\n",
      "254/500: 100%|█████| 68/68 [00:00<00:00, 521.56it/s, train loss 7.253 ; val loss 1.966; lr 1.00e-05]\n",
      "255/500: 100%|█████| 68/68 [00:00<00:00, 430.78it/s, train loss 7.310 ; val loss 2.167; lr 1.00e-05]\n",
      "256/500: 100%|█████| 68/68 [00:00<00:00, 320.79it/s, train loss 8.187 ; val loss 2.119; lr 1.00e-05]\n",
      "257/500: 100%|█████| 68/68 [00:00<00:00, 545.90it/s, train loss 3.688 ; val loss 1.729; lr 1.00e-05]\n",
      "258/500: 100%|█████| 68/68 [00:00<00:00, 539.15it/s, train loss 4.635 ; val loss 1.815; lr 1.00e-05]\n",
      "259/500: 100%|█████| 68/68 [00:00<00:00, 536.75it/s, train loss 5.076 ; val loss 1.834; lr 1.00e-05]\n",
      "260/500: 100%|█████| 68/68 [00:00<00:00, 463.74it/s, train loss 7.831 ; val loss 1.885; lr 1.00e-05]\n",
      "261/500: 100%|█████| 68/68 [00:00<00:00, 535.96it/s, train loss 4.646 ; val loss 3.237; lr 1.00e-05]\n",
      "262/500: 100%|████| 68/68 [00:00<00:00, 541.16it/s, train loss 12.050 ; val loss 1.805; lr 1.00e-05]\n",
      "263/500: 100%|█████| 68/68 [00:00<00:00, 542.88it/s, train loss 3.298 ; val loss 1.725; lr 1.00e-05]\n",
      "264/500: 100%|█████| 68/68 [00:00<00:00, 547.56it/s, train loss 3.230 ; val loss 1.987; lr 1.00e-05]\n",
      "265/500: 100%|█████| 68/68 [00:00<00:00, 544.10it/s, train loss 1.986 ; val loss 1.882; lr 1.00e-05]\n",
      "266/500: 100%|████| 68/68 [00:00<00:00, 549.18it/s, train loss 22.732 ; val loss 1.861; lr 1.00e-05]\n",
      "267/500: 100%|█████| 68/68 [00:00<00:00, 549.04it/s, train loss 5.894 ; val loss 1.904; lr 1.00e-05]\n",
      "268/500: 100%|█████| 68/68 [00:00<00:00, 545.24it/s, train loss 9.876 ; val loss 1.764; lr 1.00e-05]\n",
      "269/500: 100%|████| 68/68 [00:00<00:00, 547.65it/s, train loss 12.027 ; val loss 1.788; lr 1.00e-05]\n",
      "270/500: 100%|████| 68/68 [00:00<00:00, 534.73it/s, train loss 19.123 ; val loss 1.649; lr 1.00e-05]\n"
     ]
    },
    {
     "name": "stdout",
     "output_type": "stream",
     "text": [
      "saved model ValAcc: 1.649\n"
     ]
    },
    {
     "name": "stderr",
     "output_type": "stream",
     "text": [
      "271/500: 100%|█████| 68/68 [00:00<00:00, 502.06it/s, train loss 2.368 ; val loss 1.691; lr 1.00e-05]\n",
      "272/500: 100%|█████| 68/68 [00:00<00:00, 410.64it/s, train loss 8.977 ; val loss 1.821; lr 1.00e-05]\n",
      "273/500: 100%|█████| 68/68 [00:00<00:00, 538.99it/s, train loss 2.653 ; val loss 1.653; lr 1.00e-05]\n",
      "274/500: 100%|████| 68/68 [00:00<00:00, 548.54it/s, train loss 32.531 ; val loss 1.697; lr 1.00e-05]\n",
      "275/500: 100%|████| 68/68 [00:00<00:00, 541.71it/s, train loss 22.923 ; val loss 1.953; lr 1.00e-05]\n",
      "276/500: 100%|█████| 68/68 [00:00<00:00, 549.22it/s, train loss 2.913 ; val loss 1.917; lr 1.00e-05]\n",
      "277/500: 100%|█████| 68/68 [00:00<00:00, 515.91it/s, train loss 4.438 ; val loss 2.050; lr 1.00e-05]\n",
      "278/500: 100%|█████| 68/68 [00:00<00:00, 542.01it/s, train loss 3.172 ; val loss 1.807; lr 1.00e-05]\n",
      "279/500: 100%|█████| 68/68 [00:00<00:00, 548.28it/s, train loss 7.033 ; val loss 1.675; lr 1.00e-05]\n",
      "280/500: 100%|█████| 68/68 [00:00<00:00, 548.99it/s, train loss 4.950 ; val loss 1.663; lr 1.00e-05]\n",
      "281/500: 100%|█████| 68/68 [00:00<00:00, 550.70it/s, train loss 8.942 ; val loss 1.805; lr 1.00e-05]\n",
      "282/500: 100%|█████| 68/68 [00:00<00:00, 524.49it/s, train loss 2.861 ; val loss 1.711; lr 1.00e-05]\n",
      "283/500: 100%|█████| 68/68 [00:00<00:00, 542.29it/s, train loss 1.378 ; val loss 1.653; lr 1.00e-05]\n",
      "284/500: 100%|█████| 68/68 [00:00<00:00, 544.44it/s, train loss 6.635 ; val loss 1.804; lr 1.00e-05]\n",
      "285/500: 100%|█████| 68/68 [00:00<00:00, 544.29it/s, train loss 6.934 ; val loss 1.735; lr 1.00e-05]\n",
      "286/500: 100%|█████| 68/68 [00:00<00:00, 548.23it/s, train loss 2.979 ; val loss 2.136; lr 1.00e-05]\n",
      "287/500: 100%|█████| 68/68 [00:00<00:00, 551.96it/s, train loss 4.974 ; val loss 1.726; lr 1.00e-05]\n",
      "288/500: 100%|█████| 68/68 [00:00<00:00, 545.55it/s, train loss 5.286 ; val loss 1.669; lr 1.00e-05]\n",
      "289/500: 100%|█████| 68/68 [00:00<00:00, 531.48it/s, train loss 8.718 ; val loss 1.657; lr 1.00e-05]\n",
      "290/500: 100%|█████| 68/68 [00:00<00:00, 554.02it/s, train loss 4.252 ; val loss 1.770; lr 1.00e-05]\n",
      "291/500: 100%|█████| 68/68 [00:00<00:00, 545.68it/s, train loss 2.405 ; val loss 1.846; lr 1.00e-05]\n",
      "292/500: 100%|█████| 68/68 [00:00<00:00, 544.07it/s, train loss 2.274 ; val loss 1.627; lr 1.00e-05]\n"
     ]
    },
    {
     "name": "stdout",
     "output_type": "stream",
     "text": [
      "saved model ValAcc: 1.627\n"
     ]
    },
    {
     "name": "stderr",
     "output_type": "stream",
     "text": [
      "293/500: 100%|████| 68/68 [00:00<00:00, 510.98it/s, train loss 21.952 ; val loss 1.763; lr 1.00e-05]\n",
      "294/500: 100%|█████| 68/68 [00:00<00:00, 525.13it/s, train loss 7.345 ; val loss 1.690; lr 1.00e-05]\n",
      "295/500: 100%|████| 68/68 [00:00<00:00, 552.82it/s, train loss 14.144 ; val loss 2.613; lr 1.00e-05]\n",
      "296/500: 100%|████| 68/68 [00:00<00:00, 544.56it/s, train loss 15.701 ; val loss 2.296; lr 1.00e-05]\n",
      "297/500: 100%|████| 68/68 [00:00<00:00, 547.40it/s, train loss 11.069 ; val loss 1.685; lr 1.00e-05]\n",
      "298/500: 100%|█████| 68/68 [00:00<00:00, 545.86it/s, train loss 1.140 ; val loss 1.715; lr 1.00e-05]\n",
      "299/500: 100%|████| 68/68 [00:00<00:00, 549.72it/s, train loss 17.467 ; val loss 2.935; lr 1.00e-05]\n",
      "300/500: 100%|█████| 68/68 [00:00<00:00, 535.05it/s, train loss 3.606 ; val loss 1.720; lr 1.00e-05]\n",
      "301/500: 100%|█████| 68/68 [00:00<00:00, 537.66it/s, train loss 2.232 ; val loss 1.624; lr 1.00e-05]\n"
     ]
    },
    {
     "name": "stdout",
     "output_type": "stream",
     "text": [
      "saved model ValAcc: 1.624\n"
     ]
    },
    {
     "name": "stderr",
     "output_type": "stream",
     "text": [
      "302/500: 100%|█████| 68/68 [00:00<00:00, 506.81it/s, train loss 1.999 ; val loss 2.276; lr 1.00e-05]\n",
      "303/500: 100%|█████| 68/68 [00:00<00:00, 541.33it/s, train loss 4.825 ; val loss 1.650; lr 1.00e-05]\n",
      "304/500: 100%|█████| 68/68 [00:00<00:00, 547.61it/s, train loss 3.056 ; val loss 1.928; lr 1.00e-05]\n",
      "305/500: 100%|████| 68/68 [00:00<00:00, 548.52it/s, train loss 30.488 ; val loss 1.671; lr 1.00e-05]\n",
      "306/500: 100%|█████| 68/68 [00:00<00:00, 537.51it/s, train loss 2.279 ; val loss 1.616; lr 1.00e-05]\n"
     ]
    },
    {
     "name": "stdout",
     "output_type": "stream",
     "text": [
      "saved model ValAcc: 1.616\n"
     ]
    },
    {
     "name": "stderr",
     "output_type": "stream",
     "text": [
      "307/500: 100%|████| 68/68 [00:00<00:00, 504.11it/s, train loss 15.540 ; val loss 1.711; lr 1.00e-05]\n",
      "308/500: 100%|█████| 68/68 [00:00<00:00, 551.10it/s, train loss 9.827 ; val loss 2.192; lr 1.00e-05]\n",
      "309/500: 100%|█████| 68/68 [00:00<00:00, 539.49it/s, train loss 2.131 ; val loss 1.603; lr 1.00e-05]\n"
     ]
    },
    {
     "name": "stdout",
     "output_type": "stream",
     "text": [
      "saved model ValAcc: 1.603\n"
     ]
    },
    {
     "name": "stderr",
     "output_type": "stream",
     "text": [
      "310/500: 100%|█████| 68/68 [00:00<00:00, 507.35it/s, train loss 5.192 ; val loss 1.619; lr 1.00e-05]\n",
      "311/500: 100%|█████| 68/68 [00:00<00:00, 548.68it/s, train loss 3.409 ; val loss 1.752; lr 1.00e-05]\n",
      "312/500: 100%|█████| 68/68 [00:00<00:00, 541.76it/s, train loss 9.957 ; val loss 1.594; lr 1.00e-05]\n"
     ]
    },
    {
     "name": "stdout",
     "output_type": "stream",
     "text": [
      "saved model ValAcc: 1.594\n"
     ]
    },
    {
     "name": "stderr",
     "output_type": "stream",
     "text": [
      "313/500: 100%|████| 68/68 [00:00<00:00, 510.47it/s, train loss 31.739 ; val loss 1.761; lr 1.00e-05]\n",
      "314/500: 100%|█████| 68/68 [00:00<00:00, 534.31it/s, train loss 1.879 ; val loss 1.530; lr 1.00e-05]\n"
     ]
    },
    {
     "name": "stdout",
     "output_type": "stream",
     "text": [
      "saved model ValAcc: 1.530\n"
     ]
    },
    {
     "name": "stderr",
     "output_type": "stream",
     "text": [
      "315/500: 100%|████| 68/68 [00:00<00:00, 504.41it/s, train loss 11.400 ; val loss 1.615; lr 1.00e-05]\n",
      "316/500: 100%|████| 68/68 [00:00<00:00, 545.57it/s, train loss 10.521 ; val loss 1.524; lr 1.00e-05]\n"
     ]
    },
    {
     "name": "stdout",
     "output_type": "stream",
     "text": [
      "saved model ValAcc: 1.524\n"
     ]
    },
    {
     "name": "stderr",
     "output_type": "stream",
     "text": [
      "317/500: 100%|█████| 68/68 [00:00<00:00, 519.93it/s, train loss 6.225 ; val loss 2.371; lr 1.00e-05]\n",
      "318/500: 100%|█████| 68/68 [00:00<00:00, 536.00it/s, train loss 2.599 ; val loss 1.800; lr 1.00e-05]\n",
      "319/500: 100%|█████| 68/68 [00:00<00:00, 532.82it/s, train loss 5.867 ; val loss 1.743; lr 1.00e-05]\n",
      "320/500: 100%|█████| 68/68 [00:00<00:00, 540.27it/s, train loss 5.634 ; val loss 1.716; lr 1.00e-05]\n",
      "321/500: 100%|█████| 68/68 [00:00<00:00, 540.46it/s, train loss 6.153 ; val loss 1.853; lr 1.00e-05]\n",
      "322/500: 100%|████| 68/68 [00:00<00:00, 523.62it/s, train loss 17.738 ; val loss 1.679; lr 1.00e-05]\n",
      "323/500: 100%|█████| 68/68 [00:00<00:00, 509.75it/s, train loss 7.108 ; val loss 1.770; lr 1.00e-05]\n",
      "324/500: 100%|█████| 68/68 [00:00<00:00, 520.83it/s, train loss 4.727 ; val loss 2.030; lr 1.00e-05]\n",
      "325/500: 100%|█████| 68/68 [00:00<00:00, 547.64it/s, train loss 1.584 ; val loss 1.629; lr 1.00e-05]\n",
      "326/500: 100%|█████| 68/68 [00:00<00:00, 543.62it/s, train loss 3.283 ; val loss 1.571; lr 1.00e-05]\n",
      "327/500: 100%|█████| 68/68 [00:00<00:00, 542.00it/s, train loss 0.565 ; val loss 1.723; lr 1.00e-05]\n",
      "328/500: 100%|█████| 68/68 [00:00<00:00, 540.41it/s, train loss 2.036 ; val loss 1.500; lr 1.00e-05]\n"
     ]
    },
    {
     "name": "stdout",
     "output_type": "stream",
     "text": [
      "saved model ValAcc: 1.500\n"
     ]
    },
    {
     "name": "stderr",
     "output_type": "stream",
     "text": [
      "329/500: 100%|████| 68/68 [00:00<00:00, 528.81it/s, train loss 14.870 ; val loss 1.611; lr 1.00e-05]\n",
      "330/500: 100%|█████| 68/68 [00:00<00:00, 534.48it/s, train loss 7.933 ; val loss 1.627; lr 1.00e-05]\n",
      "331/500: 100%|████| 68/68 [00:00<00:00, 359.36it/s, train loss 12.098 ; val loss 1.947; lr 1.00e-05]\n",
      "332/500: 100%|█████| 68/68 [00:00<00:00, 427.10it/s, train loss 1.062 ; val loss 1.853; lr 1.00e-05]\n",
      "333/500: 100%|█████| 68/68 [00:00<00:00, 541.86it/s, train loss 2.817 ; val loss 1.657; lr 1.00e-05]\n",
      "334/500: 100%|█████| 68/68 [00:00<00:00, 530.90it/s, train loss 3.046 ; val loss 1.742; lr 1.00e-05]\n",
      "335/500: 100%|████| 68/68 [00:00<00:00, 542.70it/s, train loss 11.436 ; val loss 2.643; lr 1.00e-05]\n",
      "336/500: 100%|█████| 68/68 [00:00<00:00, 544.44it/s, train loss 2.098 ; val loss 1.518; lr 1.00e-05]\n",
      "337/500: 100%|█████| 68/68 [00:00<00:00, 549.10it/s, train loss 5.025 ; val loss 1.599; lr 1.00e-05]\n",
      "338/500: 100%|█████| 68/68 [00:00<00:00, 536.47it/s, train loss 1.171 ; val loss 1.624; lr 1.00e-05]\n",
      "339/500: 100%|█████| 68/68 [00:00<00:00, 541.56it/s, train loss 4.592 ; val loss 1.616; lr 1.00e-05]\n",
      "340/500: 100%|█████| 68/68 [00:00<00:00, 546.06it/s, train loss 9.982 ; val loss 1.774; lr 1.00e-05]\n",
      "341/500: 100%|█████| 68/68 [00:00<00:00, 526.52it/s, train loss 5.056 ; val loss 1.511; lr 1.00e-05]\n",
      "342/500: 100%|█████| 68/68 [00:00<00:00, 539.50it/s, train loss 8.304 ; val loss 1.600; lr 1.00e-05]\n",
      "343/500: 100%|████| 68/68 [00:00<00:00, 496.47it/s, train loss 11.624 ; val loss 1.506; lr 1.00e-05]\n",
      "344/500: 100%|█████| 68/68 [00:00<00:00, 529.32it/s, train loss 1.968 ; val loss 1.515; lr 1.00e-05]\n",
      "345/500: 100%|█████| 68/68 [00:00<00:00, 537.50it/s, train loss 6.833 ; val loss 1.540; lr 1.00e-05]\n",
      "346/500: 100%|████| 68/68 [00:00<00:00, 515.38it/s, train loss 10.715 ; val loss 1.584; lr 1.00e-05]\n",
      "347/500: 100%|█████| 68/68 [00:00<00:00, 543.91it/s, train loss 5.407 ; val loss 1.538; lr 1.00e-05]\n",
      "348/500: 100%|█████| 68/68 [00:00<00:00, 543.63it/s, train loss 3.816 ; val loss 1.524; lr 1.00e-05]\n",
      "349/500: 100%|█████| 68/68 [00:00<00:00, 533.90it/s, train loss 6.138 ; val loss 1.588; lr 1.00e-05]\n",
      "350/500: 100%|█████| 68/68 [00:00<00:00, 543.12it/s, train loss 2.468 ; val loss 1.680; lr 1.00e-05]\n",
      "351/500: 100%|████| 68/68 [00:00<00:00, 544.90it/s, train loss 12.651 ; val loss 1.604; lr 1.00e-05]\n",
      "352/500: 100%|█████| 68/68 [00:00<00:00, 544.01it/s, train loss 0.525 ; val loss 1.677; lr 1.00e-05]\n",
      "353/500: 100%|█████| 68/68 [00:00<00:00, 535.33it/s, train loss 2.082 ; val loss 1.544; lr 1.00e-05]\n",
      "354/500: 100%|█████| 68/68 [00:00<00:00, 543.22it/s, train loss 6.433 ; val loss 1.564; lr 1.00e-05]\n",
      "355/500: 100%|█████| 68/68 [00:00<00:00, 544.32it/s, train loss 3.639 ; val loss 1.608; lr 1.00e-05]\n",
      "356/500: 100%|█████| 68/68 [00:00<00:00, 538.44it/s, train loss 4.138 ; val loss 1.589; lr 1.00e-05]\n",
      "357/500: 100%|█████| 68/68 [00:00<00:00, 529.17it/s, train loss 4.718 ; val loss 1.521; lr 1.00e-05]\n",
      "358/500: 100%|█████| 68/68 [00:00<00:00, 504.75it/s, train loss 2.112 ; val loss 1.519; lr 1.00e-05]\n",
      "359/500: 100%|█████| 68/68 [00:00<00:00, 551.76it/s, train loss 3.567 ; val loss 1.753; lr 1.00e-05]\n",
      "360/500: 100%|█████| 68/68 [00:00<00:00, 536.72it/s, train loss 7.084 ; val loss 1.820; lr 1.00e-05]\n",
      "361/500: 100%|█████| 68/68 [00:00<00:00, 528.41it/s, train loss 5.045 ; val loss 1.495; lr 1.00e-05]\n"
     ]
    },
    {
     "name": "stdout",
     "output_type": "stream",
     "text": [
      "saved model ValAcc: 1.495\n"
     ]
    },
    {
     "name": "stderr",
     "output_type": "stream",
     "text": [
      "362/500: 100%|████| 68/68 [00:00<00:00, 508.73it/s, train loss 19.558 ; val loss 1.488; lr 1.00e-05]\n"
     ]
    },
    {
     "name": "stdout",
     "output_type": "stream",
     "text": [
      "saved model ValAcc: 1.488\n"
     ]
    },
    {
     "name": "stderr",
     "output_type": "stream",
     "text": [
      "363/500: 100%|█████| 68/68 [00:00<00:00, 533.54it/s, train loss 8.682 ; val loss 1.599; lr 1.00e-05]\n",
      "364/500: 100%|████| 68/68 [00:00<00:00, 523.02it/s, train loss 18.038 ; val loss 1.612; lr 1.00e-05]\n",
      "365/500: 100%|████| 68/68 [00:00<00:00, 404.74it/s, train loss 10.512 ; val loss 1.625; lr 1.00e-05]\n",
      "366/500: 100%|█████| 68/68 [00:00<00:00, 515.79it/s, train loss 2.624 ; val loss 1.528; lr 1.00e-05]\n",
      "367/500: 100%|█████| 68/68 [00:00<00:00, 543.88it/s, train loss 9.629 ; val loss 1.563; lr 1.00e-05]\n",
      "368/500: 100%|█████| 68/68 [00:00<00:00, 513.29it/s, train loss 5.329 ; val loss 1.478; lr 1.00e-05]\n"
     ]
    },
    {
     "name": "stdout",
     "output_type": "stream",
     "text": [
      "saved model ValAcc: 1.478\n"
     ]
    },
    {
     "name": "stderr",
     "output_type": "stream",
     "text": [
      "369/500: 100%|█████| 68/68 [00:00<00:00, 490.65it/s, train loss 4.134 ; val loss 1.613; lr 1.00e-05]\n",
      "370/500: 100%|█████| 68/68 [00:00<00:00, 546.95it/s, train loss 4.348 ; val loss 1.767; lr 1.00e-05]\n",
      "371/500: 100%|█████| 68/68 [00:00<00:00, 548.16it/s, train loss 3.427 ; val loss 1.544; lr 1.00e-05]\n",
      "372/500: 100%|█████| 68/68 [00:00<00:00, 539.68it/s, train loss 4.459 ; val loss 1.565; lr 1.00e-05]\n",
      "373/500: 100%|█████| 68/68 [00:00<00:00, 548.03it/s, train loss 2.609 ; val loss 1.587; lr 1.00e-05]\n",
      "374/500: 100%|█████| 68/68 [00:00<00:00, 552.36it/s, train loss 2.603 ; val loss 1.747; lr 1.00e-05]\n",
      "375/500: 100%|█████| 68/68 [00:00<00:00, 534.53it/s, train loss 8.001 ; val loss 1.883; lr 1.00e-05]\n",
      "376/500: 100%|█████| 68/68 [00:00<00:00, 364.82it/s, train loss 5.139 ; val loss 1.676; lr 1.00e-05]\n",
      "377/500: 100%|█████| 68/68 [00:00<00:00, 482.56it/s, train loss 3.438 ; val loss 1.461; lr 1.00e-05]\n"
     ]
    },
    {
     "name": "stdout",
     "output_type": "stream",
     "text": [
      "saved model ValAcc: 1.461\n"
     ]
    },
    {
     "name": "stderr",
     "output_type": "stream",
     "text": [
      "378/500: 100%|█████| 68/68 [00:00<00:00, 481.62it/s, train loss 1.409 ; val loss 1.470; lr 1.00e-05]\n",
      "379/500: 100%|█████| 68/68 [00:00<00:00, 498.82it/s, train loss 5.230 ; val loss 1.541; lr 1.00e-05]\n",
      "380/500: 100%|█████| 68/68 [00:00<00:00, 550.79it/s, train loss 2.324 ; val loss 1.532; lr 1.00e-05]\n",
      "381/500: 100%|█████| 68/68 [00:00<00:00, 539.86it/s, train loss 3.609 ; val loss 1.434; lr 1.00e-05]\n"
     ]
    },
    {
     "name": "stdout",
     "output_type": "stream",
     "text": [
      "saved model ValAcc: 1.434\n"
     ]
    },
    {
     "name": "stderr",
     "output_type": "stream",
     "text": [
      "382/500: 100%|█████| 68/68 [00:00<00:00, 506.07it/s, train loss 0.905 ; val loss 1.664; lr 1.00e-05]\n",
      "383/500: 100%|█████| 68/68 [00:00<00:00, 540.87it/s, train loss 2.971 ; val loss 1.543; lr 1.00e-05]\n",
      "384/500: 100%|█████| 68/68 [00:00<00:00, 545.54it/s, train loss 5.512 ; val loss 1.483; lr 1.00e-05]\n",
      "385/500: 100%|█████| 68/68 [00:00<00:00, 549.28it/s, train loss 8.329 ; val loss 1.647; lr 1.00e-05]\n",
      "386/500: 100%|█████| 68/68 [00:00<00:00, 543.19it/s, train loss 2.564 ; val loss 1.853; lr 1.00e-05]\n",
      "387/500: 100%|█████| 68/68 [00:00<00:00, 542.39it/s, train loss 7.384 ; val loss 1.464; lr 1.00e-05]\n",
      "388/500: 100%|████| 68/68 [00:00<00:00, 553.54it/s, train loss 13.829 ; val loss 1.684; lr 1.00e-05]\n",
      "389/500: 100%|█████| 68/68 [00:00<00:00, 546.90it/s, train loss 3.539 ; val loss 1.509; lr 1.00e-05]\n",
      "390/500: 100%|█████| 68/68 [00:00<00:00, 547.77it/s, train loss 7.733 ; val loss 1.525; lr 1.00e-05]\n",
      "391/500: 100%|█████| 68/68 [00:00<00:00, 520.67it/s, train loss 9.729 ; val loss 2.399; lr 1.00e-05]\n",
      "392/500: 100%|█████| 68/68 [00:00<00:00, 548.69it/s, train loss 5.076 ; val loss 1.573; lr 1.00e-05]\n",
      "393/500: 100%|█████| 68/68 [00:00<00:00, 541.92it/s, train loss 5.820 ; val loss 1.616; lr 1.00e-05]\n",
      "394/500: 100%|█████| 68/68 [00:00<00:00, 542.54it/s, train loss 9.979 ; val loss 1.446; lr 1.00e-05]\n",
      "395/500: 100%|█████| 68/68 [00:00<00:00, 549.03it/s, train loss 2.984 ; val loss 1.780; lr 1.00e-05]\n",
      "396/500: 100%|█████| 68/68 [00:00<00:00, 535.57it/s, train loss 3.293 ; val loss 1.556; lr 1.00e-05]\n",
      "397/500: 100%|█████| 68/68 [00:00<00:00, 548.77it/s, train loss 2.116 ; val loss 1.615; lr 1.00e-05]\n",
      "398/500: 100%|█████| 68/68 [00:00<00:00, 540.15it/s, train loss 6.780 ; val loss 1.559; lr 1.00e-05]\n",
      "399/500: 100%|████| 68/68 [00:00<00:00, 535.10it/s, train loss 15.492 ; val loss 1.808; lr 1.00e-05]\n",
      "400/500: 100%|█████| 68/68 [00:00<00:00, 542.11it/s, train loss 3.233 ; val loss 1.642; lr 1.00e-05]\n",
      "401/500: 100%|█████| 68/68 [00:00<00:00, 541.71it/s, train loss 2.319 ; val loss 1.598; lr 1.00e-05]\n",
      "402/500: 100%|█████| 68/68 [00:00<00:00, 551.23it/s, train loss 2.584 ; val loss 1.542; lr 1.00e-05]\n",
      "403/500: 100%|█████| 68/68 [00:00<00:00, 539.37it/s, train loss 1.846 ; val loss 1.432; lr 1.00e-05]\n"
     ]
    },
    {
     "name": "stdout",
     "output_type": "stream",
     "text": [
      "saved model ValAcc: 1.432\n"
     ]
    },
    {
     "name": "stderr",
     "output_type": "stream",
     "text": [
      "404/500: 100%|█████| 68/68 [00:00<00:00, 502.37it/s, train loss 5.588 ; val loss 1.767; lr 1.00e-05]\n",
      "405/500: 100%|█████| 68/68 [00:00<00:00, 538.92it/s, train loss 1.897 ; val loss 1.430; lr 1.00e-05]\n"
     ]
    },
    {
     "name": "stdout",
     "output_type": "stream",
     "text": [
      "saved model ValAcc: 1.430\n"
     ]
    },
    {
     "name": "stderr",
     "output_type": "stream",
     "text": [
      "406/500: 100%|█████| 68/68 [00:00<00:00, 526.74it/s, train loss 2.660 ; val loss 1.511; lr 1.00e-05]\n",
      "407/500: 100%|█████| 68/68 [00:00<00:00, 544.68it/s, train loss 2.913 ; val loss 1.458; lr 1.00e-05]\n",
      "408/500: 100%|████| 68/68 [00:00<00:00, 535.64it/s, train loss 20.278 ; val loss 1.876; lr 1.00e-05]\n",
      "409/500: 100%|█████| 68/68 [00:00<00:00, 537.43it/s, train loss 3.494 ; val loss 1.676; lr 1.00e-05]\n",
      "410/500: 100%|█████| 68/68 [00:00<00:00, 549.10it/s, train loss 2.897 ; val loss 1.489; lr 1.00e-05]\n",
      "411/500: 100%|█████| 68/68 [00:00<00:00, 546.70it/s, train loss 6.104 ; val loss 1.432; lr 1.00e-05]\n",
      "412/500: 100%|█████| 68/68 [00:00<00:00, 545.16it/s, train loss 1.428 ; val loss 1.822; lr 1.00e-05]\n",
      "413/500: 100%|█████| 68/68 [00:00<00:00, 541.19it/s, train loss 8.387 ; val loss 1.469; lr 1.00e-05]\n",
      "414/500: 100%|█████| 68/68 [00:00<00:00, 524.95it/s, train loss 1.490 ; val loss 1.542; lr 1.00e-05]\n",
      "415/500: 100%|█████| 68/68 [00:00<00:00, 532.45it/s, train loss 4.772 ; val loss 1.407; lr 1.00e-05]\n"
     ]
    },
    {
     "name": "stdout",
     "output_type": "stream",
     "text": [
      "saved model ValAcc: 1.407\n"
     ]
    },
    {
     "name": "stderr",
     "output_type": "stream",
     "text": [
      "416/500: 100%|█████| 68/68 [00:00<00:00, 522.19it/s, train loss 8.185 ; val loss 1.425; lr 1.00e-05]\n",
      "417/500: 100%|████| 68/68 [00:00<00:00, 540.13it/s, train loss 18.299 ; val loss 1.577; lr 1.00e-05]\n",
      "418/500: 100%|████| 68/68 [00:00<00:00, 549.89it/s, train loss 15.129 ; val loss 1.554; lr 1.00e-05]\n",
      "419/500: 100%|█████| 68/68 [00:00<00:00, 544.59it/s, train loss 2.212 ; val loss 1.411; lr 1.00e-05]\n",
      "420/500: 100%|█████| 68/68 [00:00<00:00, 551.43it/s, train loss 4.246 ; val loss 1.593; lr 1.00e-05]\n",
      "421/500: 100%|█████| 68/68 [00:00<00:00, 545.71it/s, train loss 3.269 ; val loss 1.420; lr 1.00e-05]\n",
      "422/500: 100%|█████| 68/68 [00:00<00:00, 509.72it/s, train loss 3.893 ; val loss 1.432; lr 1.00e-05]\n",
      "423/500: 100%|█████| 68/68 [00:00<00:00, 398.78it/s, train loss 8.495 ; val loss 1.620; lr 1.00e-05]\n",
      "424/500: 100%|█████| 68/68 [00:00<00:00, 533.49it/s, train loss 3.478 ; val loss 1.454; lr 1.00e-05]\n",
      "425/500: 100%|█████| 68/68 [00:00<00:00, 539.20it/s, train loss 8.707 ; val loss 1.462; lr 1.00e-05]\n",
      "426/500: 100%|█████| 68/68 [00:00<00:00, 546.63it/s, train loss 4.482 ; val loss 1.541; lr 1.00e-05]\n",
      "427/500: 100%|█████| 68/68 [00:00<00:00, 552.66it/s, train loss 7.957 ; val loss 1.436; lr 1.00e-05]\n",
      "428/500: 100%|█████| 68/68 [00:00<00:00, 519.11it/s, train loss 8.301 ; val loss 1.478; lr 1.00e-05]\n",
      "429/500: 100%|█████| 68/68 [00:00<00:00, 463.73it/s, train loss 7.582 ; val loss 1.597; lr 1.00e-05]\n",
      "430/500: 100%|█████| 68/68 [00:00<00:00, 433.96it/s, train loss 4.630 ; val loss 1.515; lr 1.00e-05]\n",
      "431/500: 100%|█████| 68/68 [00:00<00:00, 554.84it/s, train loss 3.491 ; val loss 1.560; lr 1.00e-05]\n",
      "432/500: 100%|█████| 68/68 [00:00<00:00, 538.90it/s, train loss 8.421 ; val loss 1.506; lr 1.00e-05]\n",
      "433/500: 100%|█████| 68/68 [00:00<00:00, 547.36it/s, train loss 5.775 ; val loss 1.517; lr 1.00e-05]\n",
      "434/500: 100%|█████| 68/68 [00:00<00:00, 547.56it/s, train loss 4.723 ; val loss 1.488; lr 1.00e-05]\n",
      "435/500: 100%|█████| 68/68 [00:00<00:00, 546.51it/s, train loss 5.282 ; val loss 1.568; lr 1.00e-05]\n",
      "436/500: 100%|█████| 68/68 [00:00<00:00, 549.76it/s, train loss 5.685 ; val loss 1.439; lr 1.00e-05]\n",
      "437/500: 100%|████| 68/68 [00:00<00:00, 527.35it/s, train loss 15.187 ; val loss 1.401; lr 1.00e-05]\n"
     ]
    },
    {
     "name": "stdout",
     "output_type": "stream",
     "text": [
      "saved model ValAcc: 1.401\n"
     ]
    },
    {
     "name": "stderr",
     "output_type": "stream",
     "text": [
      "438/500: 100%|█████| 68/68 [00:00<00:00, 504.62it/s, train loss 2.453 ; val loss 1.943; lr 1.00e-05]\n",
      "439/500: 100%|█████| 68/68 [00:00<00:00, 551.94it/s, train loss 7.712 ; val loss 1.428; lr 1.00e-05]\n",
      "440/500: 100%|█████| 68/68 [00:00<00:00, 536.39it/s, train loss 2.380 ; val loss 1.477; lr 1.00e-05]\n",
      "441/500: 100%|█████| 68/68 [00:00<00:00, 373.91it/s, train loss 4.450 ; val loss 1.527; lr 1.00e-05]\n",
      "442/500: 100%|█████| 68/68 [00:00<00:00, 475.40it/s, train loss 7.073 ; val loss 1.395; lr 1.00e-05]\n"
     ]
    },
    {
     "name": "stdout",
     "output_type": "stream",
     "text": [
      "saved model ValAcc: 1.395\n"
     ]
    },
    {
     "name": "stderr",
     "output_type": "stream",
     "text": [
      "443/500: 100%|█████| 68/68 [00:00<00:00, 521.44it/s, train loss 2.327 ; val loss 1.561; lr 1.00e-05]\n",
      "444/500: 100%|█████| 68/68 [00:00<00:00, 528.27it/s, train loss 6.570 ; val loss 1.403; lr 1.00e-05]\n",
      "445/500: 100%|█████| 68/68 [00:00<00:00, 550.14it/s, train loss 9.032 ; val loss 1.894; lr 1.00e-05]\n",
      "446/500: 100%|█████| 68/68 [00:00<00:00, 357.33it/s, train loss 5.926 ; val loss 1.498; lr 1.00e-05]\n",
      "447/500: 100%|█████| 68/68 [00:00<00:00, 542.73it/s, train loss 6.293 ; val loss 2.025; lr 1.00e-05]\n",
      "448/500: 100%|█████| 68/68 [00:00<00:00, 550.22it/s, train loss 6.334 ; val loss 1.585; lr 1.00e-05]\n",
      "449/500: 100%|█████| 68/68 [00:00<00:00, 547.30it/s, train loss 2.313 ; val loss 1.394; lr 1.00e-05]\n"
     ]
    },
    {
     "name": "stdout",
     "output_type": "stream",
     "text": [
      "saved model ValAcc: 1.394\n"
     ]
    },
    {
     "name": "stderr",
     "output_type": "stream",
     "text": [
      "450/500: 100%|█████| 68/68 [00:00<00:00, 519.30it/s, train loss 2.309 ; val loss 1.419; lr 1.00e-05]\n",
      "451/500: 100%|█████| 68/68 [00:00<00:00, 542.98it/s, train loss 4.389 ; val loss 1.712; lr 1.00e-05]\n",
      "452/500: 100%|█████| 68/68 [00:00<00:00, 538.53it/s, train loss 2.688 ; val loss 1.398; lr 1.00e-05]\n",
      "453/500: 100%|█████| 68/68 [00:00<00:00, 545.19it/s, train loss 2.077 ; val loss 1.476; lr 1.00e-05]\n",
      "454/500: 100%|█████| 68/68 [00:00<00:00, 535.69it/s, train loss 1.895 ; val loss 1.825; lr 1.00e-05]\n",
      "455/500: 100%|█████| 68/68 [00:00<00:00, 552.34it/s, train loss 4.895 ; val loss 1.884; lr 1.00e-05]\n",
      "456/500: 100%|█████| 68/68 [00:00<00:00, 545.52it/s, train loss 3.664 ; val loss 1.387; lr 1.00e-05]\n"
     ]
    },
    {
     "name": "stdout",
     "output_type": "stream",
     "text": [
      "saved model ValAcc: 1.387\n"
     ]
    },
    {
     "name": "stderr",
     "output_type": "stream",
     "text": [
      "457/500: 100%|████| 68/68 [00:00<00:00, 499.86it/s, train loss 17.024 ; val loss 1.395; lr 1.00e-05]\n",
      "458/500: 100%|████| 68/68 [00:00<00:00, 551.61it/s, train loss 11.150 ; val loss 1.660; lr 1.00e-05]\n",
      "459/500: 100%|█████| 68/68 [00:00<00:00, 503.09it/s, train loss 4.177 ; val loss 1.465; lr 1.00e-05]\n",
      "460/500: 100%|████| 68/68 [00:00<00:00, 548.30it/s, train loss 11.204 ; val loss 1.493; lr 1.00e-05]\n",
      "461/500: 100%|█████| 68/68 [00:00<00:00, 536.83it/s, train loss 2.534 ; val loss 1.369; lr 1.00e-05]\n"
     ]
    },
    {
     "name": "stdout",
     "output_type": "stream",
     "text": [
      "saved model ValAcc: 1.369\n"
     ]
    },
    {
     "name": "stderr",
     "output_type": "stream",
     "text": [
      "462/500: 100%|████| 68/68 [00:00<00:00, 498.06it/s, train loss 10.285 ; val loss 1.573; lr 1.00e-05]\n",
      "463/500: 100%|█████| 68/68 [00:00<00:00, 548.67it/s, train loss 4.257 ; val loss 1.567; lr 1.00e-05]\n",
      "464/500: 100%|████| 68/68 [00:00<00:00, 544.89it/s, train loss 13.752 ; val loss 1.658; lr 1.00e-05]\n",
      "465/500: 100%|█████| 68/68 [00:00<00:00, 547.68it/s, train loss 9.301 ; val loss 1.372; lr 1.00e-05]\n",
      "466/500: 100%|█████| 68/68 [00:00<00:00, 547.58it/s, train loss 8.677 ; val loss 1.572; lr 1.00e-05]\n",
      "467/500: 100%|█████| 68/68 [00:00<00:00, 537.31it/s, train loss 3.561 ; val loss 1.426; lr 1.00e-05]\n",
      "468/500: 100%|█████| 68/68 [00:00<00:00, 546.64it/s, train loss 5.131 ; val loss 1.443; lr 1.00e-05]\n",
      "469/500: 100%|█████| 68/68 [00:00<00:00, 543.63it/s, train loss 1.351 ; val loss 1.424; lr 1.00e-05]\n",
      "470/500: 100%|████| 68/68 [00:00<00:00, 543.52it/s, train loss 18.002 ; val loss 1.586; lr 1.00e-05]\n",
      "471/500: 100%|█████| 68/68 [00:00<00:00, 550.27it/s, train loss 1.695 ; val loss 1.615; lr 1.00e-05]\n",
      "472/500: 100%|█████| 68/68 [00:00<00:00, 548.02it/s, train loss 3.934 ; val loss 1.405; lr 1.00e-05]\n",
      "473/500: 100%|█████| 68/68 [00:00<00:00, 544.16it/s, train loss 2.435 ; val loss 1.399; lr 1.00e-05]\n",
      "474/500: 100%|████| 68/68 [00:00<00:00, 542.19it/s, train loss 10.142 ; val loss 1.362; lr 1.00e-05]\n"
     ]
    },
    {
     "name": "stdout",
     "output_type": "stream",
     "text": [
      "saved model ValAcc: 1.362\n"
     ]
    },
    {
     "name": "stderr",
     "output_type": "stream",
     "text": [
      "475/500: 100%|█████| 68/68 [00:00<00:00, 488.79it/s, train loss 4.214 ; val loss 1.469; lr 1.00e-05]\n",
      "476/500: 100%|█████| 68/68 [00:00<00:00, 336.46it/s, train loss 2.676 ; val loss 1.384; lr 1.00e-05]\n",
      "477/500: 100%|████| 68/68 [00:00<00:00, 426.28it/s, train loss 12.727 ; val loss 1.425; lr 1.00e-05]\n",
      "478/500: 100%|████| 68/68 [00:00<00:00, 503.73it/s, train loss 10.092 ; val loss 1.411; lr 1.00e-05]\n",
      "479/500: 100%|████| 68/68 [00:00<00:00, 541.65it/s, train loss 11.731 ; val loss 1.517; lr 1.00e-05]\n",
      "480/500: 100%|█████| 68/68 [00:00<00:00, 461.70it/s, train loss 4.515 ; val loss 1.390; lr 1.00e-05]\n",
      "481/500: 100%|█████| 68/68 [00:00<00:00, 539.85it/s, train loss 7.477 ; val loss 1.393; lr 1.00e-05]\n",
      "482/500: 100%|█████| 68/68 [00:00<00:00, 548.17it/s, train loss 4.874 ; val loss 1.393; lr 1.00e-05]\n",
      "483/500: 100%|█████| 68/68 [00:00<00:00, 543.82it/s, train loss 6.127 ; val loss 1.827; lr 1.00e-05]\n",
      "484/500: 100%|█████| 68/68 [00:00<00:00, 552.76it/s, train loss 5.072 ; val loss 1.492; lr 1.00e-05]\n",
      "485/500: 100%|█████| 68/68 [00:00<00:00, 539.71it/s, train loss 2.897 ; val loss 1.352; lr 1.00e-05]\n"
     ]
    },
    {
     "name": "stdout",
     "output_type": "stream",
     "text": [
      "saved model ValAcc: 1.352\n"
     ]
    },
    {
     "name": "stderr",
     "output_type": "stream",
     "text": [
      "486/500: 100%|█████| 68/68 [00:00<00:00, 504.01it/s, train loss 1.964 ; val loss 1.440; lr 1.00e-05]\n",
      "487/500: 100%|█████| 68/68 [00:00<00:00, 548.51it/s, train loss 2.213 ; val loss 1.358; lr 1.00e-05]\n",
      "488/500: 100%|████| 68/68 [00:00<00:00, 547.45it/s, train loss 10.130 ; val loss 1.733; lr 1.00e-05]\n",
      "489/500: 100%|█████| 68/68 [00:00<00:00, 540.71it/s, train loss 4.123 ; val loss 1.497; lr 1.00e-05]\n",
      "490/500: 100%|█████| 68/68 [00:00<00:00, 540.65it/s, train loss 2.037 ; val loss 1.388; lr 1.00e-05]\n",
      "491/500: 100%|█████| 68/68 [00:00<00:00, 551.87it/s, train loss 6.367 ; val loss 1.392; lr 1.00e-05]\n",
      "492/500: 100%|█████| 68/68 [00:00<00:00, 535.29it/s, train loss 4.781 ; val loss 1.410; lr 1.00e-05]\n",
      "493/500: 100%|█████| 68/68 [00:00<00:00, 543.16it/s, train loss 4.829 ; val loss 1.368; lr 1.00e-05]\n",
      "494/500: 100%|█████| 68/68 [00:00<00:00, 547.04it/s, train loss 7.020 ; val loss 1.543; lr 1.00e-05]\n",
      "495/500: 100%|█████| 68/68 [00:00<00:00, 546.05it/s, train loss 4.647 ; val loss 1.471; lr 1.00e-05]\n",
      "496/500: 100%|█████| 68/68 [00:00<00:00, 545.90it/s, train loss 3.464 ; val loss 1.497; lr 1.00e-05]\n",
      "497/500: 100%|█████| 68/68 [00:00<00:00, 531.19it/s, train loss 1.876 ; val loss 1.366; lr 1.00e-05]\n",
      "498/500: 100%|█████| 68/68 [00:00<00:00, 525.11it/s, train loss 1.519 ; val loss 1.509; lr 1.00e-05]\n",
      "499/500: 100%|█████| 68/68 [00:00<00:00, 552.09it/s, train loss 4.606 ; val loss 1.420; lr 1.00e-05]\n",
      "500/500: 100%|█████| 68/68 [00:00<00:00, 535.34it/s, train loss 4.800 ; val loss 1.536; lr 1.00e-05]\n"
     ]
    }
   ],
   "source": [
    "# training\n",
    "\n",
    "early_stop_cnt = 0\n",
    "best_val_loss = float('inf')\n",
    "for epoch in range(tot_epoch):\n",
    "    with tqdm(train_loader, total=len(train_loader), ncols=100) as tbar:\n",
    "        tbar.set_description(f\"{epoch+1}/{tot_epoch}\")\n",
    "        for i, (x, y) in enumerate(train_loader):\n",
    "            model.train()\n",
    "            x = x.float().to(device)\n",
    "            preds = model(x).squeeze(dim=1)                \n",
    "            loss = loss_fcn(y.float().to(device), preds)\n",
    "            optimizer.zero_grad()\n",
    "            loss.backward()\n",
    "            optimizer.step()\n",
    "\n",
    "            if (i + 1) % len(train_loader) == 0:\n",
    "                tot_mse = []\n",
    "                for j, (x, y) in enumerate(val_loader):\n",
    "                    model.eval()\n",
    "                    preds = model(x.float().to(device)).squeeze(dim=1)\n",
    "                    tot_mse.append(loss_fcn(y.float().to(device), preds).detach().cpu().numpy())\n",
    "                cur_lr = optimizer.state_dict()['param_groups'][0]['lr']\n",
    "                val_loss = np.mean(tot_mse)\n",
    "                tbar.set_postfix_str(f'train loss {loss.item():.3f} ; val loss {val_loss:.3f}; lr {cur_lr:.2e}')\n",
    "                if early_stop_cnt <= patient:\n",
    "                    if best_val_loss > val_loss:\n",
    "                        early_stop_cnt = 0\n",
    "                        best_val_loss = val_loss\n",
    "                        torch.save(model.state_dict(), './best_val_model.pth')\n",
    "                        print(f'saved model ValAcc: {val_loss:.3f}')\n",
    "                    else:\n",
    "                        early_stop_cnt += 1\n",
    "                else:\n",
    "                    pass\n",
    "            tbar.update(1)"
   ]
  },
  {
   "cell_type": "code",
   "execution_count": 40,
   "metadata": {
    "tags": []
   },
   "outputs": [],
   "source": [
    "# for j, (x, y) in enumerate(val_loader):\n",
    "#     model.eval()\n",
    "#     preds = model(x.float().to(device)).squeeze(dim=1)\n",
    "#     print(preds, y, sep='\\n')\n",
    "#     print(f\"{'=' * 80}\")"
   ]
  },
  {
   "cell_type": "code",
   "execution_count": 41,
   "metadata": {},
   "outputs": [],
   "source": [
    "test_dataset = pd.read_csv(test_data_path)\n",
    "test_dataset = test_dataset[test_dataset.columns[1:]]\n",
    "test_dataset = test_dataset[bestSelectedFeature['Specs']]\n",
    "\n",
    "test_loader = DataLoader(COVID19Dataset(test_dataset.values, None), batch_size=16, shuffle=False)\n",
    "\n",
    "model.load_state_dict(torch.load('./best_val_model.pth'))\n",
    "model.eval()\n",
    "preds_all = []\n",
    "for x in test_loader:\n",
    "    x = x.float().to(device)\n",
    "    preds = model(x).detach().cpu().numpy().squeeze()\n",
    "    # print(preds)\n",
    "    preds_all.extend(preds)\n",
    "\n",
    "\n",
    "save_pred(preds_all, \"./dl_selected_original_feature.txt\")"
   ]
  },
  {
   "cell_type": "markdown",
   "metadata": {},
   "source": [
    "#### 使用所有(feature scaled)数据"
   ]
  },
  {
   "cell_type": "code",
   "execution_count": 42,
   "metadata": {},
   "outputs": [
    {
     "name": "stdout",
     "output_type": "stream",
     "text": [
      "(2159, 34) (540, 34) (2159,) (540,)\n"
     ]
    }
   ],
   "source": [
    "same_seed(77)\n",
    "dataset = pd.read_csv(train_data_path)\n",
    "dataset = dataset[dataset.columns[1:]]  # remove 'id' column\n",
    "\n",
    "feature_process_pipeline = Pipeline([('maxmin_scaler', MaxminScaler('tested_positive'))]) \n",
    "dataset = feature_process_pipeline.transform(dataset.copy())\n",
    "\n",
    "corr_matrix = dataset.corr()\n",
    "target_coor = corr_matrix['tested_positive.4'].sort_values(ascending=False)\n",
    "mask = target_coor > 0.5  # 选择与target相关性大于0.5的feature参与训练\n",
    "selected_feature_idx = list(target_coor.index[mask])\n",
    "\n",
    "x_dataset = dataset[selected_feature_idx[1:]]\n",
    "y_dataset = dataset.iloc[:, -1]\n",
    "x_train, x_val, y_train, y_val = train_test_split(x_dataset, y_dataset, test_size=0.2, random_state=77)  # 划分测试集和验证集\n",
    "print(x_train.shape, x_val.shape, y_train.shape, y_val.shape)"
   ]
  },
  {
   "cell_type": "code",
   "execution_count": 43,
   "metadata": {},
   "outputs": [
    {
     "data": {
      "text/html": [
       "<div>\n",
       "<style scoped>\n",
       "    .dataframe tbody tr th:only-of-type {\n",
       "        vertical-align: middle;\n",
       "    }\n",
       "\n",
       "    .dataframe tbody tr th {\n",
       "        vertical-align: top;\n",
       "    }\n",
       "\n",
       "    .dataframe thead th {\n",
       "        text-align: right;\n",
       "    }\n",
       "</style>\n",
       "<table border=\"1\" class=\"dataframe\">\n",
       "  <thead>\n",
       "    <tr style=\"text-align: right;\">\n",
       "      <th></th>\n",
       "      <th>tested_positive.3</th>\n",
       "      <th>tested_positive.2</th>\n",
       "      <th>tested_positive.1</th>\n",
       "      <th>tested_positive</th>\n",
       "      <th>hh_cmnty_cli.4</th>\n",
       "      <th>hh_cmnty_cli.3</th>\n",
       "      <th>nohh_cmnty_cli.4</th>\n",
       "      <th>hh_cmnty_cli.2</th>\n",
       "      <th>nohh_cmnty_cli.3</th>\n",
       "      <th>hh_cmnty_cli.1</th>\n",
       "      <th>...</th>\n",
       "      <th>anxious.4</th>\n",
       "      <th>anxious.3</th>\n",
       "      <th>anxious.2</th>\n",
       "      <th>anxious.1</th>\n",
       "      <th>anxious</th>\n",
       "      <th>work_outside_home.4</th>\n",
       "      <th>work_outside_home.3</th>\n",
       "      <th>work_outside_home.2</th>\n",
       "      <th>work_outside_home.1</th>\n",
       "      <th>work_outside_home</th>\n",
       "    </tr>\n",
       "  </thead>\n",
       "  <tbody>\n",
       "    <tr>\n",
       "      <th>1611</th>\n",
       "      <td>5.720446</td>\n",
       "      <td>5.066153</td>\n",
       "      <td>3.728124</td>\n",
       "      <td>3.217874</td>\n",
       "      <td>0.030578</td>\n",
       "      <td>0.038501</td>\n",
       "      <td>0.043391</td>\n",
       "      <td>0.035927</td>\n",
       "      <td>0.050363</td>\n",
       "      <td>0.036260</td>\n",
       "      <td>...</td>\n",
       "      <td>0.349364</td>\n",
       "      <td>0.315327</td>\n",
       "      <td>0.365267</td>\n",
       "      <td>0.352714</td>\n",
       "      <td>0.315041</td>\n",
       "      <td>0.125020</td>\n",
       "      <td>0.101719</td>\n",
       "      <td>0.108746</td>\n",
       "      <td>0.125541</td>\n",
       "      <td>0.118981</td>\n",
       "    </tr>\n",
       "    <tr>\n",
       "      <th>1738</th>\n",
       "      <td>5.238175</td>\n",
       "      <td>6.132241</td>\n",
       "      <td>8.019026</td>\n",
       "      <td>7.425820</td>\n",
       "      <td>0.123110</td>\n",
       "      <td>0.137675</td>\n",
       "      <td>0.101318</td>\n",
       "      <td>0.140786</td>\n",
       "      <td>0.106964</td>\n",
       "      <td>0.132884</td>\n",
       "      <td>...</td>\n",
       "      <td>0.424925</td>\n",
       "      <td>0.448514</td>\n",
       "      <td>0.426557</td>\n",
       "      <td>0.417610</td>\n",
       "      <td>0.469680</td>\n",
       "      <td>0.461224</td>\n",
       "      <td>0.470054</td>\n",
       "      <td>0.477118</td>\n",
       "      <td>0.463857</td>\n",
       "      <td>0.506354</td>\n",
       "    </tr>\n",
       "    <tr>\n",
       "      <th>1156</th>\n",
       "      <td>14.071856</td>\n",
       "      <td>14.583333</td>\n",
       "      <td>14.583333</td>\n",
       "      <td>13.437500</td>\n",
       "      <td>0.795198</td>\n",
       "      <td>0.790392</td>\n",
       "      <td>0.810744</td>\n",
       "      <td>0.811431</td>\n",
       "      <td>0.795247</td>\n",
       "      <td>0.801507</td>\n",
       "      <td>...</td>\n",
       "      <td>0.610920</td>\n",
       "      <td>0.637113</td>\n",
       "      <td>0.735003</td>\n",
       "      <td>0.739021</td>\n",
       "      <td>0.779809</td>\n",
       "      <td>0.432208</td>\n",
       "      <td>0.454133</td>\n",
       "      <td>0.552732</td>\n",
       "      <td>0.601344</td>\n",
       "      <td>0.591493</td>\n",
       "    </tr>\n",
       "    <tr>\n",
       "      <th>530</th>\n",
       "      <td>12.980782</td>\n",
       "      <td>10.194185</td>\n",
       "      <td>8.715588</td>\n",
       "      <td>9.047263</td>\n",
       "      <td>0.193160</td>\n",
       "      <td>0.193023</td>\n",
       "      <td>0.159913</td>\n",
       "      <td>0.176219</td>\n",
       "      <td>0.154867</td>\n",
       "      <td>0.181626</td>\n",
       "      <td>...</td>\n",
       "      <td>0.393338</td>\n",
       "      <td>0.437170</td>\n",
       "      <td>0.466091</td>\n",
       "      <td>0.519418</td>\n",
       "      <td>0.507335</td>\n",
       "      <td>0.498154</td>\n",
       "      <td>0.506570</td>\n",
       "      <td>0.537812</td>\n",
       "      <td>0.517657</td>\n",
       "      <td>0.528373</td>\n",
       "    </tr>\n",
       "    <tr>\n",
       "      <th>614</th>\n",
       "      <td>2.909232</td>\n",
       "      <td>3.374709</td>\n",
       "      <td>3.514739</td>\n",
       "      <td>3.488372</td>\n",
       "      <td>0.060224</td>\n",
       "      <td>0.056132</td>\n",
       "      <td>0.050647</td>\n",
       "      <td>0.057334</td>\n",
       "      <td>0.046105</td>\n",
       "      <td>0.058849</td>\n",
       "      <td>...</td>\n",
       "      <td>0.290070</td>\n",
       "      <td>0.281768</td>\n",
       "      <td>0.294648</td>\n",
       "      <td>0.268472</td>\n",
       "      <td>0.224005</td>\n",
       "      <td>0.152179</td>\n",
       "      <td>0.156876</td>\n",
       "      <td>0.128048</td>\n",
       "      <td>0.107788</td>\n",
       "      <td>0.110595</td>\n",
       "    </tr>\n",
       "  </tbody>\n",
       "</table>\n",
       "<p>5 rows × 34 columns</p>\n",
       "</div>"
      ],
      "text/plain": [
       "      tested_positive.3  tested_positive.2  tested_positive.1  \\\n",
       "1611           5.720446           5.066153           3.728124   \n",
       "1738           5.238175           6.132241           8.019026   \n",
       "1156          14.071856          14.583333          14.583333   \n",
       "530           12.980782          10.194185           8.715588   \n",
       "614            2.909232           3.374709           3.514739   \n",
       "\n",
       "      tested_positive  hh_cmnty_cli.4  hh_cmnty_cli.3  nohh_cmnty_cli.4  \\\n",
       "1611         3.217874        0.030578        0.038501          0.043391   \n",
       "1738         7.425820        0.123110        0.137675          0.101318   \n",
       "1156        13.437500        0.795198        0.790392          0.810744   \n",
       "530          9.047263        0.193160        0.193023          0.159913   \n",
       "614          3.488372        0.060224        0.056132          0.050647   \n",
       "\n",
       "      hh_cmnty_cli.2  nohh_cmnty_cli.3  hh_cmnty_cli.1  ...  anxious.4  \\\n",
       "1611        0.035927          0.050363        0.036260  ...   0.349364   \n",
       "1738        0.140786          0.106964        0.132884  ...   0.424925   \n",
       "1156        0.811431          0.795247        0.801507  ...   0.610920   \n",
       "530         0.176219          0.154867        0.181626  ...   0.393338   \n",
       "614         0.057334          0.046105        0.058849  ...   0.290070   \n",
       "\n",
       "      anxious.3  anxious.2  anxious.1   anxious  work_outside_home.4  \\\n",
       "1611   0.315327   0.365267   0.352714  0.315041             0.125020   \n",
       "1738   0.448514   0.426557   0.417610  0.469680             0.461224   \n",
       "1156   0.637113   0.735003   0.739021  0.779809             0.432208   \n",
       "530    0.437170   0.466091   0.519418  0.507335             0.498154   \n",
       "614    0.281768   0.294648   0.268472  0.224005             0.152179   \n",
       "\n",
       "      work_outside_home.3  work_outside_home.2  work_outside_home.1  \\\n",
       "1611             0.101719             0.108746             0.125541   \n",
       "1738             0.470054             0.477118             0.463857   \n",
       "1156             0.454133             0.552732             0.601344   \n",
       "530              0.506570             0.537812             0.517657   \n",
       "614              0.156876             0.128048             0.107788   \n",
       "\n",
       "      work_outside_home  \n",
       "1611           0.118981  \n",
       "1738           0.506354  \n",
       "1156           0.591493  \n",
       "530            0.528373  \n",
       "614            0.110595  \n",
       "\n",
       "[5 rows x 34 columns]"
      ]
     },
     "execution_count": 43,
     "metadata": {},
     "output_type": "execute_result"
    }
   ],
   "source": [
    "x_train.head()"
   ]
  },
  {
   "cell_type": "code",
   "execution_count": 44,
   "metadata": {},
   "outputs": [
    {
     "data": {
      "text/plain": [
       "Index(['tested_positive.3', 'tested_positive.2', 'tested_positive.1',\n",
       "       'tested_positive', 'hh_cmnty_cli.4', 'hh_cmnty_cli.3',\n",
       "       'nohh_cmnty_cli.4', 'hh_cmnty_cli.2', 'nohh_cmnty_cli.3',\n",
       "       'hh_cmnty_cli.1', 'nohh_cmnty_cli.2', 'hh_cmnty_cli',\n",
       "       'nohh_cmnty_cli.1', 'nohh_cmnty_cli', 'ili.4', 'cli.4', 'ili.3',\n",
       "       'cli.3', 'ili.2', 'cli.2', 'ili.1', 'cli.1', 'ili', 'cli', 'anxious.4',\n",
       "       'anxious.3', 'anxious.2', 'anxious.1', 'anxious', 'work_outside_home.4',\n",
       "       'work_outside_home.3', 'work_outside_home.2', 'work_outside_home.1',\n",
       "       'work_outside_home'],\n",
       "      dtype='object')"
      ]
     },
     "execution_count": 44,
     "metadata": {},
     "output_type": "execute_result"
    }
   ],
   "source": [
    "x_train.columns"
   ]
  },
  {
   "cell_type": "code",
   "execution_count": 45,
   "metadata": {
    "scrolled": true,
    "tags": []
   },
   "outputs": [
    {
     "name": "stderr",
     "output_type": "stream",
     "text": [
      "1/300: 100%|████| 168/168 [00:00<00:00, 605.29it/s, train loss 17.000 ; val loss 8.537; lr 1.00e-04]\n",
      "2/300: 100%|████| 168/168 [00:00<00:00, 596.74it/s, train loss 16.180 ; val loss 6.300; lr 1.00e-04]\n",
      "3/300: 100%|█████| 168/168 [00:00<00:00, 508.32it/s, train loss 8.894 ; val loss 5.893; lr 1.00e-04]\n",
      "4/300: 100%|█████| 168/168 [00:00<00:00, 603.22it/s, train loss 6.480 ; val loss 4.060; lr 1.00e-04]\n",
      "5/300: 100%|█████| 168/168 [00:00<00:00, 582.98it/s, train loss 9.465 ; val loss 2.196; lr 1.00e-04]\n",
      "6/300: 100%|█████| 168/168 [00:00<00:00, 601.84it/s, train loss 5.034 ; val loss 2.149; lr 1.00e-04]\n",
      "7/300: 100%|█████| 168/168 [00:00<00:00, 603.06it/s, train loss 7.280 ; val loss 1.594; lr 1.00e-04]\n",
      "8/300: 100%|█████| 168/168 [00:00<00:00, 589.41it/s, train loss 4.363 ; val loss 1.467; lr 1.00e-04]\n",
      "9/300: 100%|█████| 168/168 [00:00<00:00, 603.29it/s, train loss 6.542 ; val loss 1.536; lr 1.00e-04]\n",
      "10/300: 100%|████| 168/168 [00:00<00:00, 612.90it/s, train loss 2.678 ; val loss 1.397; lr 1.00e-04]\n",
      "11/300: 100%|████| 168/168 [00:00<00:00, 417.01it/s, train loss 8.487 ; val loss 1.384; lr 1.00e-04]\n",
      "12/300: 100%|████| 168/168 [00:00<00:00, 537.86it/s, train loss 9.770 ; val loss 1.314; lr 1.00e-04]\n",
      "13/300: 100%|████| 168/168 [00:00<00:00, 596.02it/s, train loss 4.546 ; val loss 1.330; lr 1.00e-04]\n",
      "14/300: 100%|████| 168/168 [00:00<00:00, 605.74it/s, train loss 2.676 ; val loss 1.285; lr 1.00e-04]\n",
      "15/300: 100%|████| 168/168 [00:00<00:00, 546.62it/s, train loss 8.480 ; val loss 1.260; lr 1.00e-04]\n",
      "16/300: 100%|████| 168/168 [00:00<00:00, 614.14it/s, train loss 3.714 ; val loss 1.264; lr 1.00e-04]\n",
      "17/300: 100%|████| 168/168 [00:00<00:00, 607.84it/s, train loss 2.285 ; val loss 1.817; lr 1.00e-04]\n",
      "18/300: 100%|████| 168/168 [00:00<00:00, 571.77it/s, train loss 6.293 ; val loss 1.366; lr 1.00e-04]\n",
      "19/300: 100%|████| 168/168 [00:00<00:00, 605.64it/s, train loss 3.553 ; val loss 1.257; lr 1.00e-04]\n",
      "20/300: 100%|████| 168/168 [00:00<00:00, 611.46it/s, train loss 6.196 ; val loss 1.331; lr 1.00e-04]\n",
      "21/300: 100%|████| 168/168 [00:00<00:00, 606.52it/s, train loss 8.176 ; val loss 1.330; lr 1.00e-04]\n",
      "22/300: 100%|████| 168/168 [00:00<00:00, 615.04it/s, train loss 1.493 ; val loss 1.241; lr 1.00e-04]\n",
      "23/300: 100%|███| 168/168 [00:00<00:00, 508.59it/s, train loss 31.403 ; val loss 1.866; lr 1.00e-04]\n",
      "24/300: 100%|████| 168/168 [00:00<00:00, 610.23it/s, train loss 2.060 ; val loss 1.292; lr 1.00e-04]\n",
      "25/300: 100%|████| 168/168 [00:00<00:00, 607.82it/s, train loss 2.643 ; val loss 1.597; lr 1.00e-04]\n",
      "26/300: 100%|████| 168/168 [00:00<00:00, 607.96it/s, train loss 9.191 ; val loss 1.676; lr 1.00e-04]\n",
      "27/300: 100%|████| 168/168 [00:00<00:00, 615.51it/s, train loss 3.160 ; val loss 1.303; lr 1.00e-04]\n",
      "28/300: 100%|████| 168/168 [00:00<00:00, 611.15it/s, train loss 4.083 ; val loss 1.214; lr 1.00e-04]\n",
      "29/300: 100%|████| 168/168 [00:00<00:00, 605.62it/s, train loss 6.752 ; val loss 1.399; lr 1.00e-04]\n",
      "30/300: 100%|████| 168/168 [00:00<00:00, 611.13it/s, train loss 4.526 ; val loss 1.270; lr 1.00e-04]\n",
      "31/300: 100%|████| 168/168 [00:00<00:00, 604.04it/s, train loss 4.907 ; val loss 1.539; lr 1.00e-04]\n",
      "32/300: 100%|████| 168/168 [00:00<00:00, 615.12it/s, train loss 4.593 ; val loss 1.304; lr 1.00e-04]\n",
      "33/300: 100%|████| 168/168 [00:00<00:00, 599.75it/s, train loss 4.365 ; val loss 1.512; lr 1.00e-04]\n",
      "34/300: 100%|████| 168/168 [00:00<00:00, 595.04it/s, train loss 9.388 ; val loss 1.345; lr 1.00e-04]\n",
      "35/300: 100%|████| 168/168 [00:00<00:00, 607.36it/s, train loss 2.912 ; val loss 1.265; lr 1.00e-04]\n",
      "36/300: 100%|████| 168/168 [00:00<00:00, 610.21it/s, train loss 6.296 ; val loss 1.325; lr 1.00e-04]\n",
      "37/300: 100%|████| 168/168 [00:00<00:00, 612.45it/s, train loss 5.289 ; val loss 1.200; lr 1.00e-04]\n",
      "38/300: 100%|████| 168/168 [00:00<00:00, 607.41it/s, train loss 4.346 ; val loss 1.390; lr 1.00e-04]\n",
      "39/300: 100%|████| 168/168 [00:00<00:00, 611.36it/s, train loss 1.516 ; val loss 1.415; lr 1.00e-04]\n",
      "40/300: 100%|████| 168/168 [00:00<00:00, 596.89it/s, train loss 2.362 ; val loss 1.169; lr 1.00e-04]\n",
      "41/300: 100%|████| 168/168 [00:00<00:00, 612.10it/s, train loss 6.859 ; val loss 1.148; lr 1.00e-04]\n",
      "42/300: 100%|████| 168/168 [00:00<00:00, 611.76it/s, train loss 3.537 ; val loss 1.310; lr 1.00e-04]\n",
      "43/300: 100%|████| 168/168 [00:00<00:00, 615.48it/s, train loss 1.791 ; val loss 1.242; lr 1.00e-04]\n",
      "44/300: 100%|████| 168/168 [00:00<00:00, 610.46it/s, train loss 1.229 ; val loss 1.193; lr 1.00e-04]\n",
      "45/300: 100%|████| 168/168 [00:00<00:00, 611.12it/s, train loss 6.138 ; val loss 1.481; lr 1.00e-04]\n",
      "46/300: 100%|████| 168/168 [00:00<00:00, 611.26it/s, train loss 7.584 ; val loss 1.158; lr 1.00e-04]\n",
      "47/300: 100%|███| 168/168 [00:00<00:00, 612.09it/s, train loss 14.282 ; val loss 2.201; lr 1.00e-04]\n",
      "48/300: 100%|████| 168/168 [00:00<00:00, 613.96it/s, train loss 4.367 ; val loss 1.168; lr 1.00e-04]\n",
      "49/300: 100%|████| 168/168 [00:00<00:00, 608.39it/s, train loss 6.401 ; val loss 1.191; lr 1.00e-04]\n",
      "50/300: 100%|████| 168/168 [00:00<00:00, 614.30it/s, train loss 2.248 ; val loss 1.362; lr 1.00e-04]\n",
      "51/300: 100%|████| 168/168 [00:00<00:00, 606.92it/s, train loss 2.213 ; val loss 1.223; lr 1.00e-04]\n",
      "52/300: 100%|████| 168/168 [00:00<00:00, 612.24it/s, train loss 8.117 ; val loss 1.349; lr 1.00e-04]\n",
      "53/300: 100%|████| 168/168 [00:00<00:00, 519.68it/s, train loss 4.631 ; val loss 1.258; lr 1.00e-04]\n",
      "54/300: 100%|███| 168/168 [00:00<00:00, 611.76it/s, train loss 11.234 ; val loss 1.716; lr 1.00e-04]\n",
      "55/300: 100%|████| 168/168 [00:00<00:00, 507.15it/s, train loss 2.963 ; val loss 1.209; lr 1.00e-04]\n",
      "56/300: 100%|████| 168/168 [00:00<00:00, 609.14it/s, train loss 1.104 ; val loss 1.357; lr 1.00e-04]\n",
      "57/300: 100%|███| 168/168 [00:00<00:00, 606.35it/s, train loss 12.359 ; val loss 1.731; lr 1.00e-04]\n",
      "58/300: 100%|████| 168/168 [00:00<00:00, 605.90it/s, train loss 8.156 ; val loss 1.458; lr 1.00e-04]\n",
      "59/300: 100%|████| 168/168 [00:00<00:00, 611.25it/s, train loss 6.516 ; val loss 1.345; lr 1.00e-04]\n",
      "60/300: 100%|████| 168/168 [00:00<00:00, 607.04it/s, train loss 1.919 ; val loss 1.243; lr 1.00e-04]\n",
      "61/300: 100%|████| 168/168 [00:00<00:00, 608.29it/s, train loss 3.232 ; val loss 1.282; lr 1.00e-04]\n",
      "62/300: 100%|████| 168/168 [00:00<00:00, 614.67it/s, train loss 7.123 ; val loss 1.430; lr 1.00e-04]\n",
      "63/300: 100%|████| 168/168 [00:00<00:00, 513.17it/s, train loss 3.651 ; val loss 1.522; lr 1.00e-04]\n",
      "64/300: 100%|████| 168/168 [00:00<00:00, 607.43it/s, train loss 3.528 ; val loss 1.721; lr 1.00e-04]\n",
      "65/300: 100%|████| 168/168 [00:00<00:00, 606.12it/s, train loss 9.128 ; val loss 1.802; lr 1.00e-04]\n",
      "66/300: 100%|████| 168/168 [00:00<00:00, 603.62it/s, train loss 4.329 ; val loss 1.284; lr 1.00e-04]\n",
      "67/300: 100%|████| 168/168 [00:00<00:00, 608.08it/s, train loss 9.163 ; val loss 1.332; lr 1.00e-04]\n",
      "68/300: 100%|████| 168/168 [00:00<00:00, 604.51it/s, train loss 3.045 ; val loss 1.176; lr 1.00e-04]\n",
      "69/300: 100%|████| 168/168 [00:00<00:00, 609.26it/s, train loss 6.403 ; val loss 1.460; lr 1.00e-04]\n",
      "70/300: 100%|████| 168/168 [00:00<00:00, 613.38it/s, train loss 2.181 ; val loss 1.204; lr 1.00e-04]\n",
      "71/300: 100%|████| 168/168 [00:00<00:00, 596.73it/s, train loss 6.340 ; val loss 1.175; lr 1.00e-04]\n",
      "72/300: 100%|████| 168/168 [00:00<00:00, 603.81it/s, train loss 7.433 ; val loss 1.272; lr 1.00e-04]\n",
      "73/300: 100%|████| 168/168 [00:00<00:00, 605.38it/s, train loss 3.757 ; val loss 1.151; lr 1.00e-04]\n",
      "74/300: 100%|████| 168/168 [00:00<00:00, 614.21it/s, train loss 6.389 ; val loss 1.289; lr 1.00e-04]\n",
      "75/300: 100%|███| 168/168 [00:00<00:00, 611.48it/s, train loss 11.770 ; val loss 1.683; lr 1.00e-04]\n",
      "76/300: 100%|████| 168/168 [00:00<00:00, 607.96it/s, train loss 5.489 ; val loss 1.305; lr 1.00e-04]\n",
      "77/300: 100%|████| 168/168 [00:00<00:00, 606.66it/s, train loss 8.275 ; val loss 1.160; lr 1.00e-04]\n",
      "78/300: 100%|████| 168/168 [00:00<00:00, 613.86it/s, train loss 9.425 ; val loss 1.232; lr 1.00e-04]\n",
      "79/300: 100%|████| 168/168 [00:00<00:00, 604.55it/s, train loss 5.612 ; val loss 1.479; lr 1.00e-04]\n",
      "80/300: 100%|████| 168/168 [00:00<00:00, 611.28it/s, train loss 6.147 ; val loss 1.323; lr 1.00e-04]\n",
      "81/300: 100%|███| 168/168 [00:00<00:00, 613.48it/s, train loss 17.120 ; val loss 1.159; lr 1.00e-04]\n",
      "82/300: 100%|████| 168/168 [00:00<00:00, 606.67it/s, train loss 6.415 ; val loss 1.185; lr 1.00e-04]\n",
      "83/300: 100%|████| 168/168 [00:00<00:00, 610.37it/s, train loss 9.337 ; val loss 1.628; lr 1.00e-04]\n",
      "84/300: 100%|███| 168/168 [00:00<00:00, 612.08it/s, train loss 22.428 ; val loss 1.293; lr 1.00e-04]\n",
      "85/300: 100%|████| 168/168 [00:00<00:00, 606.01it/s, train loss 5.978 ; val loss 1.186; lr 1.00e-04]\n",
      "86/300: 100%|████| 168/168 [00:00<00:00, 598.36it/s, train loss 6.102 ; val loss 1.240; lr 1.00e-04]\n",
      "87/300: 100%|████| 168/168 [00:00<00:00, 613.25it/s, train loss 6.502 ; val loss 1.372; lr 1.00e-04]\n",
      "88/300: 100%|████| 168/168 [00:00<00:00, 615.18it/s, train loss 2.321 ; val loss 1.230; lr 1.00e-04]\n",
      "89/300: 100%|████| 168/168 [00:00<00:00, 617.08it/s, train loss 0.736 ; val loss 1.222; lr 1.00e-04]\n",
      "90/300: 100%|███| 168/168 [00:00<00:00, 608.15it/s, train loss 13.389 ; val loss 1.292; lr 1.00e-04]\n",
      "91/300: 100%|████| 168/168 [00:00<00:00, 591.78it/s, train loss 4.574 ; val loss 1.172; lr 1.00e-04]\n",
      "92/300: 100%|████| 168/168 [00:00<00:00, 610.12it/s, train loss 4.607 ; val loss 1.208; lr 1.00e-04]\n",
      "93/300: 100%|███| 168/168 [00:00<00:00, 587.70it/s, train loss 10.681 ; val loss 1.491; lr 1.00e-04]\n",
      "94/300: 100%|████| 168/168 [00:00<00:00, 615.03it/s, train loss 3.654 ; val loss 1.545; lr 1.00e-04]\n",
      "95/300: 100%|████| 168/168 [00:00<00:00, 618.85it/s, train loss 2.347 ; val loss 1.635; lr 1.00e-04]\n",
      "96/300: 100%|████| 168/168 [00:00<00:00, 611.03it/s, train loss 5.120 ; val loss 1.384; lr 1.00e-04]\n",
      "97/300: 100%|███| 168/168 [00:00<00:00, 611.32it/s, train loss 15.683 ; val loss 1.153; lr 1.00e-04]\n",
      "98/300: 100%|████| 168/168 [00:00<00:00, 602.52it/s, train loss 8.490 ; val loss 1.642; lr 1.00e-04]\n",
      "99/300: 100%|████| 168/168 [00:00<00:00, 613.77it/s, train loss 3.135 ; val loss 1.198; lr 1.00e-04]\n",
      "100/300: 100%|███| 168/168 [00:00<00:00, 607.54it/s, train loss 5.657 ; val loss 1.266; lr 1.00e-04]\n",
      "101/300: 100%|███| 168/168 [00:00<00:00, 613.73it/s, train loss 3.392 ; val loss 1.213; lr 1.00e-05]\n",
      "102/300: 100%|███| 168/168 [00:00<00:00, 611.58it/s, train loss 5.308 ; val loss 1.256; lr 1.00e-05]\n",
      "103/300: 100%|███| 168/168 [00:00<00:00, 591.70it/s, train loss 1.514 ; val loss 1.186; lr 1.00e-05]\n",
      "104/300: 100%|███| 168/168 [00:00<00:00, 597.95it/s, train loss 4.706 ; val loss 1.428; lr 1.00e-05]\n",
      "105/300: 100%|███| 168/168 [00:00<00:00, 616.08it/s, train loss 0.891 ; val loss 1.419; lr 1.00e-05]\n",
      "106/300: 100%|███| 168/168 [00:00<00:00, 613.67it/s, train loss 3.297 ; val loss 1.435; lr 1.00e-05]\n",
      "107/300: 100%|███| 168/168 [00:00<00:00, 613.09it/s, train loss 2.093 ; val loss 1.197; lr 1.00e-05]\n",
      "108/300: 100%|███| 168/168 [00:00<00:00, 615.36it/s, train loss 3.234 ; val loss 1.244; lr 1.00e-05]\n",
      "109/300: 100%|███| 168/168 [00:00<00:00, 612.73it/s, train loss 2.475 ; val loss 1.385; lr 1.00e-05]\n",
      "110/300: 100%|███| 168/168 [00:00<00:00, 612.90it/s, train loss 8.258 ; val loss 1.255; lr 1.00e-05]\n",
      "111/300: 100%|███| 168/168 [00:00<00:00, 399.42it/s, train loss 1.994 ; val loss 1.205; lr 1.00e-05]\n",
      "112/300: 100%|███| 168/168 [00:00<00:00, 610.81it/s, train loss 1.219 ; val loss 1.150; lr 1.00e-05]\n",
      "113/300: 100%|███| 168/168 [00:00<00:00, 611.29it/s, train loss 1.872 ; val loss 1.223; lr 1.00e-05]\n",
      "114/300: 100%|███| 168/168 [00:00<00:00, 567.43it/s, train loss 1.404 ; val loss 1.151; lr 1.00e-05]\n",
      "115/300: 100%|███| 168/168 [00:00<00:00, 608.33it/s, train loss 7.449 ; val loss 1.453; lr 1.00e-05]\n",
      "116/300: 100%|███| 168/168 [00:00<00:00, 614.72it/s, train loss 3.957 ; val loss 1.947; lr 1.00e-05]\n",
      "117/300: 100%|███| 168/168 [00:00<00:00, 616.95it/s, train loss 6.469 ; val loss 1.196; lr 1.00e-05]\n",
      "118/300: 100%|██| 168/168 [00:00<00:00, 609.52it/s, train loss 18.815 ; val loss 1.275; lr 1.00e-05]\n",
      "119/300: 100%|███| 168/168 [00:00<00:00, 609.55it/s, train loss 2.204 ; val loss 1.184; lr 1.00e-05]\n",
      "120/300: 100%|██| 168/168 [00:00<00:00, 615.12it/s, train loss 15.469 ; val loss 1.243; lr 1.00e-05]\n",
      "121/300: 100%|███| 168/168 [00:00<00:00, 596.95it/s, train loss 7.427 ; val loss 1.281; lr 1.00e-05]\n",
      "122/300: 100%|███| 168/168 [00:00<00:00, 605.16it/s, train loss 5.371 ; val loss 1.211; lr 1.00e-05]\n",
      "123/300: 100%|██| 168/168 [00:00<00:00, 614.83it/s, train loss 11.439 ; val loss 1.891; lr 1.00e-05]\n",
      "124/300: 100%|███| 168/168 [00:00<00:00, 591.28it/s, train loss 3.032 ; val loss 1.229; lr 1.00e-05]\n",
      "125/300: 100%|███| 168/168 [00:00<00:00, 585.44it/s, train loss 9.656 ; val loss 1.766; lr 1.00e-05]\n",
      "126/300: 100%|███| 168/168 [00:00<00:00, 605.70it/s, train loss 1.955 ; val loss 1.263; lr 1.00e-05]\n",
      "127/300: 100%|███| 168/168 [00:00<00:00, 609.08it/s, train loss 1.679 ; val loss 1.397; lr 1.00e-05]\n",
      "128/300: 100%|███| 168/168 [00:00<00:00, 611.88it/s, train loss 5.036 ; val loss 1.232; lr 1.00e-05]\n",
      "129/300: 100%|███| 168/168 [00:00<00:00, 609.69it/s, train loss 2.433 ; val loss 1.228; lr 1.00e-05]\n",
      "130/300: 100%|███| 168/168 [00:00<00:00, 596.84it/s, train loss 2.493 ; val loss 1.167; lr 1.00e-05]\n",
      "131/300: 100%|███| 168/168 [00:00<00:00, 595.26it/s, train loss 1.851 ; val loss 1.210; lr 1.00e-05]\n",
      "132/300: 100%|███| 168/168 [00:00<00:00, 602.89it/s, train loss 3.208 ; val loss 1.805; lr 1.00e-05]\n",
      "133/300: 100%|██| 168/168 [00:00<00:00, 606.77it/s, train loss 11.757 ; val loss 1.396; lr 1.00e-05]\n",
      "134/300: 100%|███| 168/168 [00:00<00:00, 613.94it/s, train loss 7.472 ; val loss 1.164; lr 1.00e-05]\n",
      "135/300: 100%|██| 168/168 [00:00<00:00, 614.15it/s, train loss 12.584 ; val loss 1.163; lr 1.00e-05]\n",
      "136/300: 100%|███| 168/168 [00:00<00:00, 532.22it/s, train loss 2.895 ; val loss 1.422; lr 1.00e-05]\n",
      "137/300: 100%|███| 168/168 [00:00<00:00, 605.97it/s, train loss 3.356 ; val loss 1.555; lr 1.00e-05]\n",
      "138/300: 100%|███| 168/168 [00:00<00:00, 605.83it/s, train loss 2.090 ; val loss 1.193; lr 1.00e-05]\n",
      "139/300: 100%|███| 168/168 [00:00<00:00, 587.83it/s, train loss 5.253 ; val loss 1.281; lr 1.00e-05]\n",
      "140/300: 100%|███| 168/168 [00:00<00:00, 606.27it/s, train loss 3.343 ; val loss 1.427; lr 1.00e-05]\n",
      "141/300: 100%|███| 168/168 [00:00<00:00, 605.47it/s, train loss 2.001 ; val loss 1.188; lr 1.00e-05]\n",
      "142/300: 100%|███| 168/168 [00:00<00:00, 606.54it/s, train loss 8.936 ; val loss 1.215; lr 1.00e-05]\n",
      "143/300: 100%|███| 168/168 [00:00<00:00, 604.00it/s, train loss 7.553 ; val loss 1.354; lr 1.00e-05]\n",
      "144/300: 100%|███| 168/168 [00:00<00:00, 604.76it/s, train loss 5.087 ; val loss 1.721; lr 1.00e-05]\n",
      "145/300: 100%|███| 168/168 [00:00<00:00, 599.06it/s, train loss 8.029 ; val loss 1.175; lr 1.00e-05]\n",
      "146/300: 100%|███| 168/168 [00:00<00:00, 602.04it/s, train loss 4.615 ; val loss 1.189; lr 1.00e-05]\n",
      "147/300: 100%|██| 168/168 [00:00<00:00, 609.47it/s, train loss 12.582 ; val loss 1.163; lr 1.00e-05]\n",
      "148/300: 100%|███| 168/168 [00:00<00:00, 610.74it/s, train loss 5.413 ; val loss 1.157; lr 1.00e-05]\n",
      "149/300: 100%|███| 168/168 [00:00<00:00, 615.23it/s, train loss 8.724 ; val loss 1.245; lr 1.00e-05]\n",
      "150/300: 100%|███| 168/168 [00:00<00:00, 605.24it/s, train loss 1.832 ; val loss 1.169; lr 1.00e-05]\n",
      "151/300: 100%|███| 168/168 [00:00<00:00, 606.75it/s, train loss 1.907 ; val loss 1.316; lr 1.00e-05]\n",
      "152/300: 100%|███| 168/168 [00:00<00:00, 610.78it/s, train loss 1.691 ; val loss 1.269; lr 1.00e-05]\n",
      "153/300: 100%|███| 168/168 [00:00<00:00, 605.86it/s, train loss 1.067 ; val loss 1.257; lr 1.00e-05]\n",
      "154/300: 100%|██| 168/168 [00:00<00:00, 611.90it/s, train loss 14.486 ; val loss 1.641; lr 1.00e-05]\n",
      "155/300: 100%|███| 168/168 [00:00<00:00, 613.80it/s, train loss 4.145 ; val loss 1.219; lr 1.00e-05]\n",
      "156/300: 100%|███| 168/168 [00:00<00:00, 613.96it/s, train loss 1.794 ; val loss 1.163; lr 1.00e-05]\n",
      "157/300: 100%|███| 168/168 [00:00<00:00, 603.00it/s, train loss 3.026 ; val loss 1.272; lr 1.00e-05]\n",
      "158/300: 100%|███| 168/168 [00:00<00:00, 610.50it/s, train loss 9.634 ; val loss 1.225; lr 1.00e-05]\n",
      "159/300: 100%|███| 168/168 [00:00<00:00, 613.10it/s, train loss 3.222 ; val loss 1.203; lr 1.00e-05]\n",
      "160/300: 100%|██| 168/168 [00:00<00:00, 609.22it/s, train loss 20.095 ; val loss 1.332; lr 1.00e-05]\n",
      "161/300: 100%|███| 168/168 [00:00<00:00, 594.08it/s, train loss 6.654 ; val loss 1.545; lr 1.00e-05]\n",
      "162/300: 100%|███| 168/168 [00:00<00:00, 607.95it/s, train loss 3.438 ; val loss 1.323; lr 1.00e-05]\n",
      "163/300: 100%|███| 168/168 [00:00<00:00, 613.52it/s, train loss 3.942 ; val loss 1.196; lr 1.00e-05]\n",
      "164/300: 100%|███| 168/168 [00:00<00:00, 592.48it/s, train loss 2.841 ; val loss 1.663; lr 1.00e-05]\n",
      "165/300: 100%|███| 168/168 [00:00<00:00, 609.93it/s, train loss 0.487 ; val loss 1.213; lr 1.00e-05]\n",
      "166/300: 100%|███| 168/168 [00:00<00:00, 606.76it/s, train loss 2.262 ; val loss 1.253; lr 1.00e-05]\n",
      "167/300: 100%|██| 168/168 [00:00<00:00, 608.16it/s, train loss 16.302 ; val loss 2.039; lr 1.00e-05]\n",
      "168/300: 100%|███| 168/168 [00:00<00:00, 601.21it/s, train loss 7.362 ; val loss 1.278; lr 1.00e-05]\n",
      "169/300: 100%|███| 168/168 [00:00<00:00, 611.89it/s, train loss 8.694 ; val loss 1.563; lr 1.00e-05]\n",
      "170/300: 100%|███| 168/168 [00:00<00:00, 604.73it/s, train loss 0.563 ; val loss 1.156; lr 1.00e-05]\n",
      "171/300: 100%|██| 168/168 [00:00<00:00, 607.35it/s, train loss 18.221 ; val loss 1.397; lr 1.00e-05]\n",
      "172/300: 100%|███| 168/168 [00:00<00:00, 605.93it/s, train loss 3.723 ; val loss 1.147; lr 1.00e-05]\n",
      "173/300: 100%|███| 168/168 [00:00<00:00, 610.39it/s, train loss 5.451 ; val loss 1.150; lr 1.00e-05]\n",
      "174/300: 100%|███| 168/168 [00:00<00:00, 587.21it/s, train loss 6.069 ; val loss 1.146; lr 1.00e-05]\n",
      "175/300: 100%|███| 168/168 [00:00<00:00, 559.77it/s, train loss 2.935 ; val loss 1.197; lr 1.00e-05]\n",
      "176/300: 100%|███| 168/168 [00:00<00:00, 610.87it/s, train loss 2.510 ; val loss 1.282; lr 1.00e-05]\n",
      "177/300: 100%|███| 168/168 [00:00<00:00, 615.30it/s, train loss 2.500 ; val loss 1.412; lr 1.00e-05]\n",
      "178/300: 100%|███| 168/168 [00:00<00:00, 610.23it/s, train loss 2.012 ; val loss 1.461; lr 1.00e-05]\n",
      "179/300: 100%|███| 168/168 [00:00<00:00, 603.40it/s, train loss 1.682 ; val loss 1.166; lr 1.00e-05]\n",
      "180/300: 100%|██| 168/168 [00:00<00:00, 608.52it/s, train loss 10.315 ; val loss 1.442; lr 1.00e-05]\n",
      "181/300: 100%|███| 168/168 [00:00<00:00, 494.61it/s, train loss 1.822 ; val loss 1.236; lr 1.00e-05]\n",
      "182/300: 100%|███| 168/168 [00:00<00:00, 611.22it/s, train loss 2.601 ; val loss 1.411; lr 1.00e-05]\n",
      "183/300: 100%|███| 168/168 [00:00<00:00, 613.66it/s, train loss 2.542 ; val loss 1.399; lr 1.00e-05]\n",
      "184/300: 100%|███| 168/168 [00:00<00:00, 614.84it/s, train loss 4.943 ; val loss 1.138; lr 1.00e-05]\n",
      "185/300: 100%|███| 168/168 [00:00<00:00, 614.07it/s, train loss 5.706 ; val loss 1.214; lr 1.00e-05]\n",
      "186/300: 100%|██| 168/168 [00:00<00:00, 615.19it/s, train loss 15.677 ; val loss 1.240; lr 1.00e-05]\n",
      "187/300: 100%|███| 168/168 [00:00<00:00, 613.27it/s, train loss 2.046 ; val loss 1.152; lr 1.00e-05]\n",
      "188/300: 100%|███| 168/168 [00:00<00:00, 611.49it/s, train loss 9.510 ; val loss 1.771; lr 1.00e-05]\n",
      "189/300: 100%|███| 168/168 [00:00<00:00, 593.26it/s, train loss 1.666 ; val loss 1.180; lr 1.00e-05]\n",
      "190/300: 100%|███| 168/168 [00:00<00:00, 611.14it/s, train loss 3.464 ; val loss 1.354; lr 1.00e-05]\n",
      "191/300: 100%|███| 168/168 [00:00<00:00, 611.48it/s, train loss 2.534 ; val loss 1.625; lr 1.00e-05]\n",
      "192/300: 100%|███| 168/168 [00:00<00:00, 613.51it/s, train loss 4.928 ; val loss 1.197; lr 1.00e-05]\n",
      "193/300: 100%|██| 168/168 [00:00<00:00, 606.63it/s, train loss 23.216 ; val loss 1.514; lr 1.00e-05]\n",
      "194/300: 100%|██| 168/168 [00:00<00:00, 529.55it/s, train loss 31.673 ; val loss 1.241; lr 1.00e-05]\n",
      "195/300: 100%|███| 168/168 [00:00<00:00, 595.79it/s, train loss 6.504 ; val loss 1.253; lr 1.00e-05]\n",
      "196/300: 100%|███| 168/168 [00:00<00:00, 590.43it/s, train loss 6.270 ; val loss 1.565; lr 1.00e-05]\n",
      "197/300: 100%|██| 168/168 [00:00<00:00, 601.72it/s, train loss 14.125 ; val loss 1.282; lr 1.00e-05]\n",
      "198/300: 100%|███| 168/168 [00:00<00:00, 612.83it/s, train loss 6.286 ; val loss 1.151; lr 1.00e-05]\n",
      "199/300: 100%|███| 168/168 [00:00<00:00, 600.51it/s, train loss 1.725 ; val loss 1.169; lr 1.00e-05]\n",
      "200/300: 100%|███| 168/168 [00:00<00:00, 612.18it/s, train loss 2.489 ; val loss 1.249; lr 1.00e-05]\n",
      "201/300: 100%|██| 168/168 [00:00<00:00, 607.69it/s, train loss 25.013 ; val loss 1.793; lr 1.00e-06]\n",
      "202/300: 100%|███| 168/168 [00:00<00:00, 612.41it/s, train loss 2.700 ; val loss 1.292; lr 1.00e-06]\n",
      "203/300: 100%|███| 168/168 [00:00<00:00, 605.88it/s, train loss 8.220 ; val loss 1.418; lr 1.00e-06]\n",
      "204/300: 100%|███| 168/168 [00:00<00:00, 612.53it/s, train loss 5.597 ; val loss 1.172; lr 1.00e-06]\n",
      "205/300: 100%|██| 168/168 [00:00<00:00, 614.34it/s, train loss 12.234 ; val loss 1.284; lr 1.00e-06]\n",
      "206/300: 100%|███| 168/168 [00:00<00:00, 517.07it/s, train loss 6.754 ; val loss 1.643; lr 1.00e-06]\n",
      "207/300: 100%|███| 168/168 [00:00<00:00, 606.69it/s, train loss 2.402 ; val loss 1.230; lr 1.00e-06]\n",
      "208/300: 100%|███| 168/168 [00:00<00:00, 616.68it/s, train loss 8.815 ; val loss 1.504; lr 1.00e-06]\n",
      "209/300: 100%|██| 168/168 [00:00<00:00, 612.38it/s, train loss 12.218 ; val loss 1.462; lr 1.00e-06]\n",
      "210/300: 100%|███| 168/168 [00:00<00:00, 581.26it/s, train loss 1.653 ; val loss 1.570; lr 1.00e-06]\n",
      "211/300: 100%|███| 168/168 [00:00<00:00, 517.29it/s, train loss 4.525 ; val loss 1.170; lr 1.00e-06]\n",
      "212/300: 100%|███| 168/168 [00:00<00:00, 464.42it/s, train loss 1.703 ; val loss 2.084; lr 1.00e-06]\n",
      "213/300: 100%|██| 168/168 [00:00<00:00, 328.65it/s, train loss 17.154 ; val loss 1.344; lr 1.00e-06]\n",
      "214/300: 100%|███| 168/168 [00:00<00:00, 469.88it/s, train loss 3.448 ; val loss 1.259; lr 1.00e-06]\n",
      "215/300: 100%|███| 168/168 [00:00<00:00, 566.25it/s, train loss 2.205 ; val loss 1.344; lr 1.00e-06]\n",
      "216/300: 100%|███| 168/168 [00:00<00:00, 528.46it/s, train loss 1.526 ; val loss 1.660; lr 1.00e-06]\n",
      "217/300: 100%|███| 168/168 [00:00<00:00, 473.07it/s, train loss 1.441 ; val loss 1.169; lr 1.00e-06]\n",
      "218/300: 100%|███| 168/168 [00:00<00:00, 428.90it/s, train loss 2.261 ; val loss 1.155; lr 1.00e-06]\n",
      "219/300: 100%|███| 168/168 [00:00<00:00, 512.24it/s, train loss 1.477 ; val loss 1.179; lr 1.00e-06]\n",
      "220/300: 100%|██| 168/168 [00:00<00:00, 573.61it/s, train loss 13.795 ; val loss 1.229; lr 1.00e-06]\n",
      "221/300: 100%|███| 168/168 [00:00<00:00, 483.33it/s, train loss 8.970 ; val loss 1.578; lr 1.00e-06]\n",
      "222/300: 100%|███| 168/168 [00:00<00:00, 569.87it/s, train loss 4.860 ; val loss 1.232; lr 1.00e-06]\n",
      "223/300: 100%|███| 168/168 [00:00<00:00, 577.87it/s, train loss 1.718 ; val loss 1.634; lr 1.00e-06]\n",
      "224/300: 100%|███| 168/168 [00:00<00:00, 551.16it/s, train loss 2.203 ; val loss 1.392; lr 1.00e-06]\n",
      "225/300: 100%|███| 168/168 [00:00<00:00, 523.06it/s, train loss 4.345 ; val loss 1.496; lr 1.00e-06]\n",
      "226/300: 100%|███| 168/168 [00:00<00:00, 565.49it/s, train loss 9.475 ; val loss 1.146; lr 1.00e-06]\n",
      "227/300: 100%|███| 168/168 [00:00<00:00, 562.94it/s, train loss 1.287 ; val loss 1.157; lr 1.00e-06]\n",
      "228/300: 100%|███| 168/168 [00:00<00:00, 511.28it/s, train loss 5.337 ; val loss 1.345; lr 1.00e-06]\n",
      "229/300: 100%|███| 168/168 [00:00<00:00, 522.21it/s, train loss 2.236 ; val loss 1.300; lr 1.00e-06]\n",
      "230/300: 100%|███| 168/168 [00:00<00:00, 585.00it/s, train loss 4.110 ; val loss 1.731; lr 1.00e-06]\n",
      "231/300: 100%|███| 168/168 [00:00<00:00, 586.00it/s, train loss 3.020 ; val loss 1.247; lr 1.00e-06]\n",
      "232/300: 100%|██| 168/168 [00:00<00:00, 596.63it/s, train loss 25.496 ; val loss 1.608; lr 1.00e-06]\n",
      "233/300: 100%|███| 168/168 [00:00<00:00, 596.40it/s, train loss 4.685 ; val loss 1.740; lr 1.00e-06]\n",
      "234/300: 100%|██| 168/168 [00:00<00:00, 596.21it/s, train loss 14.920 ; val loss 2.389; lr 1.00e-06]\n",
      "235/300: 100%|███| 168/168 [00:00<00:00, 524.77it/s, train loss 2.634 ; val loss 1.306; lr 1.00e-06]\n",
      "236/300: 100%|███| 168/168 [00:00<00:00, 603.06it/s, train loss 4.508 ; val loss 1.232; lr 1.00e-06]\n",
      "237/300: 100%|███| 168/168 [00:00<00:00, 563.17it/s, train loss 3.117 ; val loss 1.267; lr 1.00e-06]\n",
      "238/300: 100%|███| 168/168 [00:00<00:00, 549.17it/s, train loss 8.948 ; val loss 1.545; lr 1.00e-06]\n",
      "239/300: 100%|███| 168/168 [00:00<00:00, 573.45it/s, train loss 2.876 ; val loss 1.299; lr 1.00e-06]\n",
      "240/300: 100%|███| 168/168 [00:00<00:00, 572.92it/s, train loss 4.058 ; val loss 1.216; lr 1.00e-06]\n",
      "241/300: 100%|███| 168/168 [00:00<00:00, 572.69it/s, train loss 1.873 ; val loss 1.672; lr 1.00e-06]\n",
      "242/300: 100%|███| 168/168 [00:00<00:00, 561.14it/s, train loss 1.797 ; val loss 1.209; lr 1.00e-06]\n",
      "243/300: 100%|███| 168/168 [00:00<00:00, 583.06it/s, train loss 6.483 ; val loss 1.460; lr 1.00e-06]\n",
      "244/300: 100%|██| 168/168 [00:00<00:00, 563.44it/s, train loss 11.625 ; val loss 1.895; lr 1.00e-06]\n",
      "245/300: 100%|███| 168/168 [00:00<00:00, 572.73it/s, train loss 4.900 ; val loss 1.142; lr 1.00e-06]\n",
      "246/300: 100%|███| 168/168 [00:00<00:00, 556.15it/s, train loss 3.542 ; val loss 1.368; lr 1.00e-06]\n",
      "247/300: 100%|███| 168/168 [00:00<00:00, 510.70it/s, train loss 2.938 ; val loss 1.209; lr 1.00e-06]\n",
      "248/300: 100%|███| 168/168 [00:00<00:00, 560.84it/s, train loss 8.870 ; val loss 1.273; lr 1.00e-06]\n",
      "249/300: 100%|███| 168/168 [00:00<00:00, 583.69it/s, train loss 1.160 ; val loss 1.347; lr 1.00e-06]\n",
      "250/300: 100%|███| 168/168 [00:00<00:00, 561.45it/s, train loss 4.968 ; val loss 2.120; lr 1.00e-06]\n",
      "251/300: 100%|███| 168/168 [00:00<00:00, 570.80it/s, train loss 3.607 ; val loss 1.278; lr 1.00e-06]\n",
      "252/300: 100%|███| 168/168 [00:00<00:00, 566.60it/s, train loss 3.030 ; val loss 1.210; lr 1.00e-06]\n",
      "253/300: 100%|███| 168/168 [00:00<00:00, 575.01it/s, train loss 6.987 ; val loss 1.622; lr 1.00e-06]\n",
      "254/300: 100%|███| 168/168 [00:00<00:00, 590.70it/s, train loss 7.266 ; val loss 1.156; lr 1.00e-06]\n",
      "255/300: 100%|███| 168/168 [00:00<00:00, 570.24it/s, train loss 3.969 ; val loss 1.219; lr 1.00e-06]\n",
      "256/300: 100%|███| 168/168 [00:00<00:00, 577.38it/s, train loss 1.345 ; val loss 1.522; lr 1.00e-06]\n",
      "257/300: 100%|███| 168/168 [00:00<00:00, 461.05it/s, train loss 2.992 ; val loss 1.265; lr 1.00e-06]\n",
      "258/300: 100%|███| 168/168 [00:00<00:00, 560.26it/s, train loss 1.681 ; val loss 1.247; lr 1.00e-06]\n",
      "259/300: 100%|███| 168/168 [00:00<00:00, 573.75it/s, train loss 7.251 ; val loss 1.438; lr 1.00e-06]\n",
      "260/300: 100%|███| 168/168 [00:00<00:00, 577.50it/s, train loss 2.434 ; val loss 1.285; lr 1.00e-06]\n",
      "261/300: 100%|███| 168/168 [00:00<00:00, 584.29it/s, train loss 3.023 ; val loss 1.455; lr 1.00e-06]\n",
      "262/300: 100%|███| 168/168 [00:00<00:00, 560.21it/s, train loss 3.518 ; val loss 1.243; lr 1.00e-06]\n",
      "263/300: 100%|███| 168/168 [00:00<00:00, 566.14it/s, train loss 3.115 ; val loss 1.437; lr 1.00e-06]\n",
      "264/300: 100%|███| 168/168 [00:00<00:00, 563.72it/s, train loss 3.452 ; val loss 1.221; lr 1.00e-06]\n",
      "265/300: 100%|███| 168/168 [00:00<00:00, 564.08it/s, train loss 4.744 ; val loss 1.258; lr 1.00e-06]\n",
      "266/300: 100%|███| 168/168 [00:00<00:00, 563.52it/s, train loss 7.631 ; val loss 1.207; lr 1.00e-06]\n",
      "267/300: 100%|███| 168/168 [00:00<00:00, 557.53it/s, train loss 8.883 ; val loss 1.332; lr 1.00e-06]\n",
      "268/300: 100%|██| 168/168 [00:00<00:00, 578.80it/s, train loss 10.140 ; val loss 2.275; lr 1.00e-06]\n",
      "269/300: 100%|███| 168/168 [00:00<00:00, 607.70it/s, train loss 5.472 ; val loss 1.526; lr 1.00e-06]\n",
      "270/300: 100%|███| 168/168 [00:00<00:00, 611.19it/s, train loss 2.656 ; val loss 1.233; lr 1.00e-06]\n",
      "271/300: 100%|███| 168/168 [00:00<00:00, 614.14it/s, train loss 3.494 ; val loss 1.167; lr 1.00e-06]\n",
      "272/300: 100%|███| 168/168 [00:00<00:00, 599.66it/s, train loss 2.311 ; val loss 1.511; lr 1.00e-06]\n",
      "273/300: 100%|██| 168/168 [00:00<00:00, 609.97it/s, train loss 18.325 ; val loss 1.234; lr 1.00e-06]\n",
      "274/300: 100%|███| 168/168 [00:00<00:00, 614.43it/s, train loss 4.550 ; val loss 1.281; lr 1.00e-06]\n",
      "275/300: 100%|███| 168/168 [00:00<00:00, 565.36it/s, train loss 3.356 ; val loss 1.246; lr 1.00e-06]\n",
      "276/300: 100%|███| 168/168 [00:00<00:00, 585.98it/s, train loss 1.714 ; val loss 1.149; lr 1.00e-06]\n",
      "277/300: 100%|███| 168/168 [00:00<00:00, 601.92it/s, train loss 6.737 ; val loss 1.337; lr 1.00e-06]\n",
      "278/300: 100%|███| 168/168 [00:00<00:00, 579.30it/s, train loss 1.522 ; val loss 1.432; lr 1.00e-06]\n",
      "279/300: 100%|██| 168/168 [00:00<00:00, 604.22it/s, train loss 10.720 ; val loss 1.386; lr 1.00e-06]\n",
      "280/300: 100%|███| 168/168 [00:00<00:00, 566.60it/s, train loss 5.033 ; val loss 1.422; lr 1.00e-06]\n",
      "281/300: 100%|███| 168/168 [00:00<00:00, 611.46it/s, train loss 3.351 ; val loss 1.632; lr 1.00e-06]\n",
      "282/300: 100%|██| 168/168 [00:00<00:00, 610.88it/s, train loss 11.688 ; val loss 1.199; lr 1.00e-06]\n",
      "283/300: 100%|███| 168/168 [00:00<00:00, 600.35it/s, train loss 0.778 ; val loss 1.161; lr 1.00e-06]\n",
      "284/300: 100%|███| 168/168 [00:00<00:00, 506.62it/s, train loss 2.540 ; val loss 1.185; lr 1.00e-06]\n",
      "285/300: 100%|███| 168/168 [00:00<00:00, 613.95it/s, train loss 2.026 ; val loss 1.213; lr 1.00e-06]\n",
      "286/300: 100%|██| 168/168 [00:00<00:00, 599.54it/s, train loss 14.446 ; val loss 1.489; lr 1.00e-06]\n",
      "287/300: 100%|███| 168/168 [00:00<00:00, 608.95it/s, train loss 0.842 ; val loss 1.282; lr 1.00e-06]\n",
      "288/300: 100%|██| 168/168 [00:00<00:00, 619.19it/s, train loss 10.548 ; val loss 1.373; lr 1.00e-06]\n",
      "289/300: 100%|███| 168/168 [00:00<00:00, 609.86it/s, train loss 3.946 ; val loss 1.333; lr 1.00e-06]\n",
      "290/300: 100%|███| 168/168 [00:00<00:00, 620.46it/s, train loss 6.768 ; val loss 1.356; lr 1.00e-06]\n",
      "291/300: 100%|███| 168/168 [00:00<00:00, 590.23it/s, train loss 1.564 ; val loss 1.239; lr 1.00e-06]\n",
      "292/300: 100%|███| 168/168 [00:00<00:00, 560.63it/s, train loss 4.301 ; val loss 1.585; lr 1.00e-06]\n",
      "293/300: 100%|███| 168/168 [00:00<00:00, 572.07it/s, train loss 2.783 ; val loss 1.450; lr 1.00e-06]\n",
      "294/300: 100%|███| 168/168 [00:00<00:00, 597.32it/s, train loss 1.593 ; val loss 1.273; lr 1.00e-06]\n",
      "295/300: 100%|███| 168/168 [00:00<00:00, 573.06it/s, train loss 7.286 ; val loss 1.157; lr 1.00e-06]\n",
      "296/300: 100%|███| 168/168 [00:00<00:00, 592.29it/s, train loss 3.900 ; val loss 1.156; lr 1.00e-06]\n",
      "297/300: 100%|███| 168/168 [00:00<00:00, 566.57it/s, train loss 8.708 ; val loss 1.939; lr 1.00e-06]\n",
      "298/300: 100%|███| 168/168 [00:00<00:00, 542.31it/s, train loss 5.538 ; val loss 1.315; lr 1.00e-06]\n",
      "299/300: 100%|███| 168/168 [00:00<00:00, 570.64it/s, train loss 4.309 ; val loss 1.249; lr 1.00e-06]\n",
      "300/300: 100%|███| 168/168 [00:00<00:00, 597.58it/s, train loss 6.694 ; val loss 1.190; lr 1.00e-06]\n"
     ]
    }
   ],
   "source": [
    "train_loader = DataLoader(COVID19Dataset(x_dataset.values, y_dataset.values),   # 使用全部的训练数据\n",
    "                            batch_size=16, \n",
    "                            shuffle=True, \n",
    "                            num_workers=0, \n",
    "                            drop_last=True)\n",
    "\n",
    "val_loader = DataLoader(COVID19Dataset(x_val.values, y_val.values),   # 从训练数据中拿出一部分测试（其实这部分数据也参加了训练）\n",
    "                        batch_size=8, \n",
    "                        shuffle=False)\n",
    "\n",
    "device = 'cuda' if torch.cuda.is_available() else 'cpu'\n",
    "model = Model(input_channel=len(selected_feature_idx[1:])).to(device=device)\n",
    "loss_fcn = torch.nn.MSELoss(reduction='mean')\n",
    "optimizer = torch.optim.SGD(model.parameters(), lr=0.0001, momentum=0.9, weight_decay=1e-4, nesterov=True)\n",
    "lr_scheduler = torch.optim.lr_scheduler.MultiStepLR(optimizer, milestones=[100, 200], gamma=0.1)\n",
    "\n",
    "total_epoch = 300\n",
    "for epoch in range(total_epoch):\n",
    "    with tqdm(train_loader, total=len(train_loader), ncols=100) as tbar:\n",
    "        tbar.set_description(f\"{epoch+1}/{total_epoch}\")\n",
    "        for i, (x, y) in enumerate(train_loader):\n",
    "            # print(x, y)\n",
    "            model.train()\n",
    "            x = x.float().to(device)\n",
    "            preds = model(x).squeeze(dim=1)                \n",
    "            loss = loss_fcn(y.float().to(device), preds)\n",
    "            optimizer.zero_grad()\n",
    "            loss.backward()\n",
    "            optimizer.step()\n",
    "\n",
    "            if i % 100 == 0:\n",
    "                tot_mse = []\n",
    "                for j, (x, y) in enumerate(val_loader):\n",
    "                    model.eval()\n",
    "                    preds = model(x.float().to(device)).squeeze(dim=1)\n",
    "                    tot_mse.append(loss_fcn(y.float().to(device), preds).detach().cpu().numpy())\n",
    "                tbar.set_postfix_str(f'train loss {loss.item():.3f} ; val loss {np.mean(tot_mse):.3f}; lr {lr_scheduler.get_last_lr()[0]:.2e}')\n",
    "            tbar.update(1)\n",
    "            \n",
    "    lr_scheduler.step()"
   ]
  },
  {
   "cell_type": "markdown",
   "metadata": {},
   "source": [
    "#### Testing"
   ]
  },
  {
   "cell_type": "code",
   "execution_count": 46,
   "metadata": {},
   "outputs": [],
   "source": [
    "# for j, (x, y) in enumerate(val_loader):\n",
    "#     model.eval()\n",
    "#     preds = model(x.float().to(device)).squeeze(dim=1)\n",
    "#     print(preds, y, sep='\\n')\n",
    "#     print(f\"{'=' * 80}\")"
   ]
  },
  {
   "cell_type": "code",
   "execution_count": 47,
   "metadata": {},
   "outputs": [],
   "source": [
    "test_dataset = pd.read_csv(test_data_path)\n",
    "test_dataset = test_dataset[test_dataset.columns[1:]]\n",
    "test_dataset = feature_process_pipeline.transform(test_dataset.copy())\n",
    "\n",
    "test_dataset = test_dataset[selected_feature_idx[1:]]\n",
    "test_loader = DataLoader(COVID19Dataset(test_dataset.values, None), batch_size=16, shuffle=False)\n",
    "\n",
    "model.eval()\n",
    "preds_all = []\n",
    "for x in test_loader:\n",
    "    x = x.float().to(device)\n",
    "    preds = model(x).detach().cpu().numpy().squeeze()\n",
    "    # print(preds)\n",
    "    preds_all.extend(preds)\n",
    "\n",
    "save_pred(preds_all, \"./dl_selected_maxmin_normalized_feature.txt\")"
   ]
  },
  {
   "cell_type": "code",
   "execution_count": null,
   "metadata": {},
   "outputs": [],
   "source": []
  }
 ],
 "metadata": {
  "interpreter": {
   "hash": "de928e550a88750d4b4eaac032b56746d48a43a47ab39c53bff65f93a9980f92"
  },
  "kernelspec": {
   "display_name": "Python 3 (ipykernel)",
   "language": "python",
   "name": "python3"
  },
  "language_info": {
   "codemirror_mode": {
    "name": "ipython",
    "version": 3
   },
   "file_extension": ".py",
   "mimetype": "text/x-python",
   "name": "python",
   "nbconvert_exporter": "python",
   "pygments_lexer": "ipython3",
   "version": "3.8.11"
  }
 },
 "nbformat": 4,
 "nbformat_minor": 4
}
